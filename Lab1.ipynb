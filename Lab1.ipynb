{
  "nbformat": 4,
  "nbformat_minor": 0,
  "metadata": {
    "colab": {
      "name": "Lab1.ipynb",
      "provenance": [],
      "authorship_tag": "ABX9TyP8M/yyCH8HDocDnIZ0jdzs",
      "include_colab_link": true
    },
    "kernelspec": {
      "name": "python3",
      "display_name": "Python 3"
    },
    "language_info": {
      "name": "python"
    }
  },
  "cells": [
    {
      "cell_type": "markdown",
      "metadata": {
        "id": "view-in-github",
        "colab_type": "text"
      },
      "source": [
        "<a href=\"https://colab.research.google.com/github/Maria-Vereina/LAB/blob/main/Lab1.ipynb\" target=\"_parent\"><img src=\"https://colab.research.google.com/assets/colab-badge.svg\" alt=\"Open In Colab\"/></a>"
      ]
    },
    {
      "cell_type": "markdown",
      "source": [
        "**Лабораторная работа № 1 NumPy**"
      ],
      "metadata": {
        "id": "rjRdowPeoYah"
      }
    },
    {
      "cell_type": "code",
      "source": [
        "import numpy as np\n",
        "import timeit\n",
        "import time"
      ],
      "metadata": {
        "id": "ZMT1zKpwoOsH"
      },
      "execution_count": 2,
      "outputs": []
    },
    {
      "cell_type": "markdown",
      "source": [
        "**1.1.** Считайте число n. Создайте в переменной Z Numpy вектор из нулей длины n.\n",
        "\n",
        "**Примечание**. В этой задаче не нужно ничего выводить на печать. Только создать вектор Z."
      ],
      "metadata": {
        "id": "SDxjoBtGnskM"
      }
    },
    {
      "cell_type": "code",
      "execution_count": null,
      "metadata": {
        "colab": {
          "base_uri": "https://localhost:8080/"
        },
        "id": "WgbGBZ2Yj-FH",
        "outputId": "18323996-d6a2-48ae-8346-949dda4f6ca2"
      },
      "outputs": [
        {
          "name": "stdout",
          "output_type": "stream",
          "text": [
            "5\n"
          ]
        },
        {
          "output_type": "execute_result",
          "data": {
            "text/plain": [
              "array([0., 0., 0., 0., 0.])"
            ]
          },
          "metadata": {},
          "execution_count": 3
        }
      ],
      "source": [
        "#способ 1 - с NumPy\n",
        "n = int(input())\n",
        "Z = np.zeros(n)\n",
        "Z"
      ]
    },
    {
      "cell_type": "code",
      "source": [
        "#способ 2 - без NumPy\n",
        "Z = ''\n",
        "n = int(input())\n",
        "Z += '['\n",
        "while n > 0:\n",
        "  Z += '0. '\n",
        "  n -= 1\n",
        "Z = Z[0:-1]\n",
        "Z += ']'\n",
        "Z"
      ],
      "metadata": {
        "colab": {
          "base_uri": "https://localhost:8080/",
          "height": 53
        },
        "id": "_-MZv-eTi0Ph",
        "outputId": "bdce6f01-e35b-47aa-9276-81d8dac1a709"
      },
      "execution_count": null,
      "outputs": [
        {
          "name": "stdout",
          "output_type": "stream",
          "text": [
            "5\n"
          ]
        },
        {
          "output_type": "execute_result",
          "data": {
            "text/plain": [
              "'[0. 0. 0. 0. 0.]'"
            ],
            "application/vnd.google.colaboratory.intrinsic+json": {
              "type": "string"
            }
          },
          "metadata": {},
          "execution_count": 4
        }
      ]
    },
    {
      "cell_type": "code",
      "source": [
        "def with_n(n):\n",
        "  Z = np.zeros(n)\n",
        "  return Z\n",
        "\n",
        "\n",
        "def without_n(n):\n",
        "  Z = ''\n",
        "  Z += '['\n",
        "  while n > 0:\n",
        "    Z += '0. '\n",
        "    n -= 1\n",
        "  Z = Z[0:-1]\n",
        "  Z += ']'\n",
        "  return Z\n",
        "\n",
        "\n",
        "if __name__ == '__main__':\n",
        "  start_time = timeit.default_timer()\n",
        "  with_n(n)\n",
        "  range_time_1 = timeit.default_timer() - start_time\n",
        "\n",
        "  start_time = timeit.default_timer()\n",
        "  without_n(n)\n",
        "  arange_time_1 = timeit.default_timer() - start_time\n",
        "\n",
        "print(f' время работы решения задачи с numpy: {range_time_1}')\n",
        "print(f' время работы решения задачи без numpy: {arange_time_1}')"
      ],
      "metadata": {
        "colab": {
          "base_uri": "https://localhost:8080/"
        },
        "id": "kobVW0ltudtU",
        "outputId": "ff70b42d-89d6-41a2-de8e-8cf613ab1899"
      },
      "execution_count": null,
      "outputs": [
        {
          "output_type": "stream",
          "name": "stdout",
          "text": [
            " время работы решения задачи с numpy: 1.451600019208854e-05\n",
            " время работы решения задачи без numpy: 3.3000001167238224e-06\n"
          ]
        }
      ]
    },
    {
      "cell_type": "markdown",
      "source": [
        "**1.2.** Посчитайте размер матрицы Z в байтах и выведите его на печать."
      ],
      "metadata": {
        "id": "1IgBiUgSp3kk"
      }
    },
    {
      "cell_type": "code",
      "source": [
        "#способ 1\n",
        "Z=np.zeros((10,10))\n",
        "print(Z.nbytes)"
      ],
      "metadata": {
        "colab": {
          "base_uri": "https://localhost:8080/"
        },
        "id": "KmlEQuyqwgKY",
        "outputId": "ee1bc12b-085c-4659-b029-0e90535d4460"
      },
      "execution_count": null,
      "outputs": [
        {
          "output_type": "stream",
          "name": "stdout",
          "text": [
            "800\n"
          ]
        }
      ]
    },
    {
      "cell_type": "code",
      "source": [
        "#cпособ 2\n",
        "Z=np.zeros((10,10))\n",
        "print(Z.itemsize*Z.size)"
      ],
      "metadata": {
        "colab": {
          "base_uri": "https://localhost:8080/"
        },
        "id": "J84XBuqQiLuW",
        "outputId": "77d67e81-cee0-4ac0-9b08-9caa3e595dc2"
      },
      "execution_count": null,
      "outputs": [
        {
          "output_type": "stream",
          "name": "stdout",
          "text": [
            "800\n"
          ]
        }
      ]
    },
    {
      "cell_type": "code",
      "source": [
        "def sposob1():\n",
        "  Z=np.zeros((10,10))\n",
        "  print(Z.nbytes)\n",
        "\n",
        "def sposob2():\n",
        "  Z=np.zeros((10,10))\n",
        "  print(Z.itemsize*Z.size)\n",
        "\n",
        "if __name__ == '__main__':\n",
        "  start_time = timeit.default_timer()\n",
        "  sposob1()\n",
        "  range_time_1 = timeit.default_timer() - start_time\n",
        "\n",
        "  start_time = timeit.default_timer()\n",
        "  sposob2()\n",
        "  arange_time_1 = timeit.default_timer() - start_time\n",
        "\n",
        "print(f' время работы решения способом 1: {range_time_1}')\n",
        "print(f' время работы решения cпособом 2: {arange_time_1}')"
      ],
      "metadata": {
        "colab": {
          "base_uri": "https://localhost:8080/"
        },
        "id": "g6PNVFp5wHIx",
        "outputId": "100288d8-66d1-4356-dfdb-d46e9286d193"
      },
      "execution_count": null,
      "outputs": [
        {
          "output_type": "stream",
          "name": "stdout",
          "text": [
            "800\n",
            "800\n",
            " время работы решения способом 1: 0.0009337440001218056\n",
            " время работы решения cпособом 2: 0.0005201660001148412\n"
          ]
        }
      ]
    },
    {
      "cell_type": "code",
      "source": [
        "#cпособ 1\n",
        "Z = np.array([1, 2, 3], dtype=np.float64)\n",
        "print(Z.nbytes)"
      ],
      "metadata": {
        "colab": {
          "base_uri": "https://localhost:8080/"
        },
        "id": "Gha7yguriUz9",
        "outputId": "58a2a506-ed02-42ff-8920-4c6399d185a7"
      },
      "execution_count": null,
      "outputs": [
        {
          "output_type": "stream",
          "name": "stdout",
          "text": [
            "24\n"
          ]
        }
      ]
    },
    {
      "cell_type": "code",
      "source": [
        "#cпособ 2\n",
        "Z = np.array([1, 2, 3], dtype=np.float64)\n",
        "print(Z.itemsize*Z.size)"
      ],
      "metadata": {
        "colab": {
          "base_uri": "https://localhost:8080/"
        },
        "id": "LEK22NPbqDZA",
        "outputId": "bfb2091b-614d-4bda-a213-f5c79b811bc4"
      },
      "execution_count": null,
      "outputs": [
        {
          "output_type": "stream",
          "name": "stdout",
          "text": [
            "24\n"
          ]
        }
      ]
    },
    {
      "cell_type": "code",
      "source": [
        "def sposob1():\n",
        "  Z = np.array([1, 2, 3], dtype=np.float64)\n",
        "  print(Z.nbytes)\n",
        "\n",
        "def sposob2():\n",
        "  Z = np.array([1, 2, 3], dtype=np.float64)\n",
        "  print(Z.itemsize*Z.size)\n",
        "\n",
        "if __name__ == '__main__':\n",
        "  start_time = timeit.default_timer()\n",
        "  sposob1()\n",
        "  range_time_1 = timeit.default_timer() - start_time\n",
        "\n",
        "  start_time = timeit.default_timer()\n",
        "  sposob2()\n",
        "  arange_time_1 = timeit.default_timer() - start_time\n",
        "\n",
        "print(f' время работы решения способом 1: {range_time_1}')\n",
        "print(f' время работы решения cпособом 2: {arange_time_1}')"
      ],
      "metadata": {
        "colab": {
          "base_uri": "https://localhost:8080/"
        },
        "id": "fQfYj0Nyymdf",
        "outputId": "ba88ed82-f607-4312-f4bd-aa46932563d9"
      },
      "execution_count": null,
      "outputs": [
        {
          "output_type": "stream",
          "name": "stdout",
          "text": [
            "24\n",
            "24\n",
            " время работы решения способом 1: 0.0009087969999654888\n",
            " время работы решения cпособом 2: 0.0003141760000744398\n"
          ]
        }
      ]
    },
    {
      "cell_type": "markdown",
      "source": [
        "**1.3.** Считайте 2 числа:\n",
        "\n",
        "\n",
        "*   n - размер Numpy вектора\n",
        "*   x - координата элемента вектора, который должен быть равен 1.\n",
        "\n",
        "Остальные элементы вектора\n",
        "должны быть равны 0. Сохраните вектор в переменную Z.\n",
        "\n",
        "**Примечание**. В этой задаче не нужно ничего выводить на печать. Только создать вектор Z."
      ],
      "metadata": {
        "id": "0BOsFcXWxQ1O"
      }
    },
    {
      "cell_type": "code",
      "source": [
        "#способ 1\n",
        "n=int(input())\n",
        "x=int(input())\n",
        "Z = np.zeros(n)\n",
        "Z[x-1]=1\n",
        "Z"
      ],
      "metadata": {
        "colab": {
          "base_uri": "https://localhost:8080/"
        },
        "id": "39TlRbvZxQTI",
        "outputId": "56e7fd76-b995-4776-f616-83dd5bbcf6de"
      },
      "execution_count": null,
      "outputs": [
        {
          "name": "stdout",
          "output_type": "stream",
          "text": [
            "10\n",
            "4\n"
          ]
        },
        {
          "output_type": "execute_result",
          "data": {
            "text/plain": [
              "array([0., 0., 0., 1., 0., 0., 0., 0., 0., 0.])"
            ]
          },
          "metadata": {},
          "execution_count": 53
        }
      ]
    },
    {
      "cell_type": "code",
      "source": [
        "#способ 2\n",
        "n=int(input())\n",
        "x=int(input())\n",
        "Z = np.zeros(n-1)\n",
        "Z = np.insert(Z, x-1, 1)\n",
        "Z"
      ],
      "metadata": {
        "colab": {
          "base_uri": "https://localhost:8080/"
        },
        "id": "Xw1nclrJkbiV",
        "outputId": "fed788f1-ed45-4ba7-866a-1d8ba1b512c4"
      },
      "execution_count": null,
      "outputs": [
        {
          "name": "stdout",
          "output_type": "stream",
          "text": [
            "10\n",
            "4\n"
          ]
        },
        {
          "output_type": "execute_result",
          "data": {
            "text/plain": [
              "array([0., 0., 0., 1., 0., 0., 0., 0., 0., 0.])"
            ]
          },
          "metadata": {},
          "execution_count": 54
        }
      ]
    },
    {
      "cell_type": "code",
      "source": [
        "n=int(input())\n",
        "x=int(input())\n",
        "\n",
        "def sposob1():\n",
        "  Z = np.zeros(n)\n",
        "  Z[x-1]=1\n",
        "  Z\n",
        "\n",
        "def sposob2():\n",
        "  Z = np.zeros(n-1)\n",
        "  Z = np.insert(Z, x-1, 1)\n",
        "  Z\n",
        "\n",
        "if __name__ == '__main__':\n",
        "  start_time = timeit.default_timer()\n",
        "  sposob1()\n",
        "  range_time_1 = timeit.default_timer() - start_time\n",
        "\n",
        "  start_time = timeit.default_timer()\n",
        "  sposob2()\n",
        "  arange_time_1 = timeit.default_timer() - start_time\n",
        "\n",
        "print(f' время работы решения способом 1: {range_time_1}')\n",
        "print(f' время работы решения cпособом 2: {arange_time_1}')"
      ],
      "metadata": {
        "colab": {
          "base_uri": "https://localhost:8080/"
        },
        "id": "T3hW9CXEzVtc",
        "outputId": "421d4382-9d30-4eb2-da82-78f915e6bbdd"
      },
      "execution_count": null,
      "outputs": [
        {
          "output_type": "stream",
          "name": "stdout",
          "text": [
            "10\n",
            "4\n",
            " время работы решения способом 1: 2.6703000003180932e-05\n",
            " время работы решения cпособом 2: 0.00012838600014219992\n"
          ]
        }
      ]
    },
    {
      "cell_type": "markdown",
      "source": [
        "**1.4**. Считайте 2 числа n, m. Создайте вектор Z состоящий из чисел от n до m с шагом 1.\n",
        "\n",
        "**Примечание**. В этой задаче не нужно ничего выводить на печать. Только создать вектор Z."
      ],
      "metadata": {
        "id": "yUH-pmFZzt1Y"
      }
    },
    {
      "cell_type": "code",
      "source": [
        "#способ 1\n",
        "n=int(input())\n",
        "m=int(input())\n",
        "Z = np.arange(n, m+1, 1)\n",
        "Z"
      ],
      "metadata": {
        "colab": {
          "base_uri": "https://localhost:8080/"
        },
        "id": "c8K2QUuszVDl",
        "outputId": "c23afd15-8266-425d-f1ec-5744b6886320"
      },
      "execution_count": null,
      "outputs": [
        {
          "name": "stdout",
          "output_type": "stream",
          "text": [
            "10\n",
            "50\n"
          ]
        },
        {
          "output_type": "execute_result",
          "data": {
            "text/plain": [
              "array([10, 11, 12, 13, 14, 15, 16, 17, 18, 19, 20, 21, 22, 23, 24, 25, 26,\n",
              "       27, 28, 29, 30, 31, 32, 33, 34, 35, 36, 37, 38, 39, 40, 41, 42, 43,\n",
              "       44, 45, 46, 47, 48, 49, 50])"
            ]
          },
          "metadata": {},
          "execution_count": 42
        }
      ]
    },
    {
      "cell_type": "code",
      "source": [
        "n=int(input())\n",
        "m=int(input())\n",
        "\n",
        "def sposob1():\n",
        "  Z = np.arange(n, m+1, 1)\n",
        "  Z\n",
        "\n",
        "if __name__ == '__main__':\n",
        "  start_time = timeit.default_timer()\n",
        "  sposob1()\n",
        "  range_time_1 = timeit.default_timer() - start_time\n",
        "print(f' время работы решения способом 1: {range_time_1}')"
      ],
      "metadata": {
        "id": "sMM1w5BFpu2L",
        "colab": {
          "base_uri": "https://localhost:8080/"
        },
        "outputId": "0a6ac8a4-52f4-4343-bb19-abc0b61bf92f"
      },
      "execution_count": null,
      "outputs": [
        {
          "output_type": "stream",
          "name": "stdout",
          "text": [
            "10\n",
            "50\n",
            " время работы решения способом 1: 4.694699964602478e-05\n"
          ]
        }
      ]
    },
    {
      "cell_type": "markdown",
      "source": [
        "**1.5**. Дан вектор Z. \"Разверните\" его\n",
        "\n",
        "**Примечание**. В этой задаче не нужно ничего выводить на печать или считывать. Только\n",
        "развернуть уже созданный вектор Z.\n"
      ],
      "metadata": {
        "id": "uJLlqtLl0CH5"
      }
    },
    {
      "cell_type": "code",
      "source": [
        "Z = np.array([1, 2, 3, 4])\n",
        "Z = Z[::-1]\n",
        "Z"
      ],
      "metadata": {
        "colab": {
          "base_uri": "https://localhost:8080/"
        },
        "id": "4NCquwc9ztmv",
        "outputId": "5e787257-f4a9-4059-d6e3-00bf30ddd7e7"
      },
      "execution_count": 17,
      "outputs": [
        {
          "output_type": "execute_result",
          "data": {
            "text/plain": [
              "array([4, 3, 2, 1])"
            ]
          },
          "metadata": {},
          "execution_count": 17
        }
      ]
    },
    {
      "cell_type": "code",
      "source": [
        "def sposob1():\n",
        "  Z = np.array([1, 2, 3, 4])\n",
        "  Z = Z[::-1]\n",
        "  Z\n",
        "\n",
        "if __name__ == '__main__':\n",
        "  start_time = timeit.default_timer()\n",
        "  sposob1()\n",
        "  range_time_1 = timeit.default_timer() - start_time\n",
        "print(f' время работы решения способом 1: {range_time_1}')"
      ],
      "metadata": {
        "colab": {
          "base_uri": "https://localhost:8080/"
        },
        "id": "rwySUaYZ0Zes",
        "outputId": "dc41d3d2-e76e-4805-b36d-f9f589fd8bf6"
      },
      "execution_count": 18,
      "outputs": [
        {
          "output_type": "stream",
          "name": "stdout",
          "text": [
            " время работы решения способом 1: 3.7772000268887496e-05\n"
          ]
        }
      ]
    },
    {
      "cell_type": "markdown",
      "source": [
        "**1.6**. Считайте 3 числа:\n",
        "\n",
        " n - количество элементов матрицы\n",
        "\n",
        " m и k - размеры матрицы (число строк и столбцов соответственно)\n",
        "\n",
        "Заполните матрицу Z числами от 0 до n-1 по порядку (сперва строки, потом столбцы).\n",
        "Гарантируется, что m*k = n, т.е. все элементы \"влезут\" в матрицу и не останется\n",
        "пустых мест.\n",
        "\n",
        "**Примечание**. В этой задаче не нужно ничего выводить на печать. Только создать матрицу Z.\n"
      ],
      "metadata": {
        "id": "U6FJYg5D0YIN"
      }
    },
    {
      "cell_type": "code",
      "source": [
        "n=int(input())\n",
        "m=int(input())\n",
        "k=int(input())\n",
        "Z = np.arange(n).reshape(m,k)\n",
        "Z"
      ],
      "metadata": {
        "colab": {
          "base_uri": "https://localhost:8080/"
        },
        "id": "BPnsIITJ0tP-",
        "outputId": "552090d0-63a4-47d8-bd5d-fb10f0e6c76b"
      },
      "execution_count": null,
      "outputs": [
        {
          "name": "stdout",
          "output_type": "stream",
          "text": [
            "6\n",
            "2\n",
            "3\n"
          ]
        },
        {
          "output_type": "execute_result",
          "data": {
            "text/plain": [
              "array([[0, 1, 2],\n",
              "       [3, 4, 5]])"
            ]
          },
          "metadata": {},
          "execution_count": 48
        }
      ]
    },
    {
      "cell_type": "code",
      "source": [
        "n=int(input())\n",
        "m=int(input())\n",
        "k=int(input())\n",
        "\n",
        "def sposob1():\n",
        "  Z = np.arange(n).reshape(m,k)\n",
        "  Z\n",
        "\n",
        "if __name__ == '__main__':\n",
        "  start_time = timeit.default_timer()\n",
        "  sposob1()\n",
        "  range_time_1 = timeit.default_timer() - start_time\n",
        "print(f' время работы решения способом 1: {range_time_1}')"
      ],
      "metadata": {
        "colab": {
          "base_uri": "https://localhost:8080/"
        },
        "id": "GiXVzxi_1NeM",
        "outputId": "6cb6e260-c887-4f22-a9c0-f144a7003f5c"
      },
      "execution_count": null,
      "outputs": [
        {
          "output_type": "stream",
          "name": "stdout",
          "text": [
            "6\n",
            "2\n",
            "3\n",
            " время работы решения способом 1: 3.207400004612282e-05\n"
          ]
        }
      ]
    },
    {
      "cell_type": "markdown",
      "source": [
        "**1.7.** Дан вектор Z. Запишите в переменную NonZerros индексы ненулевых элементов.\n",
        "\n",
        "**Примечание**. В этой задаче не нужно ничего считывать или выводить на печать. Матрица Z\n",
        "уже готова, просто создайте NonZerros.\n"
      ],
      "metadata": {
        "id": "By4bDEIN1dvQ"
      }
    },
    {
      "cell_type": "code",
      "source": [
        "NonZerros = np.nonzero([1, 0, 2, 0, 3, 0, 4])\n",
        "NonZerros"
      ],
      "metadata": {
        "colab": {
          "base_uri": "https://localhost:8080/"
        },
        "id": "9_0QKfOm1qza",
        "outputId": "26146f8d-d9e8-4247-9238-c75c66fb4d3b"
      },
      "execution_count": null,
      "outputs": [
        {
          "output_type": "execute_result",
          "data": {
            "text/plain": [
              "(array([0, 2, 4, 6]),)"
            ]
          },
          "metadata": {},
          "execution_count": 52
        }
      ]
    },
    {
      "cell_type": "code",
      "source": [
        "def sposob1():\n",
        "  NonZerros = np.nonzero([1, 0, 2, 0, 3, 0, 4])\n",
        "  NonZerros\n",
        "\n",
        "if __name__ == '__main__':\n",
        "  start_time = timeit.default_timer()\n",
        "  sposob1()\n",
        "  range_time_1 = timeit.default_timer() - start_time\n",
        "print(f' время работы решения способом 1: {range_time_1}')"
      ],
      "metadata": {
        "colab": {
          "base_uri": "https://localhost:8080/"
        },
        "id": "Fmy7R3lG2XiY",
        "outputId": "f4c22bdd-72ca-4848-e6f4-864511838c1e"
      },
      "execution_count": null,
      "outputs": [
        {
          "output_type": "stream",
          "name": "stdout",
          "text": [
            " время работы решения способом 1: 5.927600022914703e-05\n"
          ]
        }
      ]
    },
    {
      "cell_type": "markdown",
      "source": [
        "**1.8.** Считайте число n. Создайте единичную матрицу размера n, сохраните результат в\n",
        "переменную Z.\n",
        "\n",
        "**Примечание**. В этой задаче не нужно ничего выводить на печать. Только создать матрицу Z"
      ],
      "metadata": {
        "id": "ZKamYnFv3zcs"
      }
    },
    {
      "cell_type": "code",
      "source": [
        "#способ 1 - с NumPy\n",
        "n = int(input('Введите число: '))\n",
        "Z = np.eye(n)\n",
        "Z"
      ],
      "metadata": {
        "colab": {
          "base_uri": "https://localhost:8080/"
        },
        "id": "kYDrrhrr4J-9",
        "outputId": "125f447b-8117-49a4-8fed-db53bf43eade"
      },
      "execution_count": null,
      "outputs": [
        {
          "name": "stdout",
          "output_type": "stream",
          "text": [
            "Введите число: 3\n"
          ]
        },
        {
          "output_type": "execute_result",
          "data": {
            "text/plain": [
              "array([[1., 0., 0.],\n",
              "       [0., 1., 0.],\n",
              "       [0., 0., 1.]])"
            ]
          },
          "metadata": {},
          "execution_count": 54
        }
      ]
    },
    {
      "cell_type": "code",
      "source": [
        "#способ 2 - без NumPy\n",
        "n = int(input('Введите число: '))\n",
        "\n",
        "Z = []\n",
        "for i in range(n):\n",
        "    Z.append([])\n",
        "    for g in range(n):\n",
        "        if i == g:\n",
        "            Z[i].append(1) \n",
        "        else: \n",
        "            Z[i].append(0)    \n",
        "for i in range(n):\n",
        "    print(Z[i])"
      ],
      "metadata": {
        "colab": {
          "base_uri": "https://localhost:8080/"
        },
        "id": "z_emmSN84VpE",
        "outputId": "b0aae9db-c648-4443-cc2f-0348429d1cf5"
      },
      "execution_count": null,
      "outputs": [
        {
          "output_type": "stream",
          "name": "stdout",
          "text": [
            "Введите число: 3\n",
            "[1, 0, 0]\n",
            "[0, 1, 0]\n",
            "[0, 0, 1]\n"
          ]
        }
      ]
    },
    {
      "cell_type": "code",
      "source": [
        "n = int(input('Введите число: '))\n",
        "\n",
        "def with_n(n):\n",
        "  Z = np.eye(n)\n",
        "\n",
        "def without_n(n):\n",
        "  Z = []\n",
        "  for i in range(n):\n",
        "      Z.append([])\n",
        "      for g in range(n):\n",
        "          if i == g:\n",
        "              Z[i].append(1) \n",
        "          else: \n",
        "            Z[i].append(0)\n",
        "\n",
        "\n",
        "if __name__ == '__main__':\n",
        "  start_time = timeit.default_timer()\n",
        "  with_n(n)\n",
        "  range_time_1 = timeit.default_timer() - start_time\n",
        "\n",
        "  start_time = timeit.default_timer()\n",
        "  without_n(n)\n",
        "  arange_time_1 = timeit.default_timer() - start_time\n",
        "\n",
        "print(f' время работы решения задачи с numpy: {range_time_1}')\n",
        "print(f' время работы решения задачи без numpy: {arange_time_1}')\n",
        "\n",
        "#Вывод: если размер матрицы небольшой, быстрее делать через Python, и наоборот"
      ],
      "metadata": {
        "colab": {
          "base_uri": "https://localhost:8080/"
        },
        "id": "qY0s1L8o5FjN",
        "outputId": "ce10f0a2-e520-4487-c886-b42242bdc6f2"
      },
      "execution_count": null,
      "outputs": [
        {
          "output_type": "stream",
          "name": "stdout",
          "text": [
            "Введите число: 3\n",
            " время работы решения задачи с numpy: 4.9670000407786574e-05\n",
            " время работы решения задачи без numpy: 1.0240999472443946e-05\n"
          ]
        }
      ]
    },
    {
      "cell_type": "markdown",
      "source": [
        "**1.9** Считайте 3 числа: n, m, l.. Зафиксируйте значение генератора случайных чисел Numpy\n",
        "с помощью numpy.random.seed(42) . Создайте матрицу n*m*l из случайных чисел (от 0 до 1) и\n",
        "сохраните результат в переменную Z.\n",
        "\n",
        "**Примечание**. В этой задаче не нужно ничего выводить на печать. Только создать матрицу Z."
      ],
      "metadata": {
        "id": "V3JJnOEb6VRT"
      }
    },
    {
      "cell_type": "code",
      "source": [
        "n = int(input())\n",
        "m = int(input())\n",
        "l = int(input())\n",
        "np.random.seed(42)\n",
        "Z = np.random.random((n,m,l))\n",
        "Z"
      ],
      "metadata": {
        "colab": {
          "base_uri": "https://localhost:8080/"
        },
        "id": "fmVUfjfZ6omw",
        "outputId": "56e109b9-a2e2-423f-960b-2e3053cad1f7"
      },
      "execution_count": null,
      "outputs": [
        {
          "name": "stdout",
          "output_type": "stream",
          "text": [
            "2\n",
            "2\n",
            "2\n"
          ]
        },
        {
          "output_type": "execute_result",
          "data": {
            "text/plain": [
              "array([[[0.37454012, 0.95071431],\n",
              "        [0.73199394, 0.59865848]],\n",
              "\n",
              "       [[0.15601864, 0.15599452],\n",
              "        [0.05808361, 0.86617615]]])"
            ]
          },
          "metadata": {},
          "execution_count": 6
        }
      ]
    },
    {
      "cell_type": "code",
      "source": [
        "n = int(input())\n",
        "m = int(input())\n",
        "l = int(input())\n",
        "\n",
        "def sposob1():\n",
        "  np.random.seed(42)\n",
        "  Z = np.random.random((n,m,l))\n",
        "  Z\n",
        "\n",
        "if __name__ == '__main__':\n",
        "  start_time = timeit.default_timer()\n",
        "  sposob1()\n",
        "  range_time_1 = timeit.default_timer() - start_time\n",
        "print(f' время работы решения способом 1: {range_time_1}')"
      ],
      "metadata": {
        "colab": {
          "base_uri": "https://localhost:8080/"
        },
        "id": "wMJuqFK27ckg",
        "outputId": "9363ed8b-3573-49fb-e7d0-118a120b9e84"
      },
      "execution_count": null,
      "outputs": [
        {
          "output_type": "stream",
          "name": "stdout",
          "text": [
            "2\n",
            "2\n",
            "2\n",
            " время работы решения способом 1: 4.9405000027036294e-05\n"
          ]
        }
      ]
    },
    {
      "cell_type": "markdown",
      "source": [
        "**1.10.** Считайте 2 числа: n, m. Зафиксируйте значение генератора случайных чисел Numpy с\n",
        "помощью numpy.random.seed(42). Создайте матрицу n*m из случайных чисел (от 0 до 1).\n",
        "\n",
        "Выведите на печать значение минимального и максимального чисел в получившейся\n",
        "матрице (каждое с новой строки)."
      ],
      "metadata": {
        "id": "XgBPAZXI7ktY"
      }
    },
    {
      "cell_type": "code",
      "source": [
        "n=int(input())\n",
        "m=int(input())\n",
        "np.random.seed(42)\n",
        "Z=np.random.random((n,m))\n",
        "print(Z.min())\n",
        "print(Z.max())"
      ],
      "metadata": {
        "colab": {
          "base_uri": "https://localhost:8080/"
        },
        "id": "QXErIK_Z7kWg",
        "outputId": "d9d5a9a1-36e5-427a-b1e6-001e008b25b1"
      },
      "execution_count": null,
      "outputs": [
        {
          "output_type": "stream",
          "name": "stdout",
          "text": [
            "10\n",
            "10\n",
            "0.005522117123602399\n",
            "0.9868869366005173\n"
          ]
        }
      ]
    },
    {
      "cell_type": "code",
      "source": [
        "n=int(input())\n",
        "m=int(input())\n",
        "\n",
        "def sposob1():\n",
        "  np.random.seed(42)\n",
        "  Z=np.random.random((n,m))\n",
        "print(Z.min())\n",
        "print(Z.max())\n",
        "\n",
        "if __name__ == '__main__':\n",
        "  start_time = timeit.default_timer()\n",
        "  sposob1()\n",
        "  range_time_1 = timeit.default_timer() - start_time\n",
        "print(f' время работы решения способом 1: {range_time_1}')"
      ],
      "metadata": {
        "colab": {
          "base_uri": "https://localhost:8080/"
        },
        "id": "2HN2KTmt9Dka",
        "outputId": "0f18d2d6-8638-4d5f-f00f-3f5c69ce431f"
      },
      "execution_count": null,
      "outputs": [
        {
          "output_type": "stream",
          "name": "stdout",
          "text": [
            "10\n",
            "10\n",
            "0.005522117123602399\n",
            "0.9868869366005173\n",
            " время работы решения способом 1: 0.00011330699999234639\n"
          ]
        }
      ]
    },
    {
      "cell_type": "markdown",
      "source": [
        "**1.11.** Считайте 2 числа: n, m. Зафиксируйте значение генератора случайных чисел Numpy с\n",
        "помощью numpy.random.seed(42).Создайте матрицу n*m из случайных чисел (от 0 до 1).\n",
        "\n",
        "Выведите на печать значение среднего для всей матрицы."
      ],
      "metadata": {
        "id": "_UuhcXGr-TWE"
      }
    },
    {
      "cell_type": "code",
      "source": [
        "n=int(input())\n",
        "m=int(input())\n",
        "np.random.seed(42)\n",
        "Z=np.random.random((n,m))\n",
        "print(Z.mean())"
      ],
      "metadata": {
        "colab": {
          "base_uri": "https://localhost:8080/"
        },
        "id": "ak3Ma8k0-YS5",
        "outputId": "c8f1d07e-a312-433c-f735-74dee6b372bc"
      },
      "execution_count": null,
      "outputs": [
        {
          "output_type": "stream",
          "name": "stdout",
          "text": [
            "30\n",
            "30\n",
            "0.4923750160905882\n"
          ]
        }
      ]
    },
    {
      "cell_type": "code",
      "source": [
        "n=int(input())\n",
        "m=int(input())\n",
        "\n",
        "def sposob1():\n",
        "  np.random.seed(42)\n",
        "  Z=np.random.random((n,m))\n",
        "print(Z.mean())\n",
        "\n",
        "if __name__ == '__main__':\n",
        "  start_time = timeit.default_timer()\n",
        "  sposob1()\n",
        "  range_time_1 = timeit.default_timer() - start_time\n",
        "print(f' время работы решения способом 1: {range_time_1}')"
      ],
      "metadata": {
        "colab": {
          "base_uri": "https://localhost:8080/"
        },
        "id": "GCh_ZAp8-89l",
        "outputId": "5220c0a9-3ea2-4fa4-b35e-e4f4122fb62a"
      },
      "execution_count": null,
      "outputs": [
        {
          "output_type": "stream",
          "name": "stdout",
          "text": [
            "30\n",
            "30\n",
            "0.4923750160905882\n",
            " время работы решения способом 1: 0.0009485139999014791\n"
          ]
        }
      ]
    },
    {
      "cell_type": "markdown",
      "source": [
        "**1.12.** Переменные A и B содержат по numpy вектору. Найдите их скалярное произведение и\n",
        "сохраните в переменную Z.\n",
        "A и B могут содержать как int, так и float.\n",
        "\n",
        "**Примечание.** В этой задаче не нужно ничего выводить на печать. Только создать Z."
      ],
      "metadata": {
        "id": "7YiE222K_HMg"
      }
    },
    {
      "cell_type": "code",
      "source": [
        "A = np.array(list(map(float, input().split()))) \n",
        "B = np.array(list(map(float, input().split()))) \n",
        "Z = np.dot(A, B)\n",
        "Z"
      ],
      "metadata": {
        "colab": {
          "base_uri": "https://localhost:8080/"
        },
        "id": "H76dwqsR_Qmb",
        "outputId": "e2552326-726d-454a-d13c-696b92dedaa8"
      },
      "execution_count": null,
      "outputs": [
        {
          "name": "stdout",
          "output_type": "stream",
          "text": [
            "1.5 2.5 3.5\n",
            "4 5 6\n"
          ]
        },
        {
          "output_type": "execute_result",
          "data": {
            "text/plain": [
              "39.5"
            ]
          },
          "metadata": {},
          "execution_count": 21
        }
      ]
    },
    {
      "cell_type": "code",
      "source": [
        "A = np.array(list(map(float, input().split()))) \n",
        "B = np.array(list(map(float, input().split()))) \n",
        "\n",
        "def sposob1():\n",
        "  Z = np.dot(A, B)\n",
        "  Z\n",
        "\n",
        "if __name__ == '__main__':\n",
        "  start_time = timeit.default_timer()\n",
        "  sposob1()\n",
        "  range_time_1 = timeit.default_timer() - start_time\n",
        "print(f' время работы решения способом 1: {range_time_1}')"
      ],
      "metadata": {
        "colab": {
          "base_uri": "https://localhost:8080/"
        },
        "id": "9qr9MKt9AAFH",
        "outputId": "4496553d-a664-49aa-9424-87608ac1f390"
      },
      "execution_count": null,
      "outputs": [
        {
          "output_type": "stream",
          "name": "stdout",
          "text": [
            "1.5 2.5 3.5\n",
            "4 5 6\n",
            " время работы решения способом 1: 3.4280999898328446e-05\n"
          ]
        }
      ]
    },
    {
      "cell_type": "markdown",
      "source": [
        "**1.13**. Даны 2 матрицы: A и B. Найдите произведение матриц и сохраните его в переменную Z.\n",
        "Если найти произведение матриц невозможно, то запишите в Z строку:\n",
        "Упс! Что-то пошло не так...\n",
        "\n",
        "**Примечание**. В этой задаче не нужно ничего выводить на печать. Только создать Z."
      ],
      "metadata": {
        "id": "ybtad8ShAWt0"
      }
    },
    {
      "cell_type": "code",
      "source": [
        "A = np.array([\n",
        " [1, 2, 3],\n",
        " [4, 5, 6]\n",
        "])\n",
        "B = np.array([\n",
        " [11.5],\n",
        " [12.5],\n",
        " [13.5]\n",
        "])\n",
        "try:\n",
        "  Z = np.dot(A, B)\n",
        "  print(Z)\n",
        "except:\n",
        "  print(\"Упс! Что-то пошло не так...\")"
      ],
      "metadata": {
        "colab": {
          "base_uri": "https://localhost:8080/"
        },
        "id": "8cGxMtm7AfSC",
        "outputId": "91a1fd6a-3519-48a7-8396-552269f8e307"
      },
      "execution_count": null,
      "outputs": [
        {
          "output_type": "stream",
          "name": "stdout",
          "text": [
            "[[ 77. ]\n",
            " [189.5]]\n"
          ]
        }
      ]
    },
    {
      "cell_type": "code",
      "source": [
        "A = np.array([\n",
        " [1, 2, 3],\n",
        " [4, 5, 6]\n",
        "])\n",
        "B = np.array([\n",
        " [11.5, 12.5, 13.5]\n",
        "])\n",
        "try:\n",
        "  Z = np.dot(A, B)\n",
        "  print(Z)\n",
        "except:\n",
        "  print(\"Упс! Что-то пошло не так...\")"
      ],
      "metadata": {
        "colab": {
          "base_uri": "https://localhost:8080/"
        },
        "id": "Ky88iDhgBP2Q",
        "outputId": "3c73813d-7bd5-4f8c-f9d7-4be9c13f7435"
      },
      "execution_count": null,
      "outputs": [
        {
          "output_type": "stream",
          "name": "stdout",
          "text": [
            "Упс! Что-то пошло не так...\n"
          ]
        }
      ]
    },
    {
      "cell_type": "code",
      "source": [
        "def sposob1():\n",
        "  try:\n",
        "    Z = np.dot(A, B)\n",
        "    print(Z)\n",
        "  except:\n",
        "    print(\"Упс! Что-то пошло не так...\")\n",
        "\n",
        "if __name__ == '__main__':\n",
        "  start_time = timeit.default_timer()\n",
        "  sposob1()\n",
        "  range_time_1 = timeit.default_timer() - start_time\n",
        "print(f' время работы решения способом 1: {range_time_1}')"
      ],
      "metadata": {
        "colab": {
          "base_uri": "https://localhost:8080/"
        },
        "id": "cFWAFMR0C-NL",
        "outputId": "6f45b6f3-9c93-49c6-fac6-3222810091c3"
      },
      "execution_count": null,
      "outputs": [
        {
          "output_type": "stream",
          "name": "stdout",
          "text": [
            "Упс! Что-то пошло не так...\n",
            " время работы решения способом 1: 0.00020430100084922742\n"
          ]
        }
      ]
    },
    {
      "cell_type": "markdown",
      "source": [
        "**1.14**. Поменяйте знак всех чисел из интервала (3; 9), хранящихся в векторе Z.\n",
        "\n",
        "**Примечание**. В этой задаче не нужно ничего выводить на печать. Только заменить некоторые\n",
        "элементы Z."
      ],
      "metadata": {
        "id": "uVZY4F1XDVEJ"
      }
    },
    {
      "cell_type": "code",
      "source": [
        "Z = np.arange(11)\n",
        "Z[(3 < Z) & (Z < 9)] *= -1\n",
        "Z"
      ],
      "metadata": {
        "colab": {
          "base_uri": "https://localhost:8080/"
        },
        "id": "LXb72U9kDVsE",
        "outputId": "7db93035-41f9-4539-e015-9377ff0591c5"
      },
      "execution_count": null,
      "outputs": [
        {
          "output_type": "execute_result",
          "data": {
            "text/plain": [
              "array([ 0,  1,  2,  3, -4, -5, -6, -7, -8,  9, 10])"
            ]
          },
          "metadata": {},
          "execution_count": 27
        }
      ]
    },
    {
      "cell_type": "code",
      "source": [
        "def sposob1():\n",
        "  Z = np.arange(11)\n",
        "  Z[(3 < Z) & (Z < 9)] *= -1\n",
        "  Z\n",
        "\n",
        "if __name__ == '__main__':\n",
        "  start_time = timeit.default_timer()\n",
        "  sposob1()\n",
        "  range_time_1 = timeit.default_timer() - start_time\n",
        "print(f' время работы решения способом 1: {range_time_1}')"
      ],
      "metadata": {
        "colab": {
          "base_uri": "https://localhost:8080/"
        },
        "id": "J_Eutf8mEwqC",
        "outputId": "f5152686-404a-4e81-9cdf-bc0770488d51"
      },
      "execution_count": null,
      "outputs": [
        {
          "output_type": "stream",
          "name": "stdout",
          "text": [
            " время работы решения способом 1: 0.0009778809999261284\n"
          ]
        }
      ]
    },
    {
      "cell_type": "markdown",
      "source": [
        "**1.15.** Подсчитать произведение ненулевых элементов на диагонали прямоугольной\n",
        "матрицы. Для X = np.array([[1, 0, 1], [2, 0, 2], [3, 0, 3], [4, 4, 4]]) ответ 3."
      ],
      "metadata": {
        "id": "abg9xu8-EmUa"
      }
    },
    {
      "cell_type": "code",
      "source": [
        "#способ 1\n",
        "X = np.diag(np.array([[1, 0, 1], [2, 0, 2], [3, 0, 3], [4, 4, 4]]), k=0)\n",
        "NonZerros=np.nonzero(X)\n",
        "X=X[NonZerros]\n",
        "X=X.prod()\n",
        "print(X)"
      ],
      "metadata": {
        "colab": {
          "base_uri": "https://localhost:8080/"
        },
        "id": "JC9EpIl_E6hE",
        "outputId": "d1c3400e-fe83-41a8-97f2-636377e8e605"
      },
      "execution_count": null,
      "outputs": [
        {
          "output_type": "stream",
          "name": "stdout",
          "text": [
            "3\n"
          ]
        }
      ]
    },
    {
      "cell_type": "code",
      "source": [
        "#способ 2\n",
        "X = np.array([[1, 0, 1], [2, 0, 2], [3, 0, 3], [4, 4, 4]])\n",
        "print(np.prod(np.diag(X)[np.diag(X)!=0]))"
      ],
      "metadata": {
        "colab": {
          "base_uri": "https://localhost:8080/"
        },
        "id": "qdzE2H6KFsM0",
        "outputId": "dfffe3ee-3258-48c3-9ed3-2515b862dd8d"
      },
      "execution_count": null,
      "outputs": [
        {
          "output_type": "stream",
          "name": "stdout",
          "text": [
            "3\n"
          ]
        }
      ]
    },
    {
      "cell_type": "code",
      "source": [
        "def sposob1():\n",
        "  X = np.diag(np.array([[1, 0, 1], [2, 0, 2], [3, 0, 3], [4, 4, 4]]))\n",
        "  NonZerros=np.nonzero(X)\n",
        "  X=X[NonZerros]\n",
        "  X=X.prod()\n",
        "  print(X)\n",
        "\n",
        "def sposob2():\n",
        "  X = np.array([[1, 0, 1], [2, 0, 2], [3, 0, 3], [4, 4, 4]])\n",
        "  print(np.prod(np.diag(X)[np.diag(X)!=0]))\n",
        "\n",
        "if __name__ == '__main__':\n",
        "  start_time = timeit.default_timer()\n",
        "  sposob1()\n",
        "  range_time_1 = timeit.default_timer() - start_time\n",
        "\n",
        "  start_time = timeit.default_timer()\n",
        "  sposob2()\n",
        "  arange_time_1 = timeit.default_timer() - start_time\n",
        "\n",
        "print(f' время работы решения способом 1: {range_time_1}')\n",
        "print(f' время работы решения cпособом 2: {arange_time_1}')"
      ],
      "metadata": {
        "colab": {
          "base_uri": "https://localhost:8080/"
        },
        "id": "H7GfFP3TF34u",
        "outputId": "f41c05ea-5bae-4968-c588-80043a2f19e1"
      },
      "execution_count": null,
      "outputs": [
        {
          "output_type": "stream",
          "name": "stdout",
          "text": [
            "3\n",
            "3\n",
            " время работы решения способом 1: 0.0013721000004807138\n",
            " время работы решения cпособом 2: 0.0006875460003357148\n"
          ]
        }
      ]
    },
    {
      "cell_type": "markdown",
      "source": [
        "**1.16.** Считайте число n. Создайте в переменной Z Numpy вектор из нулей длины n.\n",
        "\n",
        "**Примечание.** В этой задаче не нужно ничего выводить на печать. Только создать вектор Z.\n"
      ],
      "metadata": {
        "id": "dN3x-rKsGbH1"
      }
    },
    {
      "cell_type": "code",
      "source": [
        "n = int(input())\n",
        "Z = np.zeros(n)\n",
        "Z"
      ],
      "metadata": {
        "colab": {
          "base_uri": "https://localhost:8080/"
        },
        "id": "MyAmCNPxT5EJ",
        "outputId": "5797efcb-e4b2-4e1f-d29d-2092dda70d14"
      },
      "execution_count": 10,
      "outputs": [
        {
          "name": "stdout",
          "output_type": "stream",
          "text": [
            "5\n"
          ]
        },
        {
          "output_type": "execute_result",
          "data": {
            "text/plain": [
              "array([0., 0., 0., 0., 0.])"
            ]
          },
          "metadata": {},
          "execution_count": 10
        }
      ]
    },
    {
      "cell_type": "code",
      "source": [
        "n = int(input())\n",
        "Z = ''\n",
        "Z += '['\n",
        "while n > 0:\n",
        "  Z += '0. '\n",
        "  n -= 1\n",
        "Z = Z[0:-1]\n",
        "Z += ']'\n",
        "Z"
      ],
      "metadata": {
        "colab": {
          "base_uri": "https://localhost:8080/",
          "height": 53
        },
        "id": "wdUec4gtT5Vz",
        "outputId": "0355e691-51c9-4f31-ac6b-31fa87be63a9"
      },
      "execution_count": 12,
      "outputs": [
        {
          "name": "stdout",
          "output_type": "stream",
          "text": [
            "5\n"
          ]
        },
        {
          "output_type": "execute_result",
          "data": {
            "text/plain": [
              "'[0. 0. 0. 0. 0.]'"
            ],
            "application/vnd.google.colaboratory.intrinsic+json": {
              "type": "string"
            }
          },
          "metadata": {},
          "execution_count": 12
        }
      ]
    },
    {
      "cell_type": "code",
      "source": [
        "n = int(input())\n",
        "\n",
        "def with_n(n):\n",
        "  Z = np.zeros(n)\n",
        "  return Z\n",
        "\n",
        "\n",
        "def without_n(n):\n",
        "  Z = ''\n",
        "  Z += '['\n",
        "  while n > 0:\n",
        "    Z += '0. '\n",
        "    n -= 1\n",
        "  Z = Z[0:-1]\n",
        "  Z += ']'\n",
        "  return Z\n",
        "\n",
        "\n",
        "if __name__ == '__main__':\n",
        "  start_time = timeit.default_timer()\n",
        "  with_n(n)\n",
        "  range_time_1 = timeit.default_timer() - start_time\n",
        "\n",
        "  start_time = timeit.default_timer()\n",
        "  without_n(n)\n",
        "  arange_time_1 = timeit.default_timer() - start_time\n",
        "\n",
        "print(f' время работы решения задачи с numpy: {range_time_1}')\n",
        "print(f' время работы решения задачи без numpy: {arange_time_1}')"
      ],
      "metadata": {
        "id": "vZqDokORGl9k",
        "colab": {
          "base_uri": "https://localhost:8080/"
        },
        "outputId": "c4f8fce5-6031-4ece-cd8c-9145e003607e"
      },
      "execution_count": 4,
      "outputs": [
        {
          "output_type": "stream",
          "name": "stdout",
          "text": [
            "5\n",
            " время работы решения задачи с numpy: 2.92259999810085e-05\n",
            " время работы решения задачи без numpy: 3.7800000143306534e-06\n"
          ]
        }
      ]
    },
    {
      "cell_type": "markdown",
      "source": [
        "**1.17**. Посчитайте размер матрицы Z в байтах и выведите его на печать. Чтобы узнать\n",
        "размер (в байтах) 1 элемента матрицы используйте\n",
        "атрибут https://docs.scipy.org/doc/numpy1.15.1/reference/generated/numpy.ndarray.itemsize.html\n",
        "\n",
        "\n",
        "**Примечание**. В этой задаче не нужно ничего считывать - матрица Z уже заполнена."
      ],
      "metadata": {
        "id": "ZOOt7uIhL3er"
      }
    },
    {
      "cell_type": "code",
      "source": [
        "Z=np.zeros((10,10))\n",
        "print(Z.nbytes)"
      ],
      "metadata": {
        "colab": {
          "base_uri": "https://localhost:8080/"
        },
        "id": "waS_TQJ1VXEa",
        "outputId": "b4a82565-4c64-486d-8ee2-15c6e6f3131f"
      },
      "execution_count": 13,
      "outputs": [
        {
          "output_type": "stream",
          "name": "stdout",
          "text": [
            "800\n"
          ]
        }
      ]
    },
    {
      "cell_type": "code",
      "source": [
        "Z=np.zeros((10,10))\n",
        "print(Z.itemsize*Z.size)"
      ],
      "metadata": {
        "colab": {
          "base_uri": "https://localhost:8080/"
        },
        "id": "6xkZ19XmVXdr",
        "outputId": "a8130fc1-3f01-4db2-cbee-726b68baec9a"
      },
      "execution_count": 14,
      "outputs": [
        {
          "output_type": "stream",
          "name": "stdout",
          "text": [
            "800\n"
          ]
        }
      ]
    },
    {
      "cell_type": "code",
      "source": [
        "def sposob1():\n",
        "  Z=np.zeros((10,10))\n",
        "  print(Z.nbytes)\n",
        "\n",
        "def sposob2():\n",
        "  Z=np.zeros((10,10))\n",
        "  print(Z.itemsize*Z.size)\n",
        "\n",
        "if __name__ == '__main__':\n",
        "  start_time = timeit.default_timer()\n",
        "  sposob1()\n",
        "  range_time_1 = timeit.default_timer() - start_time\n",
        "\n",
        "  start_time = timeit.default_timer()\n",
        "  sposob2()\n",
        "  arange_time_1 = timeit.default_timer() - start_time\n",
        "\n",
        "print(f' время работы решения способом 1: {range_time_1}')\n",
        "print(f' время работы решения cпособом 2: {arange_time_1}')"
      ],
      "metadata": {
        "colab": {
          "base_uri": "https://localhost:8080/"
        },
        "id": "teKLMcB0PBYH",
        "outputId": "04f44bfc-226c-4fdc-d5d8-9e6fb448d50b"
      },
      "execution_count": 5,
      "outputs": [
        {
          "output_type": "stream",
          "name": "stdout",
          "text": [
            "800\n",
            "800\n",
            " время работы решения способом 1: 0.0015519969999786554\n",
            " время работы решения cпособом 2: 0.00043537200008358923\n"
          ]
        }
      ]
    },
    {
      "cell_type": "markdown",
      "source": [
        "**1.18.** Считайте 2 числа:\n",
        "\n",
        "\n",
        "*   n - размер Numpy вектора\n",
        "*   x - координата элемента вектора, который должен быть равен 1.\n",
        "\n",
        "Остальные элементы вектора\n",
        "должны быть равны 0. Сохраните вектор в переменную Z.\n",
        "\n",
        "**Примечание**. В этой задаче не нужно ничего выводить на печать. Только создать вектор Z."
      ],
      "metadata": {
        "id": "9I5QqrWZPHYY"
      }
    },
    {
      "cell_type": "code",
      "source": [
        "#способ 1\n",
        "n=int(input())\n",
        "x=int(input())\n",
        "Z = np.zeros(n)\n",
        "Z[x-1]=1\n",
        "Z"
      ],
      "metadata": {
        "colab": {
          "base_uri": "https://localhost:8080/"
        },
        "id": "NCP2q461Te2p",
        "outputId": "a303cdcb-2fbc-46e3-f263-286fedaf5b67"
      },
      "execution_count": 7,
      "outputs": [
        {
          "name": "stdout",
          "output_type": "stream",
          "text": [
            "10\n",
            "4\n"
          ]
        },
        {
          "output_type": "execute_result",
          "data": {
            "text/plain": [
              "array([0., 0., 0., 1., 0., 0., 0., 0., 0., 0.])"
            ]
          },
          "metadata": {},
          "execution_count": 7
        }
      ]
    },
    {
      "cell_type": "code",
      "source": [
        "#способ 2\n",
        "n=int(input())\n",
        "x=int(input())\n",
        "Z = np.zeros(n-1)\n",
        "Z = np.insert(Z, x-1, 1)\n",
        "Z"
      ],
      "metadata": {
        "colab": {
          "base_uri": "https://localhost:8080/"
        },
        "id": "g9Ok0NGxTfIy",
        "outputId": "1a1f5200-b347-4c33-e5ce-609d7009ff5c"
      },
      "execution_count": 8,
      "outputs": [
        {
          "name": "stdout",
          "output_type": "stream",
          "text": [
            "10\n",
            "4\n"
          ]
        },
        {
          "output_type": "execute_result",
          "data": {
            "text/plain": [
              "array([0., 0., 0., 1., 0., 0., 0., 0., 0., 0.])"
            ]
          },
          "metadata": {},
          "execution_count": 8
        }
      ]
    },
    {
      "cell_type": "code",
      "source": [
        "n=int(input())\n",
        "x=int(input())\n",
        "\n",
        "def sposob1():\n",
        "  Z = np.zeros(n)\n",
        "  Z[x-1]=1\n",
        "  Z\n",
        "\n",
        "def sposob2():\n",
        "  Z = np.zeros(n-1)\n",
        "  Z = np.insert(Z, x-1, 1)\n",
        "  Z\n",
        "\n",
        "if __name__ == '__main__':\n",
        "  start_time = timeit.default_timer()\n",
        "  sposob1()\n",
        "  range_time_1 = timeit.default_timer() - start_time\n",
        "\n",
        "  start_time = timeit.default_timer()\n",
        "  sposob2()\n",
        "  arange_time_1 = timeit.default_timer() - start_time\n",
        "\n",
        "print(f' время работы решения способом 1: {range_time_1}')\n",
        "print(f' время работы решения cпособом 2: {arange_time_1}')"
      ],
      "metadata": {
        "colab": {
          "base_uri": "https://localhost:8080/"
        },
        "id": "Inut_AbSPGXI",
        "outputId": "bd0fb331-934e-47e6-f4f9-d938f0651ce1"
      },
      "execution_count": 6,
      "outputs": [
        {
          "output_type": "stream",
          "name": "stdout",
          "text": [
            "10\n",
            "4\n",
            " время работы решения способом 1: 7.176600001912448e-05\n",
            " время работы решения cпособом 2: 0.00022900200019648764\n"
          ]
        }
      ]
    },
    {
      "cell_type": "markdown",
      "source": [
        "**1.19**. Считайте 2 числа n, m. Создайте вектор Z состоящий из чисел от n до m с шагом 1.\n",
        "\n",
        "**Примечание**. В этой задаче не нужно ничего выводить на печать. Только создать вектор Z.\n"
      ],
      "metadata": {
        "id": "oEZ5LXOSPHPT"
      }
    },
    {
      "cell_type": "code",
      "source": [
        "n=int(input())\n",
        "m=int(input())\n",
        "Z = np.arange(n, m+1, 1)\n",
        "Z"
      ],
      "metadata": {
        "colab": {
          "base_uri": "https://localhost:8080/"
        },
        "id": "pS8hSTiaVk5g",
        "outputId": "2cd34770-ee3f-48ca-cc52-2c3e15707869"
      },
      "execution_count": 15,
      "outputs": [
        {
          "name": "stdout",
          "output_type": "stream",
          "text": [
            "10\n",
            "50\n"
          ]
        },
        {
          "output_type": "execute_result",
          "data": {
            "text/plain": [
              "array([10, 11, 12, 13, 14, 15, 16, 17, 18, 19, 20, 21, 22, 23, 24, 25, 26,\n",
              "       27, 28, 29, 30, 31, 32, 33, 34, 35, 36, 37, 38, 39, 40, 41, 42, 43,\n",
              "       44, 45, 46, 47, 48, 49, 50])"
            ]
          },
          "metadata": {},
          "execution_count": 15
        }
      ]
    },
    {
      "cell_type": "code",
      "source": [
        "n=int(input())\n",
        "m=int(input())\n",
        "\n",
        "def sposob1():\n",
        "  Z = np.arange(n, m+1, 1)\n",
        "  Z\n",
        "\n",
        "if __name__ == '__main__':\n",
        "  start_time = timeit.default_timer()\n",
        "  sposob1()\n",
        "  range_time_1 = timeit.default_timer() - start_time\n",
        "print(f' время работы решения способом 1: {range_time_1}')"
      ],
      "metadata": {
        "colab": {
          "base_uri": "https://localhost:8080/"
        },
        "id": "OBAC5JLcVlKi",
        "outputId": "1726e725-af55-44b3-fc2c-5bc9e75bb2f7"
      },
      "execution_count": 16,
      "outputs": [
        {
          "output_type": "stream",
          "name": "stdout",
          "text": [
            "10\n",
            "50\n",
            " время работы решения способом 1: 0.00010038500022346852\n"
          ]
        }
      ]
    },
    {
      "cell_type": "markdown",
      "source": [
        "**1.20**. Дан вектор Z. \"Разверните\" его.\n",
        "\n",
        "**Примечание**. В этой задаче не нужно ничего выводить на печать или считывать. Только\n",
        "развернуть уже созданный вектор Z.\n"
      ],
      "metadata": {
        "id": "kyMJWEgQV4aQ"
      }
    },
    {
      "cell_type": "code",
      "source": [
        "Z = np.array([1, 2, 3, 4])\n",
        "Z = Z[::-1]\n",
        "Z"
      ],
      "metadata": {
        "colab": {
          "base_uri": "https://localhost:8080/"
        },
        "id": "-pb2WtfrWAXe",
        "outputId": "8df942c7-7649-4383-cade-810fbf7095ff"
      },
      "execution_count": 19,
      "outputs": [
        {
          "output_type": "execute_result",
          "data": {
            "text/plain": [
              "array([4, 3, 2, 1])"
            ]
          },
          "metadata": {},
          "execution_count": 19
        }
      ]
    },
    {
      "cell_type": "code",
      "source": [
        "def sposob1():\n",
        "  Z = np.array([1, 2, 3, 4])\n",
        "  Z = Z[::-1]\n",
        "  Z\n",
        "\n",
        "if __name__ == '__main__':\n",
        "  start_time = timeit.default_timer()\n",
        "  sposob1()\n",
        "  range_time_1 = timeit.default_timer() - start_time\n",
        "print(f' время работы решения способом 1: {range_time_1}')"
      ],
      "metadata": {
        "id": "DpBZPshtWLuj"
      },
      "execution_count": null,
      "outputs": []
    },
    {
      "cell_type": "markdown",
      "source": [
        "**1.21**. Считайте 3 числа:\n",
        " n - количество элементов матрицы\n",
        " m и k - размеры матрицы (число строк и столбцов соответственно)\n",
        "Заполните матрицу Z числами от 0 до n-1 по порядку (сперва строки, потом столбцы).\n",
        "Гарантируется, что m*k = n, т.е. все элементы \"влезут\" в матрицу и не останется\n",
        "пустых мест.\n",
        "\n",
        "\n",
        "**Примечание**. В этой задаче не нужно ничего выводить на печать. Только создать матрицу Z."
      ],
      "metadata": {
        "id": "Dds5SjcEZ-L1"
      }
    },
    {
      "cell_type": "code",
      "source": [
        "n = int(input('Число: '))\n",
        "m, k = map(int, input('Размер: ').split())\n",
        "\n",
        "Z = np.arange(n).reshape(m, k)\n",
        "Z"
      ],
      "metadata": {
        "colab": {
          "base_uri": "https://localhost:8080/"
        },
        "id": "I9_cy44WcUkF",
        "outputId": "83ed0cb2-cca9-4bfb-92dc-5b383ae4ae47"
      },
      "execution_count": 34,
      "outputs": [
        {
          "name": "stdout",
          "output_type": "stream",
          "text": [
            "Число: 6\n",
            "Размер: 2 3\n"
          ]
        },
        {
          "output_type": "execute_result",
          "data": {
            "text/plain": [
              "array([[0, 1, 2],\n",
              "       [3, 4, 5]])"
            ]
          },
          "metadata": {},
          "execution_count": 34
        }
      ]
    },
    {
      "cell_type": "code",
      "source": [
        "n = int(input('Число: '))\n",
        "m, k = map(int, input('Размер: ').split())\n",
        "\n",
        "def without_num(n, m, k):\n",
        "    Z = []\n",
        "    count = 0\n",
        "    for i in range(m):\n",
        "        Z.append([])\n",
        "        for j in range(k):\n",
        "            Z[i].append(count)\n",
        "            count += 1\n",
        "\n",
        "\n",
        "def with_num(n, m, k):\n",
        "    Z = np.arange(n).reshape(m, k)\n",
        "\n",
        "if __name__ == '__main__':\n",
        "    if m * k == n:\n",
        "        start_time = timeit.default_timer()\n",
        "        with_num(n, m, k)\n",
        "        time_1 = timeit.default_timer() - start_time\n",
        "        start_time = timeit.default_timer()\n",
        "        without_num(n, m, k)\n",
        "        time_2 = timeit.default_timer() - start_time\n",
        "\n",
        "        print('Время работы с NumPy: ', time_1)\n",
        "        print('Время работы без NumPy: ', time_2)"
      ],
      "metadata": {
        "colab": {
          "base_uri": "https://localhost:8080/"
        },
        "id": "XQ5zvbolZ-iN",
        "outputId": "8da865fc-a291-4996-e115-0e312eff335f"
      },
      "execution_count": 27,
      "outputs": [
        {
          "output_type": "stream",
          "name": "stdout",
          "text": [
            "Число: 6\n",
            "Размер: 2 3\n",
            "Время работы с NumPy:  3.860700053337496e-05\n",
            "Время работы без NumPy:  8.518999493389856e-06\n"
          ]
        }
      ]
    },
    {
      "cell_type": "markdown",
      "source": [
        "**1.22**. Дан вектор Z. Запишите в переменную NonZerros индексы ненулевых элементов.\n",
        "Используйте\n",
        "функцию https://docs.scipy.org/doc/numpy1.15.0/reference/generated/numpy.nonzero.html\n",
        "\n",
        "**Примечание**. В этой задаче не нужно ничего считывать или выводить на печать. Матрица Z\n",
        "уже готова, просто создайте NonZerros.\n"
      ],
      "metadata": {
        "id": "nCKhhnzmczVO"
      }
    },
    {
      "cell_type": "code",
      "source": [
        "#способ 1\n",
        "nonzero=[]\n",
        "Z=[1, 0, 2, 0, 3, 0, 4]\n",
        "for i in Z:\n",
        "  if i==0:\n",
        "   pass\n",
        "  else:\n",
        "    nonzero.append(Z.index(i))\n",
        "print(nonzero)\n"
      ],
      "metadata": {
        "colab": {
          "base_uri": "https://localhost:8080/"
        },
        "id": "pNO83Wbecz1w",
        "outputId": "146532ac-58c1-4388-a936-b66af6007564"
      },
      "execution_count": 40,
      "outputs": [
        {
          "output_type": "stream",
          "name": "stdout",
          "text": [
            "[0, 2, 4, 6]\n"
          ]
        }
      ]
    },
    {
      "cell_type": "code",
      "source": [
        "#способ 2\n",
        "Z=np.array([1, 0, 2, 0, 3, 0, 4])\n",
        "np.nonzero(Z)"
      ],
      "metadata": {
        "colab": {
          "base_uri": "https://localhost:8080/"
        },
        "id": "tJyZHIx7dLD3",
        "outputId": "503275d7-89c7-43f3-c4a7-345f13e14dac"
      },
      "execution_count": 39,
      "outputs": [
        {
          "output_type": "execute_result",
          "data": {
            "text/plain": [
              "(array([0, 2, 4, 6]),)"
            ]
          },
          "metadata": {},
          "execution_count": 39
        }
      ]
    },
    {
      "cell_type": "code",
      "source": [
        "def without_num():\n",
        "    nonzero=[]\n",
        "    Z=[1, 0, 2, 0, 3, 0, 4]\n",
        "    for i in Z:\n",
        "      if i==0:\n",
        "       pass\n",
        "    else:\n",
        "      nonzero.append(Z.index(i))\n",
        "\n",
        "\n",
        "\n",
        "def with_num():\n",
        "    Z=np.array([1, 0, 2, 0, 3, 0, 4])\n",
        "    np.nonzero(Z)\n",
        "\n",
        "if __name__ == '__main__':\n",
        "        start_time = timeit.default_timer()\n",
        "        without_num()\n",
        "        time_1 = timeit.default_timer() - start_time\n",
        "        start_time = timeit.default_timer()\n",
        "        with_num()\n",
        "        time_2 = timeit.default_timer() - start_time\n",
        "\n",
        "        print('Время работы без NumPy: ', time_1)\n",
        "        print('Время работы с NumPy: ', time_2)"
      ],
      "metadata": {
        "colab": {
          "base_uri": "https://localhost:8080/"
        },
        "id": "bPbwk3ofecyo",
        "outputId": "3f7636f0-b5f5-49ff-f208-520509004f47"
      },
      "execution_count": 42,
      "outputs": [
        {
          "output_type": "stream",
          "name": "stdout",
          "text": [
            "Время работы без NumPy:  3.4869999581133015e-06\n",
            "Время работы с NumPy:  3.689200002554571e-05\n"
          ]
        }
      ]
    },
    {
      "cell_type": "markdown",
      "source": [
        "**1.23.** Считайте число n. Создайте единичную матрицу размера n, сохраните результат в\n",
        "переменную Z.\n",
        "\n",
        "**Примечание**. В этой задаче не нужно ничего выводить на печать. Только создать матрицу Z."
      ],
      "metadata": {
        "id": "wmN0BdM6fnI4"
      }
    },
    {
      "cell_type": "code",
      "source": [
        "#способ 1 - с NumPy\n",
        "n = int(input('Введите число: '))\n",
        "Z = np.eye(n)\n",
        "Z"
      ],
      "metadata": {
        "colab": {
          "base_uri": "https://localhost:8080/"
        },
        "id": "aQsvtFrtfsx_",
        "outputId": "b9fa8df0-7ee8-49cb-dce1-989ac4272065"
      },
      "execution_count": 43,
      "outputs": [
        {
          "name": "stdout",
          "output_type": "stream",
          "text": [
            "Введите число: 3\n"
          ]
        },
        {
          "output_type": "execute_result",
          "data": {
            "text/plain": [
              "array([[1., 0., 0.],\n",
              "       [0., 1., 0.],\n",
              "       [0., 0., 1.]])"
            ]
          },
          "metadata": {},
          "execution_count": 43
        }
      ]
    },
    {
      "cell_type": "code",
      "source": [
        "#способ 2 - без NumPy\n",
        "n = int(input('Введите число: '))\n",
        "\n",
        "Z = []\n",
        "for i in range(n):\n",
        "    Z.append([])\n",
        "    for g in range(n):\n",
        "        if i == g:\n",
        "            Z[i].append(1) \n",
        "        else: \n",
        "            Z[i].append(0)    \n",
        "for i in range(n):\n",
        "    print(Z[i])"
      ],
      "metadata": {
        "colab": {
          "base_uri": "https://localhost:8080/"
        },
        "id": "Ikg_QkTUgAxT",
        "outputId": "0005d4f0-5a4c-4256-8e41-772d6e2e3480"
      },
      "execution_count": 45,
      "outputs": [
        {
          "output_type": "stream",
          "name": "stdout",
          "text": [
            "Введите число: 3\n",
            "[1, 0, 0]\n",
            "[0, 1, 0]\n",
            "[0, 0, 1]\n"
          ]
        }
      ]
    },
    {
      "cell_type": "code",
      "source": [
        "n = int(input('Введите число: '))\n",
        "\n",
        "def with_n(n):\n",
        "  Z = np.eye(n)\n",
        "\n",
        "def without_n(n):\n",
        "  Z = []\n",
        "  for i in range(n):\n",
        "      Z.append([])\n",
        "      for g in range(n):\n",
        "          if i == g:\n",
        "              Z[i].append(1) \n",
        "          else: \n",
        "            Z[i].append(0)\n",
        "\n",
        "\n",
        "if __name__ == '__main__':\n",
        "  start_time = timeit.default_timer()\n",
        "  with_n(n)\n",
        "  range_time_1 = timeit.default_timer() - start_time\n",
        "\n",
        "  start_time = timeit.default_timer()\n",
        "  without_n(n)\n",
        "  arange_time_1 = timeit.default_timer() - start_time\n",
        "\n",
        "print(f' время работы решения задачи с numpy: {range_time_1}')\n",
        "print(f' время работы решения задачи без numpy: {arange_time_1}')\n",
        "\n",
        "#Вывод: если размер матрицы небольшой, быстрее делать через Python, и наоборот"
      ],
      "metadata": {
        "colab": {
          "base_uri": "https://localhost:8080/"
        },
        "id": "SERD76nkgBCY",
        "outputId": "660b0c1d-8fdd-4120-cc29-fe193238a14f"
      },
      "execution_count": 46,
      "outputs": [
        {
          "output_type": "stream",
          "name": "stdout",
          "text": [
            "Введите число: 3\n",
            " время работы решения задачи с numpy: 5.353399956220528e-05\n",
            " время работы решения задачи без numpy: 8.680000064487103e-06\n"
          ]
        }
      ]
    },
    {
      "cell_type": "markdown",
      "source": [
        "**1.24**. Считайте 3 числа: n, m, l.. Зафиксируйте значение генератора случайных чисел\n",
        "Numpy с помощью numpy.random.seed(42) . Создайте матрицу n*m*l из случайных чисел (от 0\n",
        "до 1) и сохраните результат в переменную Z.\n",
        "\n",
        "\n",
        "**Примечание**. В этой задаче не нужно ничего выводить на печать. Только создать матрицу Z."
      ],
      "metadata": {
        "id": "CZLH6Vr3gTS6"
      }
    },
    {
      "cell_type": "code",
      "source": [
        "n = int(input())\n",
        "m = int(input())\n",
        "l = int(input())\n",
        "\n",
        "np.random.seed(42)\n",
        "Z = np.random.random((n,m,l))\n",
        "Z"
      ],
      "metadata": {
        "colab": {
          "base_uri": "https://localhost:8080/"
        },
        "id": "DOlUkpKeg_Ip",
        "outputId": "fbd67e4c-9ab0-49e2-cf54-336fdadfe8b1"
      },
      "execution_count": 47,
      "outputs": [
        {
          "name": "stdout",
          "output_type": "stream",
          "text": [
            "2\n",
            "2\n",
            "2\n"
          ]
        },
        {
          "output_type": "execute_result",
          "data": {
            "text/plain": [
              "array([[[0.37454012, 0.95071431],\n",
              "        [0.73199394, 0.59865848]],\n",
              "\n",
              "       [[0.15601864, 0.15599452],\n",
              "        [0.05808361, 0.86617615]]])"
            ]
          },
          "metadata": {},
          "execution_count": 47
        }
      ]
    },
    {
      "cell_type": "code",
      "source": [
        "n = int(input())\n",
        "m = int(input())\n",
        "l = int(input())\n",
        "\n",
        "def sposob1():\n",
        "  np.random.seed(42)\n",
        "  Z = np.random.random((n,m,l))\n",
        "  Z\n",
        "\n",
        "if __name__ == '__main__':\n",
        "  start_time = timeit.default_timer()\n",
        "  sposob1()\n",
        "  range_time_1 = timeit.default_timer() - start_time\n",
        "print(f' время работы решения способом 1: {range_time_1}')"
      ],
      "metadata": {
        "colab": {
          "base_uri": "https://localhost:8080/"
        },
        "id": "EkDjNn13gTzI",
        "outputId": "e8bb5967-3d9f-4adf-bb16-2da70ce7675e"
      },
      "execution_count": 48,
      "outputs": [
        {
          "output_type": "stream",
          "name": "stdout",
          "text": [
            "2\n",
            "2\n",
            "2\n",
            " время работы решения способом 1: 9.083499935513828e-05\n"
          ]
        }
      ]
    },
    {
      "cell_type": "markdown",
      "source": [
        "**1.25.** Считайте 2 числа: n, m. Зафиксируйте значение генератора случайных чисел Numpy с\n",
        "помощью numpy.random.seed(42). Создайте матрицу n*m из случайных чисел (от 0 до 1).\n",
        "Выведите на печать значение минимального и максимального чисел в получившейся\n",
        "матрице (каждое с новой строки)."
      ],
      "metadata": {
        "id": "UkASRmJQhKXL"
      }
    },
    {
      "cell_type": "code",
      "source": [
        "n=int(input())\n",
        "m=int(input())\n",
        "\n",
        "np.random.seed(42)\n",
        "Z=np.random.random((n,m))\n",
        "print(Z.min())\n",
        "print(Z.max())"
      ],
      "metadata": {
        "colab": {
          "base_uri": "https://localhost:8080/"
        },
        "id": "rPI8KSphhaCm",
        "outputId": "bee29aaa-65ce-476e-fa07-7a3e836e8a2a"
      },
      "execution_count": 49,
      "outputs": [
        {
          "output_type": "stream",
          "name": "stdout",
          "text": [
            "10\n",
            "10\n",
            "0.005522117123602399\n",
            "0.9868869366005173\n"
          ]
        }
      ]
    },
    {
      "cell_type": "code",
      "source": [
        "n=int(input())\n",
        "m=int(input())\n",
        "\n",
        "def sposob1():\n",
        "  np.random.seed(42)\n",
        "  Z=np.random.random((n,m))\n",
        "print(Z.min())\n",
        "print(Z.max())\n",
        "\n",
        "if __name__ == '__main__':\n",
        "  start_time = timeit.default_timer()\n",
        "  sposob1()\n",
        "  range_time_1 = timeit.default_timer() - start_time\n",
        "print(f' время работы решения способом 1: {range_time_1}')"
      ],
      "metadata": {
        "colab": {
          "base_uri": "https://localhost:8080/"
        },
        "id": "kFmDERbDhKqE",
        "outputId": "4a139023-ccbf-4640-d0d5-35488c4f65ba"
      },
      "execution_count": 50,
      "outputs": [
        {
          "output_type": "stream",
          "name": "stdout",
          "text": [
            "10\n",
            "10\n",
            "0.005522117123602399\n",
            "0.9868869366005173\n",
            " время работы решения способом 1: 4.5621000026585534e-05\n"
          ]
        }
      ]
    }
  ]
}