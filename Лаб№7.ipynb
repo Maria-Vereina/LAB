{
  "nbformat": 4,
  "nbformat_minor": 0,
  "metadata": {
    "colab": {
      "name": "Лаб№7",
      "provenance": [],
      "authorship_tag": "ABX9TyNfFfULYmVKNvTPIrJb25zq",
      "include_colab_link": true
    },
    "kernelspec": {
      "name": "python3",
      "display_name": "Python 3"
    },
    "language_info": {
      "name": "python"
    }
  },
  "cells": [
    {
      "cell_type": "markdown",
      "metadata": {
        "id": "view-in-github",
        "colab_type": "text"
      },
      "source": [
        "<a href=\"https://colab.research.google.com/github/Maria-Vereina/LAB/blob/main/%D0%9B%D0%B0%D0%B1%E2%84%967.ipynb\" target=\"_parent\"><img src=\"https://colab.research.google.com/assets/colab-badge.svg\" alt=\"Open In Colab\"/></a>"
      ]
    },
    {
      "cell_type": "markdown",
      "source": [
        "**7.2.1. Простая отладка программ**\n",
        "\n",
        "Для задач 7.2.1-7.2.5 приведено условие задачи и ее решение (ошибочное).\n",
        "\n",
        "Для каждой задачи:\n",
        "\n",
        "используя визуальный просмотр кода, простое журналирование, проверку PEP8 \n",
        "\n",
        "или отладчик в IDE:\n",
        "\n",
        "разберитесь в алгоритме решения;\n",
        "\n",
        "найдите номера строк, в которых есть ошибки, и укажите их в строке документации;\n",
        "\n",
        "исправьте ошибки, минимально изменив код (как правило, заменив строчку на строчку); ошибки исправляются по ходу программы, сверху вниз."
      ],
      "metadata": {
        "id": "0PToCqduxUHm"
      }
    },
    {
      "cell_type": "code",
      "execution_count": null,
      "metadata": {
        "colab": {
          "base_uri": "https://localhost:8080/"
        },
        "id": "2fUwejnDwfwN",
        "outputId": "efde7aed-eb32-4a7d-95f6-8d0c25826d6a"
      },
      "outputs": [
        {
          "output_type": "execute_result",
          "data": {
            "text/plain": [
              "7"
            ]
          },
          "metadata": {},
          "execution_count": 21
        }
      ],
      "source": [
        "# Программирование на языке высокого уровня (Python).\n",
        "# https://www.yuripetrov.ru/edu/python\n",
        "# Задание task_07_02_01.\n",
        "#\n",
        "# Выполнила: Вереина М.С.\n",
        "# Группа: АДЭУ-211\n",
        "# E-mail: VereinaMS@mgpu.ru\n",
        "\n",
        "\n",
        "\"\"\"\n",
        "Ошибки: 18 20 22\n",
        "\"\"\"\n",
        "\"\"\"Вернуть сумму цифр меньших 5 для положительного целого числа `n`.\n",
        "    Если таких цифр нет, вернуть 0.\"\"\"\n",
        "def sum_of_digits(n):\n",
        "    c=0\n",
        "    while n > 0:\n",
        "        digit = n % 10      #чтобы определить цифру надо вместо целочисленного деления, использовать остаток от деления\n",
        "        if digit < 5:       \n",
        "           c += digit       #1)переменная была не на том уровне; 2)c - сумма цифр меньше 5, поэтому, чтобы найти сумму цифр, а не количество, нужно прибавлять digit\n",
        "        n //= 10\n",
        "    return c                #в результате надо вывести сумму цифр, а не их количество\n",
        "\n",
        "sum_of_digits(1209813)"
      ]
    },
    {
      "cell_type": "code",
      "source": [
        "# Программирование на языке высокого уровня (Python).\n",
        "# https://www.yuripetrov.ru/edu/python\n",
        "# Задание task_07_02_02.\n",
        "#\n",
        "# Выполнила: Вереина М.С.\n",
        "# Группа: АДЭУ-211\n",
        "# E-mail: VereinaMS@mgpu.ru\n",
        "\n",
        "\"\"\"\n",
        "Ошибки: 18 19 22 24\n",
        "\"\"\"\n",
        "\"\"\"Вернуть список простых чисел на отрезке от 'a' до 'b'.\"\"\"\n",
        "\n",
        "def primes(a, b):  \n",
        "    res = []\n",
        "    c = 0\n",
        "    for i in range(a, b+1):      #чтобы число b включалось в цикл, нужно дописать +1\n",
        "        for j in range(i+1):     #чтобы все от a до b все числа списка были учтены, нужно дописать +1\n",
        "            if i % (j + 1) == 0:\n",
        "                c += 1\n",
        "        if c == 2:               #неверный уровень\n",
        "                res.append(i)\n",
        "        else: c = 0              #необходимо добавить функцию else, чтобы число делителей обнулилось\n",
        "\n",
        "    return res\n",
        "\n",
        "primes(23, 45)"
      ],
      "metadata": {
        "colab": {
          "base_uri": "https://localhost:8080/"
        },
        "id": "cVjo993g9awh",
        "outputId": "8ead88c0-cd4f-4bfd-8013-d1bb7268cb8f"
      },
      "execution_count": null,
      "outputs": [
        {
          "output_type": "execute_result",
          "data": {
            "text/plain": [
              "[23, 29, 31, 37, 41, 43]"
            ]
          },
          "metadata": {},
          "execution_count": 22
        }
      ]
    },
    {
      "cell_type": "code",
      "source": [
        "# Программирование на языке высокого уровня (Python).\n",
        "# https://www.yuripetrov.ru/edu/python\n",
        "# Задание task_07_02_03.\n",
        "#\n",
        "# Выполнила: Вереина М.С.\n",
        "# Группа: АДЭУ-211\n",
        "# E-mail: VereinaMS@mgpu.ru\n",
        "\n",
        "\"\"\"\n",
        "Ошибки: 18 19 21 22\n",
        "\"\"\"\n",
        "\n",
        "def first_vacant_row(seats):\n",
        "    max_count = 0\n",
        "    max_row = 0\n",
        "    for row_index, row in enumerate(seats):\n",
        "        available_seats_count = row.count(0)  # 0 - пусто\n",
        "        if available_seats_count > max_count: #вместо >= нужно учитывать только то, что больше\n",
        "            max_row = row_index + 1           #необходимо повысить row_index на 1\n",
        "            max_count = available_seats_count\n",
        "        else:                                 #без else выводился последний ряд, теперь если кол-во свободных мест меньше или равно, этот ряд пропускается \n",
        "          pass\n",
        "    return max_row, max_count\n",
        "\n",
        "import random\n",
        "#\n",
        "random.seed(50)\n",
        "#\n",
        "ROWS_MAX = 10\n",
        "SEATS_MAX = 5\n",
        "#\n",
        "seats = [[random.randint(0, 1) for seat in range(SEATS_MAX)]\n",
        "                               for row in range(ROWS_MAX)]\n",
        "#\n",
        "for seat in seats:\n",
        "      print(seat)\n",
        "#\n",
        "print(first_vacant_row(seats))"
      ],
      "metadata": {
        "colab": {
          "base_uri": "https://localhost:8080/"
        },
        "id": "LB7xEOx-_YJu",
        "outputId": "dc923104-5cd7-42c1-ecb3-efaed429dc53"
      },
      "execution_count": null,
      "outputs": [
        {
          "output_type": "stream",
          "name": "stdout",
          "text": [
            "[1, 1, 1, 0, 1]\n",
            "[1, 0, 1, 0, 0]\n",
            "[0, 1, 0, 1, 1]\n",
            "[0, 0, 0, 1, 1]\n",
            "[0, 0, 1, 1, 0]\n",
            "[0, 1, 1, 1, 0]\n",
            "[0, 1, 1, 1, 0]\n",
            "[1, 0, 0, 1, 0]\n",
            "[1, 1, 0, 1, 1]\n",
            "[0, 1, 0, 0, 1]\n",
            "(2, 3)\n"
          ]
        }
      ]
    },
    {
      "cell_type": "code",
      "source": [
        "# Программирование на языке высокого уровня (Python).\n",
        "# https://www.yuripetrov.ru/edu/python\n",
        "# Задание task_07_02_04.\n",
        "#\n",
        "# Выполнила: Вереина М.С.\n",
        "# Группа: АДЭУ-211\n",
        "# E-mail: VereinaMS@mgpu.ru\n",
        "\n",
        "\"\"\"\n",
        "Ошибки: 15 16 17 18\n",
        "\"\"\"\n",
        "\"\"\"Вернуть минимальную сумму соседних 2-х чисел в списке 'nums'.\"\"\"\n",
        "\n",
        "def min_pair(nums):\n",
        "    nim = nums[0] + nums[1]                   #необходимо заменить \"*\" на \"+\", так как возвращается сумма, а не произведение\n",
        "    l = len(nums)                             #необходимо ввести переменную для получения конкретного числа\n",
        "    for i in range(2, l-1):                   #чтобы цикл не выходил за пределы списка, необходимо \"+\" заменить на \"-\"   \n",
        "        nim = min(nums[i] + nums[i + 1], nim) #название переменных не может быть \"min\"\n",
        "    return nim\n",
        "\n",
        "import random\n",
        "#\n",
        "random.seed(50)\n",
        "#\n",
        "N_MAX = 10\n",
        "RANGE_MIN = 1\n",
        "RANGE_MAX = 100\n",
        "nums = random.sample(range(RANGE_MIN, RANGE_MAX), N_MAX)\n",
        "#\n",
        "print(nums)\n",
        "#\n",
        "print(min_pair(nums))"
      ],
      "metadata": {
        "colab": {
          "base_uri": "https://localhost:8080/"
        },
        "id": "eD4_LYUsEwuG",
        "outputId": "7af2e351-3568-41dc-b2df-64e602e0f425"
      },
      "execution_count": null,
      "outputs": [
        {
          "output_type": "stream",
          "name": "stdout",
          "text": [
            "[64, 35, 47, 82, 32, 89, 61, 99, 43, 11]\n",
            "54\n"
          ]
        }
      ]
    },
    {
      "cell_type": "code",
      "source": [
        "# Программирование на языке высокого уровня (Python).\n",
        "# https://www.yuripetrov.ru/edu/python\n",
        "# Задание task_07_02_05.\n",
        "#\n",
        "# Выполнила: Вереина М.С.\n",
        "# Группа: АДЭУ-211\n",
        "# E-mail: VereinaMS@mgpu.ru\n",
        "\n",
        "\"\"\"\n",
        "Ошибки: 18 19 20\n",
        "\"\"\"\n",
        "\"\"\"Удалить из списка чисел 'nums' отрицательные элементы и вернуть\n",
        "измененный список.\"\"\"\n",
        "\n",
        "def non_negatives(nums):\n",
        "    for i in range(len(nums)):\n",
        "        if nums[i] < 0:\n",
        "            nums[i] = -1 #из-за удаления отрицательных чисел длина списка меняется и не пересчитывается, поэтому надо убрать функцию del и присвоить значение \"-1\"\n",
        "    \n",
        "    nums1 = []               #необходимо ввести новую переменную\n",
        "    for i in range(len(nums)): #все отрицательные числа стали -1, мы проверяем все числа списка и не равные -1 добавляем в новый список\n",
        "       \n",
        "      if nums[i] != -1:\n",
        "        nums1.append(nums[i])\n",
        "    return nums\n",
        "\n",
        "import random\n",
        "n = 10\n",
        "nums = [round(random.uniform(-10, 10), 2) for i in range(n)]\n",
        "print(nums)\n",
        "non_negatives(nums)\n",
        "print(nums1)"
      ],
      "metadata": {
        "id": "CmSBaltGNEbZ"
      },
      "execution_count": null,
      "outputs": []
    },
    {
      "cell_type": "markdown",
      "source": [
        "**7.2.2. Обработка исключений и утверждения**\n",
        "\n",
        "Программы 7.2.6-7.2.11 написаны верно, однако содержат места потенциальных ошибок.\n",
        "\n",
        "Для каждой задачи:\n",
        "\n",
        "найдите потенциальные источники ошибок (укажите номера строк в строке документации);\n",
        "\n",
        "используя конструкцию try добавьте в код обработку соответствующих исключений."
      ],
      "metadata": {
        "id": "qhHO9e5tfEDo"
      }
    },
    {
      "cell_type": "code",
      "source": [
        "# Программирование на языке высокого уровня (Python).\n",
        "# https://www.yuripetrov.ru/edu/python\n",
        "# Задание task_07_02_06.\n",
        "#\n",
        "# Выполнила: Вереина М.С.\n",
        "# Группа: АДЭУ-211\n",
        "# E-mail: VereinaMS@mgpu.ru\n",
        "\n",
        "\n",
        "\"\"\"\n",
        "Ошибки: 27 28\n",
        "\"\"\"\n",
        "\"\"\"Вернуть уровень безработицы (УБ) в долях 1.\n",
        "\n",
        "       Расчет по формуле: УБ = Безработные / (Занятые + Безработные).\n",
        "\"\"\"\n",
        "\n",
        "def unemployment_rate(unemployed, employed):\n",
        "    if unemployed > 0 and employed>0:\n",
        "      return unemployed / (unemployed + employed)\n",
        "    else:\n",
        "      raise ValueError('Введите положительные числа')\n",
        "\n",
        "    return unemployed / (unemployed + employed)\n",
        "\n",
        "try:\n",
        "  unemployed = int(input(\"Введите кол-во безработных (чел.): \"))\n",
        "  employed = int(input(\"Введите кол-во занятых (чел.): \"))\n",
        "  rate = unemployment_rate(unemployed, employed)\n",
        "  print(\"Уровень безработицы = {:.1%}\".format(rate))\n",
        "except ValueError as err:\n",
        "    print(\"Ошибка:\", err)\n",
        "except Exception as err:\n",
        "    print(\"Ошибка:\", err)"
      ],
      "metadata": {
        "id": "OqtxC2KbezGe",
        "colab": {
          "base_uri": "https://localhost:8080/"
        },
        "outputId": "9738bd6a-025e-4a4c-97a4-956513cbd329"
      },
      "execution_count": 5,
      "outputs": [
        {
          "output_type": "stream",
          "name": "stdout",
          "text": [
            "Введите кол-во безработных (чел.): -5\n",
            "Введите кол-во занятых (чел.): 8\n",
            "Ошибка: Введите положительные числа\n"
          ]
        }
      ]
    },
    {
      "cell_type": "code",
      "source": [
        "# Программирование на языке высокого уровня (Python).\n",
        "# https://www.yuripetrov.ru/edu/python\n",
        "# Задание task_07_02_07.\n",
        "#\n",
        "# Выполнила: Вереина М.С.\n",
        "# Группа: АДЭУ-211\n",
        "# E-mail: VereinaMS@mgpu.ru\n",
        "\n",
        "\n",
        "\"\"\"\n",
        "Ошибки: 24\n",
        "\"\"\"\n",
        "\"\"\"Вернуть x^y.\"\"\"\n",
        "\n",
        "def power(x, y=2):\n",
        "    if y == 0:\n",
        "        return 1\n",
        "    elif x == 0:\n",
        "        raise ValueError('Введите натуральное число')\n",
        "    else:\n",
        "        return x * power(x, y - 1)\n",
        "\n",
        "try:\n",
        "  x = int(input(\"x=\"))\n",
        "  y = int(input(\"y=\"))\n",
        "  print(power(x, y))\n",
        "\n",
        "except ValueError as err:\n",
        "  print(\"Ошибка:\", err)"
      ],
      "metadata": {
        "colab": {
          "base_uri": "https://localhost:8080/"
        },
        "id": "cpn05Q7MmeHP",
        "outputId": "ccc1801d-9be3-447b-c425-ae03fc1191ed"
      },
      "execution_count": 13,
      "outputs": [
        {
          "output_type": "stream",
          "name": "stdout",
          "text": [
            "x=0\n",
            "y=1\n",
            "Ошибка: Введите натуральное число\n"
          ]
        }
      ]
    },
    {
      "cell_type": "code",
      "source": [
        "# Программирование на языке высокого уровня (Python).\n",
        "# https://www.yuripetrov.ru/edu/python\n",
        "# Задание task_07_02_08.\n",
        "#\n",
        "# Выполнила: Вереина М.С.\n",
        "# Группа: АДЭУ-211\n",
        "# E-mail: VereinaMS@mgpu.ru\n",
        "\n",
        "# Дан список ФИО. Найти наиболее часто встречаемое отчество.\n",
        "# Если отчества нет, человек не учитывается в подсчете.\n",
        "\n",
        "n = int(input(\"Введите кол-во человек: \"))\n",
        "\n",
        "middle_names = {}\n",
        "for i in range(n):\n",
        "    fio = input(\"Введите ФИО через пробел: \").split()\n",
        "    try:\n",
        "      middle_name = fio[2]\n",
        "    except IndexError:\n",
        "      n -=1\n",
        "    middle_names[middle_name] = middle_names.get(middle_name, 0) + 1\n",
        "\n",
        "print(sorted(middle_names.items(), key=lambda item: item[1])[-1][0])\n",
        "print(\"В расчете участвовало человек:\", n)\n"
      ],
      "metadata": {
        "colab": {
          "base_uri": "https://localhost:8080/"
        },
        "id": "YwhyyiBDpCfN",
        "outputId": "3eaf2e47-20a2-4910-909f-63115ec74e86"
      },
      "execution_count": 18,
      "outputs": [
        {
          "output_type": "stream",
          "name": "stdout",
          "text": [
            "Введите кол-во человек: 3\n",
            "Введите ФИО через пробел: H I K\n",
            "Введите ФИО через пробел: L O X\n",
            "Введите ФИО через пробел: U K\n",
            "X\n",
            "В расчете участвовало человек: 2\n"
          ]
        }
      ]
    }
  ]
}