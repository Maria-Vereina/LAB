{
  "nbformat": 4,
  "nbformat_minor": 0,
  "metadata": {
    "colab": {
      "name": "Лаб№4.ipynb",
      "provenance": [],
      "collapsed_sections": [],
      "authorship_tag": "ABX9TyOSB122YZFKbHMlKUJuzakC",
      "include_colab_link": true
    },
    "kernelspec": {
      "name": "python3",
      "display_name": "Python 3"
    },
    "language_info": {
      "name": "python"
    }
  },
  "cells": [
    {
      "cell_type": "markdown",
      "metadata": {
        "id": "view-in-github",
        "colab_type": "text"
      },
      "source": [
        "<a href=\"https://colab.research.google.com/github/Maria-Vereina/LAB4/blob/main/%D0%9B%D0%B0%D0%B1%E2%84%964.ipynb\" target=\"_parent\"><img src=\"https://colab.research.google.com/assets/colab-badge.svg\" alt=\"Open In Colab\"/></a>"
      ]
    },
    {
      "cell_type": "markdown",
      "metadata": {
        "id": "MAOqjSDaM9lE"
      },
      "source": [
        "4.2.1. Условный оператор\n",
        "\n",
        "№ 4.2.1\n",
        "\n",
        "Рассчитать значение ![image.png](data:image/png;base64,iVBORw0KGgoAAAANSUhEUgAAAAwAAAAUCAYAAAC58NwRAAABNklEQVQ4EY2TMUvDQBiG+9Pe6UDIlCkQOJBmCg5m6n7g4CBx6RAyFYcgdGtBOBACoksW0aWDVAKZCoWCIAiBV2JDib1LdMiQ5J77nvf77kZ1XdP6lJpKSkrpUirNql03si6u18xOQZxHjAQIRFxs9hvbgbcZPYDBTU6dxEyXK+6+BoDd3YQAqB5MXWuF4loQCJi9/wG8JB4936N70ngLOl7zrqhb/yavpULBGCDG2aEz3caYQJkxACiuCmu7TeDp8idwOK/+B1S3AQGH02czsCXDJ3P1e1Bdfwuw5swH4adctYMaBj5yqqZDF49Wf7PC65QOwGi5GQaq+5RxkrOYhwRCZqU98L7CVnPSaIiQ4RgUSh8O2rF/q1RRK0nXl5RnKYtt/+5mhr7L1PluTrrzs0dpWOEY+gbsOl2krJYcPwAAAABJRU5ErkJggg==)при заданном значении вещественного числа ![image.png](data:image/png;base64,iVBORw0KGgoAAAANSUhEUgAAAA0AAAAOCAYAAAD0f5bSAAABHUlEQVQoFb2QsUvEMBjF70/7pps6FYROBaFTcLggWAqdMtlBPCg6dfCWE6GHg1umgmSQLnKTU6dMBSEgCAeBJ6a9i9wheItD4AvJ733vvYm1FseeybHA938PbXqokoPlAjyOIWoFWXLwLEV8KiD14KiXYgt9op1HYA+ds2pkDiJCMG+xrkI3s1q7t7cqHCHToJjdo9sMat1dBKIAN68WuimQZgu07z67t7crpMfqjEDTAmoU2c99CH00EESg8yf0OyG/xRdh1lhkKYpGw75cY0qEZDnks7bDalagMR50m/pH5sKGtwrqMnCzeB4+6Zohumphxq2+PS2RRwn4RQxWSsiKIThhyLMEvFTQP7L59n7xvl/A9n5YxB8E/g/6Apwah/tJ8C+7AAAAAElFTkSuQmCC):\n",
        "\n",
        "![image.png](data:image/png;base64,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)\n",
        "\n",
        "При выводе на экран оставьте 2 знака после запятой."
      ]
    },
    {
      "cell_type": "code",
      "metadata": {
        "colab": {
          "base_uri": "https://localhost:8080/"
        },
        "id": "KVMpRYY5Mwqk",
        "outputId": "4ec7e484-7e1e-461d-9708-e499f9af68a3"
      },
      "source": [
        "# Программирование на языке высокого уровня (Python).\n",
        "# https://www.yuripetrov.ru/edu/python\n",
        "# Задание task_04_02_01.\n",
        "#\n",
        "# Выполнил: Вереина М.С.\n",
        "# Группа: АДЭУ-211\n",
        "# E-mail: vereina.m@yandex.ru\n",
        "\n",
        "\n",
        "x = float(input(\"Введите число x: \"))\n",
        "\n",
        "if x >= 0:\n",
        "    f =  x**(1/2) + x**2\n",
        "else:\n",
        "    f = 1 / x\n",
        "\n",
        "print(round(f, 2))\n",
        "\n",
        "\n",
        "# --------------\n",
        "# Пример вывода:\n",
        "#\n",
        "# Введите число x: -10\n",
        "# f = -0.10\n",
        "\n",
        "# Введите число x: 0\n",
        "# f = 0.00\n",
        "\n",
        "# Введите число x: 10\n",
        "# f = 103.16"
      ],
      "execution_count": null,
      "outputs": [
        {
          "output_type": "stream",
          "name": "stdout",
          "text": [
            "Введите число x: 10\n",
            "103.16\n"
          ]
        }
      ]
    },
    {
      "cell_type": "markdown",
      "metadata": {
        "id": "PVTn6NzfWRjA"
      },
      "source": [
        "№ 4.2.2\n",
        "\n",
        "Определите максимальное и минимальное значения из двух различных целых чисел."
      ]
    },
    {
      "cell_type": "code",
      "metadata": {
        "colab": {
          "base_uri": "https://localhost:8080/"
        },
        "id": "uLB1RmwdWaBg",
        "outputId": "48e64918-5b0f-419a-efac-34c66abbf44b"
      },
      "source": [
        "# Программирование на языке высокого уровня (Python).\n",
        "# https://www.yuripetrov.ru/edu/python\n",
        "# Задание task_04_02_02.\n",
        "#\n",
        "# Выполнил: Вереина М.С.\n",
        "# Группа: АДЭУ-211\n",
        "# E-mail: vereina.m@yandex.ru\n",
        "\n",
        "\n",
        "a1 = int(input(\"Введите первое число: \"))\n",
        "a2 = int(input(\"Введите второе число: \"))\n",
        "\n",
        "# Переменная 'a_min' должна содержать минимум, 'a_max' - максимум\n",
        "a_min = min(a1, a2)\n",
        "a_max = max(a1, a2)\n",
        "print(\"Максимум: {0}, минимум: {1}\".format(a_max, a_min))\n",
        "\n",
        "# --------------\n",
        "# Пример вывода:\n",
        "#\n",
        "# Введите первое число: 1\n",
        "# Введите второе число: 2\n",
        "# Максимум: 2, минимум: 1\n",
        "\n",
        "# Введите первое число: 5\n",
        "# Введите второе число: 5\n",
        "# Максимум: 5, минимум: 5\n",
        "\n",
        "# Введите первое число: 100\n",
        "# Введите второе число: -1\n",
        "# Максимум: 100, минимум: -1"
      ],
      "execution_count": null,
      "outputs": [
        {
          "output_type": "stream",
          "name": "stdout",
          "text": [
            "Введите первое число: 1\n",
            "Введите второе число: 2\n",
            "Максимум: 2, минимум: 1\n"
          ]
        }
      ]
    },
    {
      "cell_type": "markdown",
      "metadata": {
        "id": "-bF_bqi_NE_a"
      },
      "source": [
        "№ 4.2.3\n",
        "\n",
        "Вася пытается высунуть голову в форточку размерами a и b см. Приняв условно, что его голова - круглая диаметром d см, определите, сможет ли Вася сделать это. Для прохождения головы в форточку необходим зазор в 1 см. с каждой стороны.\n",
        "\n",
        "Все величины - целые числа."
      ]
    },
    {
      "cell_type": "code",
      "metadata": {
        "colab": {
          "base_uri": "https://localhost:8080/"
        },
        "id": "qdL1_ygRNEo_",
        "outputId": "14dc9ccb-bd82-4ab0-a9e9-9441e37721f4"
      },
      "source": [
        "# Программирование на языке высокого уровня (Python).\n",
        "# https://www.yuripetrov.ru/edu/python\n",
        "# Задание task_04_02_03.\n",
        "#\n",
        "# Выполнил: Вереина М.С.\n",
        "# Группа: АДЭУ-211\n",
        "# E-mail: vereina.m@yandex.ru\n",
        "\n",
        "\n",
        "a = int(input('Ширина форточки: '))\n",
        "b = int(input('Высота форточки: '))\n",
        "d = int(input('Диаметр головы: '))\n",
        "\n",
        "# Введенные числа должны быть положительными, если так - осуществляем\n",
        "# расчет, иначе выводим \"Проверьте ввод\"   \n",
        "if a>0 and b>0 and d>0:\n",
        "  fix = 1  # Зазор\n",
        "  if a>=(d+2*fix) and b>=(d+2*fix):\n",
        "   print('Да') \n",
        "  else:\n",
        "   print('Нет')\n",
        "    # Вывести \"Да\" или \"Нет\"\n",
        "    # Удалите комментарий и допишите код\n",
        "else:\n",
        "    print('Проверьте ввод')   \n",
        "    \n",
        "            \n",
        "    \n",
        "    \n",
        "\n",
        "# --------------\n",
        "# Пример вывода:\n",
        "#\n",
        "# Ширина форточки: 5\n",
        "# Высота форточки: 6\n",
        "# Диаметр головы: 6\n",
        "# Нет\n",
        "\n",
        "# Ширина форточки: 6\n",
        "# Высота форточки: 7\n",
        "# Диаметр головы: 4\n",
        "# Да\n"
      ],
      "execution_count": null,
      "outputs": [
        {
          "output_type": "stream",
          "name": "stdout",
          "text": [
            "Ширина форточки: 6\n",
            "Высота форточки: 7\n",
            "Диаметр головы: 4\n",
            "Да\n"
          ]
        }
      ]
    },
    {
      "cell_type": "markdown",
      "metadata": {
        "id": "pN2xBB0-obEo"
      },
      "source": [
        "№ 4.2.4\n",
        "\n",
        "Известны год и номер месяца сегодняшнего дня, а также год и номер месяца рождения человека (нумерация месяцев с 1: январь - 1 и т.д.). Определите возраст человека (число полных лет)."
      ]
    },
    {
      "cell_type": "code",
      "metadata": {
        "colab": {
          "base_uri": "https://localhost:8080/"
        },
        "id": "BUYH5gI5ov3_",
        "outputId": "86efe18c-629b-4589-aa64-2476b19f4f93"
      },
      "source": [
        "# Программирование на языке высокого уровня (Python).\n",
        "# https://www.yuripetrov.ru/edu/python\n",
        "# Задание task_04_02_04.\n",
        "#\n",
        "# Выполнил: Вереина М.С.\n",
        "# Группа: АДЭУ-211\n",
        "# E-mail: vereina.m@yandex.ru\n",
        "\n",
        "\n",
        "year_today = int(input(\"Введите текущий год: \"))\n",
        "month_today = int(input(\"Введите текущий месяц: \"))\n",
        "\n",
        "year = int(input(\"Введите год рождения: \"))\n",
        "month = int(input(\"Введите месяц рождения: \"))\n",
        "\n",
        "# Считается, введенные значения находятся в допустимых пределах,и\n",
        "# что 'month_today' >= 'month' (проверять значения не нужно)\n",
        "# Результат необходимо записать в переменную 'age'\n",
        "\n",
        "age1 = year_today - year\n",
        "if month_today < month:\n",
        "  age = age1 - 1\n",
        "else:\n",
        "  age = age1\n",
        "print(\"Число полных лет: \", age)\n",
        "\n",
        "# --------------\n",
        "# Пример вывода:\n",
        "#\n",
        "# Введите текущий год: 2017\n",
        "# Введите текущий месяц: 5\n",
        "# Введите год рождения: 2000\n",
        "# Введите месяц рождения: 1\n",
        "# Число полных лет:  17\n",
        "#\n",
        "# Введите текущий год: 2015\n",
        "# Введите текущий месяц: 6\n",
        "# Введите год рождения: 2010\n",
        "# Введите месяц рождения: 8\n",
        "# Число полных лет:  4\n",
        "#\n",
        "# Введите текущий год: 2020\n",
        "# Введите текущий месяц: 5\n",
        "# Введите год рождения: 2000\n",
        "# Введите месяц рождения: 5\n",
        "# Число полных лет:  20\n"
      ],
      "execution_count": null,
      "outputs": [
        {
          "output_type": "stream",
          "name": "stdout",
          "text": [
            "Введите текущий год: 2021\n",
            "Введите текущий месяц: 9\n",
            "Введите год рождения: 2003\n",
            "Введите месяц рождения: 5\n",
            "Число полных лет:  18\n"
          ]
        }
      ]
    },
    {
      "cell_type": "markdown",
      "metadata": {
        "id": "XGjI7z82pvhQ"
      },
      "source": [
        "№ 4.2.5\n",
        "\n",
        "Дана точка с целыми ненулевыми координатами (x;y). Определить номер четверти координатной плоскости, которой она принадлежит."
      ]
    },
    {
      "cell_type": "code",
      "metadata": {
        "colab": {
          "base_uri": "https://localhost:8080/"
        },
        "id": "yB3s64r_p5km",
        "outputId": "7cf0ae75-0e4c-4807-f13d-0d7de410daef"
      },
      "source": [
        "# Программирование на языке высокого уровня (Python).\n",
        "# https://www.yuripetrov.ru/edu/python\n",
        "# Задание task_04_02_05.\n",
        "#\n",
        "# Выполнил: Вереина М.С.\n",
        "# Группа: АДЭУ-211\n",
        "# E-mail: vereina.m@yandex.ru\n",
        "\n",
        "\n",
        "x = int(input('Введите координату x: '))\n",
        "y = int(input('Введите координату y: '))\n",
        "\n",
        "if x>0 and y>0:\n",
        "    print(\"1-я четверть\")\n",
        "elif x<0 and y>0:\n",
        "    print(\"2-я четверть\")\n",
        "elif x<0 and y<0:\n",
        "    print(\"3-я четверть\")\n",
        "elif x>0 and y<0:\n",
        "    print(\"4-я четверть\")\n",
        "else:\n",
        "    print(\"Проверьте ввод\")\n",
        "# --------------\n",
        "# Пример вывода:\n",
        "#\n",
        "# Введите координату x: 5\n",
        "# Введите координату y: 7\n",
        "# 1-я четверть"
      ],
      "execution_count": null,
      "outputs": [
        {
          "output_type": "stream",
          "name": "stdout",
          "text": [
            "Введите координату x: 0\n",
            "Введите координату y: 5\n",
            "Проверьте ввод\n"
          ]
        }
      ]
    },
    {
      "cell_type": "markdown",
      "metadata": {
        "id": "C1CoO6xe_SV4"
      },
      "source": [
        "№ 4.2.6\n",
        "\n",
        "Даны вещественные числа ![image.png](data:image/png;base64,iVBORw0KGgoAAAANSUhEUgAAAGgAAAAXCAYAAADnaAq1AAAFfklEQVRoBe1Y32crWxQ+f9p+2hyGMpShDNW4ZOThROkow2U43KiaQ6UvOQ+t0jh0HG7KYZ5CpdTch0qpPlypw1CGMpQQhu/a83PPZCaZ9CRHLnmISXZm772+9a31rbX3B9/3sfmsrw8+bMhZX3IYNxuC1lxBNgRtCFpvCVl3iV9uBr30oNcV1EQKQproub+DHA+O4/2eRufNhrGtwXpdAq6JA6eCf5ZLUCAXNgxKQHY6eJosAcg8CXpoQ6QtDMar32t0KUM8GVYLhskI1lETcl2DfihDarRgPac2Pn0VQfU+vDn4lk/Qzy5qhIB8HlQDMsfA2RLkordPIF+OVr+X14f+Ua+YPQ7MBgWpdzGKgtT5poAQBaYTkcTWozLO/01JK8K6dIK8HyoIIVCunNU77bkLmagVnTbbEUXO4cdGZzLkr0/VMN23IeR98GJCIQTCFztZwz6mEOZk5NIJsr+w+iOh8/hrDuGdU/bduVJADqy5MlE2v/K4a0H9qKPvVcM0PBWCIG3d8u/bMJiyCG0MY9W4M0C3uN/xOPecIsi5aaMpyVB1FXKjjfMLA8Z1xcjxRzjfISBEhNyQ0TxUIYsKOveLFXHv2ULnUIGitdA6kCHrFpypejZGXyeofZvOVO/RhL4rQdF1KLsaOhcdGBcDuBzwyuT4PoanIuSzqjIa2sVUpJAgosGKiX61oPKyV2BfhiAWkZQq6EbFzL1uBpFAj9O0nAks2JCAcGuMziQQoqP/xkdT+XfnhwaRiDBuGakuLI1lZB4sm+/ArE+Pe3cGN9+HH8kNqZtwChwQ43m6VCDtSAUfEZQQUDH7n3JZFrShXdM2RxlEauj+jPEP0d4iMO7i39PPlCDWDeU0Mq4nmlUxA25bYf3hojqQITLbiNhJ/pQNLvpHNTSPrKTYJu/6IeAMOCZFrIPcN+HGGfcQ1gOpav3IkTg8ERbInjRwqhEUkpnBkNs/ImiM/mcWqTSTlqyIZTqP3OTUWSHzYbYIaN/HkRCnOz8W/5d/xjZUeZfNnSaItcHMMcpUgNCZUZrHkfxeqHOL8cSY89kdZxAncZEKVCAoTDXC62NcTyqfZzxYB0zeWhjE0etH69IqBTY6PxGdmx+DLnrmJS7aP9OgxM7inVK0VvHYQuceLnhnNgmsKUj8E2KuQFDknL20b/edsC0M6s/DOWpH8w5VLswGAdnrplof6X+19jS1IV8rvOdRKlmJI0Lnp01CtD9P8CRak9Uf14Je7+IpmZ8lZaoGSQIooRAL65KE2kVZDUrrXuaoEfmTb7P96k1CJC/bnRDAJDpoEdYljcB0uPndhe/0oO7U0L4rrkmBxLA1WIREa9B9M6kfzt8qpD/asOMuJucs1i0RwYCdRJgP58ZATTIwKLheybfZocTF2eLBPhYDySN/DcAanoxzcnsnshaNvzd7wnUi/3EBHxxUqQIzaRB8+Hybzfx1KKF2amPM2ZY2Ca82Og0B0icVzd0m2jc2zAMBdFuEHDuZRQEloNxhKwPsbQRTZ9cabA0F+tUwE/nOdyWISuOfbPQma0TXI9KuitaRBmWvCf1iAKfsGic4qHJ3fpMReroMYU+FVmf727BOZNAtEZJcTHKyN+cUP6g9KnovJXby75Z957DomgL5Uwu9Rz6ww6RIDqpv7GaBgGrZc11KUNlGuXH3WoXeHyen4UKAuTnpOy56B9Vb7nRemaPclVz1LHRrUIq1zOZo3O2hSeTkSBNgnYwx5tSDjS1G0KsF/U/r3Qc+z9KhWe47yS0BvOzL0nd1biW2zSBvdZelOYbnRzln/K/MLQU7hldQnxayi1t7sVsDDhu3RqW9Jx68klrMz18sgxY14v/2/qsFbbuFQQXH8U5c5fcNQWseRP8BCEnG4WkGrSYAAAAASUVORK5CYII=)\n",
        "\n",
        "Решите уравнение ![image.png](data:image/png;base64,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). При выводе значений оставьте 1 знак после запятой.!"
      ]
    },
    {
      "cell_type": "code",
      "metadata": {
        "colab": {
          "base_uri": "https://localhost:8080/"
        },
        "id": "eiZ8m-1__9aZ",
        "outputId": "6250cc07-9719-40bf-d653-fca901fa89ec"
      },
      "source": [
        "# Программирование на языке высокого уровня (Python).\n",
        "# https://www.yuripetrov.ru/edu/python\n",
        "# Задание task_04_02_06.\n",
        "#\n",
        "# Выполнил: Вереина М.С.\n",
        "# Группа: АДЭУ-211\n",
        "# E-mail: vereina.m@yandex.ru\n",
        "\n",
        "\n",
        "a = int(input('a = '))\n",
        "a != 0\n",
        "b = int(input('b = '))\n",
        "c = int(input('c = '))\n",
        "\n",
        "# Расчет дискриминанта\n",
        "d = b**2-4*a*c\n",
        "\n",
        "\n",
        "# Вывод решения в зависимости от значения дискриминанта\n",
        "# При выводе значений оставьте 1 знак после запятой\n",
        "if (d<0):\n",
        "   print(\"Решений нет\")\n",
        "elif (d>0) :\n",
        "  x1=((-b + (d**0.5))/(2*a))\n",
        "  x2=((-b - (d**0.5))/(2*a))\n",
        "  print('x1 =' ,round(x1, 1), 'x2 =' ,round(x2, 1))\n",
        "else:\n",
        "  x=-b/2*a\n",
        "  print('x = ', round(x,1))\n",
        "# --------------\n",
        "# Пример вывода:\n",
        "#\n",
        "# a = 1\n",
        "# b = 2\n",
        "# c = 3\n",
        "# Решений нет\n",
        "#\n",
        "# a = 1\n",
        "# b = 2\n",
        "# c = 1\n",
        "# x = -1.0\n",
        "#\n",
        "# a = 1\n",
        "# b = 3\n",
        "# c = -4\n",
        "# x1 = -4.0, x2 = 1.0"
      ],
      "execution_count": null,
      "outputs": [
        {
          "output_type": "stream",
          "name": "stdout",
          "text": [
            "a = 1\n",
            "b = 3\n",
            "c = -4\n",
            "x1 = 1.0 x2 = -4.0\n"
          ]
        }
      ]
    },
    {
      "cell_type": "markdown",
      "metadata": {
        "id": "X-LY8-RMDWx0"
      },
      "source": [
        "4.2.2. Цикл с условием\n",
        "\n",
        "№ 4.2.7\n",
        "\n",
        "Дана непустая последовательность целых чисел, оканчивающаяся нулем. Найти сумму и количество введенных чисел."
      ]
    },
    {
      "cell_type": "code",
      "metadata": {
        "colab": {
          "base_uri": "https://localhost:8080/"
        },
        "id": "ZMzCuak0DbrE",
        "outputId": "53034899-4cd8-490f-8146-38f7031dfa82"
      },
      "source": [
        "# Программирование на языке высокого уровня (Python).\n",
        "# https://www.yuripetrov.ru/edu/python\n",
        "# Задание task_04_02_07.\n",
        "#\n",
        "# Выполнил: Вереина М.С.\n",
        "# Группа: АДЭУ-211\n",
        "# E-mail: vereina.m@yandex.ru\n",
        "\n",
        "\n",
        "nums_sum = 0  # сумма\n",
        "nums_count = 0  # количество\n",
        "\n",
        "x = int(input('Введите 1-е число: '))\n",
        "\n",
        "while x != 0:\n",
        "    nums_sum += x\n",
        "    nums_count += 1\n",
        "    x = int(input('Введите {}-е число: '.format(nums_count + 1))) \n",
        "\n",
        "print('Сумма = ', nums_sum)\n",
        "print('Количество = ', nums_count)\n",
        "\n",
        "# --------------\n",
        "# Пример вывода:\n",
        "#\n",
        "# Введите 1-е число: 1\n",
        "# Введите 2-е число: 2\n",
        "# Введите 3-е число: 3\n",
        "# Введите 4-е число: 4\n",
        "# Введите 5-е число: 0\n",
        "# Сумма = 10\n",
        "# Количество = 4\n",
        "#\n",
        "# Введите 1-е число: 0\n",
        "# Сумма = 0\n",
        "# Количество = 0"
      ],
      "execution_count": null,
      "outputs": [
        {
          "output_type": "stream",
          "name": "stdout",
          "text": [
            "Введите 1-е число: 0\n",
            "Сумма =  0\n",
            "Количество =  0\n"
          ]
        }
      ]
    },
    {
      "cell_type": "markdown",
      "metadata": {
        "id": "PqIgzJrrJNAy"
      },
      "source": [
        "№ 4.2.8\n",
        "\n",
        "Дано число n. Из чисел ![image.png](data:image/png;base64,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) напечатать те, которые не превышают n."
      ]
    },
    {
      "cell_type": "code",
      "metadata": {
        "colab": {
          "base_uri": "https://localhost:8080/"
        },
        "id": "W29BGh78JSrK",
        "outputId": "d5b88235-4345-439d-a679-cf651958984b"
      },
      "source": [
        "# Программирование на языке высокого уровня (Python).\n",
        "# https://www.yuripetrov.ru/edu/python\n",
        "# Задание task_04_02_08.\n",
        "#\n",
        "# Выполнил: Вереина М.С.\n",
        "# Группа: АДЭУ-211\n",
        "# E-mail: vereina.m@yandex.ru\n",
        "\n",
        "\n",
        "n = int(input('n = '))\n",
        "i = 0\n",
        "while i <= n:\n",
        "  print(i)\n",
        "  i = i + 5\n",
        "\n",
        "\n",
        "# --------------\n",
        "# Пример вывода:\n",
        "#\n",
        "# n = 0\n",
        "# 0\n",
        "#\n",
        "# n = 10\n",
        "# 0\n",
        "# 5\n",
        "# 10\n",
        "#\n",
        "# n = 12\n",
        "# 0\n",
        "# 5\n",
        "# 10\n"
      ],
      "execution_count": null,
      "outputs": [
        {
          "output_type": "stream",
          "name": "stdout",
          "text": [
            "n = 12\n",
            "0\n",
            "5\n",
            "10\n"
          ]
        }
      ]
    },
    {
      "cell_type": "markdown",
      "metadata": {
        "id": "ILTxbrMDK-GS"
      },
      "source": [
        "№ 4.2.9\n",
        "\n",
        "Дано вещественное число a. Найдите наименьшее натуральное n, для которого верно\n",
        "\n",
        "![image.png](data:image/png;base64,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)"
      ]
    },
    {
      "cell_type": "code",
      "metadata": {
        "colab": {
          "base_uri": "https://localhost:8080/"
        },
        "id": "GHyWK6FIK9oK",
        "outputId": "f651023d-1527-4004-b662-3cf2ae8b9ca8"
      },
      "source": [
        "# Программирование на языке высокого уровня (Python).\n",
        "# https://www.yuripetrov.ru/edu/python\n",
        "# Задание task_04_02_09.\n",
        "#\n",
        "# Выполнил: Вереина М.С.\n",
        "# Группа: АДЭУ-211\n",
        "# E-mail: vereina.m@yandex.ru\n",
        "\n",
        "\n",
        "a = float(input('a = '))\n",
        "\n",
        "n = 0\n",
        "x_sum = 0\n",
        "\n",
        "while x_sum <= a:\n",
        "    n += 1\n",
        "    x_sum += 1/n\n",
        "print(\"n =\", n)\n",
        "\n",
        "# --------------\n",
        "# Пример вывода:\n",
        "#\n",
        "# a = 1.5\n",
        "# n = 3\n",
        "#\n",
        "# a = 2\n",
        "# n = 4"
      ],
      "execution_count": null,
      "outputs": [
        {
          "output_type": "stream",
          "name": "stdout",
          "text": [
            "a = 1.5\n",
            "n = 3\n"
          ]
        }
      ]
    },
    {
      "cell_type": "markdown",
      "metadata": {
        "id": "qoPJHpjnMpLV"
      },
      "source": [
        "№ 4.2.10\n",
        "\n",
        "Дано натуральное число. Определите сумму и количество его цифр."
      ]
    },
    {
      "cell_type": "code",
      "metadata": {
        "colab": {
          "base_uri": "https://localhost:8080/"
        },
        "id": "2Zd1XxPBM1MT",
        "outputId": "9820eb5a-7f75-4ba4-cd90-23456831d8fb"
      },
      "source": [
        "# Программирование на языке высокого уровня (Python).\n",
        "# https://www.yuripetrov.ru/edu/python\n",
        "# Задание task_04_02_10.\n",
        "#\n",
        "# Выполнил: Вереина М.С.\n",
        "# Группа: АДЭУ-211\n",
        "# E-mail: vereina.m@yandex.ru\n",
        "\n",
        "n = int(input(\"n = \"))\n",
        "\n",
        "n_sum = 0\n",
        "n_count = 0\n",
        "\n",
        "while n != 0:\n",
        "    n_sum += n % 10\n",
        "    n_count += 1\n",
        "    n = n//10\n",
        "print(\"Сумма = \", n_sum)\n",
        "print(\"Количество = \", n_count)    \n",
        "\n",
        "# --------------\n",
        "# Пример вывода:\n",
        "#\n",
        "# n = 12345\n",
        "# Сумма = 15\n",
        "# Количество = 5"
      ],
      "execution_count": null,
      "outputs": [
        {
          "output_type": "stream",
          "name": "stdout",
          "text": [
            "n = 12345\n",
            "Сумма =  15\n",
            "Количество =  5\n"
          ]
        }
      ]
    },
    {
      "cell_type": "markdown",
      "metadata": {
        "id": "4u8VGqM3NZLC"
      },
      "source": [
        "№ 4.2.11\n",
        "\n",
        "Вывести в строку 10 первых натуральных чисел, оканчивающихся на цифру k, кратных числу s и находящихся в интервале, левая граница которого равна start."
      ]
    },
    {
      "cell_type": "code",
      "metadata": {
        "colab": {
          "base_uri": "https://localhost:8080/"
        },
        "id": "HAGDAMvhNnHP",
        "outputId": "34d35928-6234-4a27-fc2a-1c54b9aa5f67"
      },
      "source": [
        "# Программирование на языке высокого уровня (Python).\n",
        "# https://www.yuripetrov.ru/edu/python\n",
        "# Задание task_04_02_11.\n",
        "#\n",
        "# Выполнил: Вереина М.С.\n",
        "# Группа: АДЭУ-211\n",
        "# E-mail: vereina.m@yandex.ru\n",
        "\n",
        "start = int(input(\"start = \"))\n",
        "k = int(input(\"k = \"))\n",
        "s = int(input(\"s = \"))\n",
        "n_count = 0\n",
        "\n",
        "while n_count < 10:\n",
        "    if start % 10 == k and start % s == 0:\n",
        "        print(start, end=' ')\n",
        "        n_count += 1\n",
        "\n",
        "    start += 1\n",
        "\n",
        "# --------------\n",
        "# Пример вывода:\n",
        "#\n",
        "# start = 100\n",
        "# k = 7\n",
        "# s = 9\n",
        "# 117 207 297 387 477 567 657 747 837 927"
      ],
      "execution_count": null,
      "outputs": [
        {
          "output_type": "stream",
          "name": "stdout",
          "text": [
            "start = 100\n",
            "k = 7\n",
            "s = 9\n",
            "117 207 297 387 477 567 657 747 837 927 "
          ]
        }
      ]
    },
    {
      "cell_type": "markdown",
      "metadata": {
        "id": "LlzTfxk4RJIE"
      },
      "source": [
        "4.2.3. Совместный цикл (цикл по коллекциям)\n",
        "\n",
        "№ 4.2.12\n",
        "\n",
        "Даны целые числа  a и b (a может быть больше b). Напечатайте:\n",
        "\n",
        "- числа от минимального до максимального в строчку (разделяя пробелом);\n",
        "\n",
        "- числа от максимального до минимального «столбиком»."
      ]
    },
    {
      "cell_type": "code",
      "metadata": {
        "colab": {
          "base_uri": "https://localhost:8080/"
        },
        "id": "tN1bDMl4RY4X",
        "outputId": "686d4b31-c41f-4bad-cd99-88919f283c38"
      },
      "source": [
        "# Программирование на языке высокого уровня (Python).\n",
        "# https://www.yuripetrov.ru/edu/python\n",
        "# Задание task_04_02_12.\n",
        "#\n",
        "# Выполнил: Вереина М.С.\n",
        "# Группа: АДЭУ-211\n",
        "# E-mail: vereina.m@yandex.ru\n",
        "\n",
        "a = int(input(\"a = \"))\n",
        "b = int(input(\"b = \"))\n",
        "\n",
        "if a < b:\n",
        "    min = a \n",
        "    max = b\n",
        "else: \n",
        "    min = b\n",
        "    max = a \n",
        "\n",
        "for i in range(min, max +1):\n",
        "    print(i, end=\" \") \n",
        "print()\n",
        "for i in range(max, min -1, -1):\n",
        "    print(i)\n",
        "\n",
        "# --------------\n",
        "# Пример вывода:\n",
        "#\n",
        "# a = 1\n",
        "# b = 5\n",
        "# 1 2 3 4 5\n",
        "# 5\n",
        "# 4\n",
        "# 3\n",
        "# 2\n",
        "# 1"
      ],
      "execution_count": null,
      "outputs": [
        {
          "output_type": "stream",
          "name": "stdout",
          "text": [
            "a = 1\n",
            "b = 5\n",
            "1 2 3 4 5 \n",
            "5\n",
            "4\n",
            "3\n",
            "2\n",
            "1\n"
          ]
        }
      ]
    },
    {
      "cell_type": "markdown",
      "metadata": {
        "id": "RBO_itaPUJIl"
      },
      "source": [
        "№ 4.2.13\n",
        "\n",
        "Для введенных с клавиатуры положительных целых чисел ![image.png](data:image/png;base64,iVBORw0KGgoAAAANSUhEUgAAAF0AAAAUCAYAAADvJjFnAAAE4UlEQVRYCe2Y72cjWxjH9087rw5lKEMZylCJS0Ze3Cgdl3I5lBurplT2TfpiY9mxdPRFymUooVJq7otKWVnWrDKUIQxlCMP3OvMjczKZTtK9vU2XvojMz/M8z+f5eeZdFEV4+70sg3dvwF8WOOe9Huj3fbCGhrpMQUgLfX81w33Pf2VZ6aPPNGg1GZQQtM4L+nke/JJKsh7osSIODEpAtrsYT1eA7tvQaR3m3QrPlhj65IwOPQw/dTHwlstzjnjwKOh+FZ8do7tFwS6ChUBZH/Q7E3VCQA6GC0qVARodS6AHA4TPAbRqjYkL+1iDssNgXnsIlwaEB7NGQAjDsPBscMFAd3pwC9fXBj34WwchBNqptxz6wwCMSujcipH0zMf+CP33dci/tdG/9VeAncqf2NB58DQseEVnTnk2S+jczOv6/0EPg0rFy1NyXrlZxF8boJsdjIpGPce558Bk6tNhZ7L/MeJ6rpyMS4PHOaSQPozm7i1A9y47aCkqdKZDbXbQ+2TAOC9fkEPxTrVFL99Z0CiBcf0IxMhFb5unpAy1qaL1hw5V1tC9Wax/XIb7UQH5q6QMTcawmAqlycCaKvZPeuge9TBcoTGHd0N09xRIaWTPHJzBXPE/1o0QyKoGdVeHrsrQTkYI0vfjjC5kwRx0DpBSDeaPBJZ/3opLAD105jwlKrgAferBbHCgFdCzlBRkJcozDB4WHeUcEtS/FMpQ4MDYIpAPhwh4zZyO0NnkcjVYlc3Pg/2nArrdhv2tMG2sCDq3P4C9x2VSaF/chNH3HhRCwC7C5Py2A4kYcIS1c+i3HciEQDrKAWd1d98uj0AufB56COdIhnxkgFVBv2on9VwAGa9T+o4Hq1Gs/T7svWTctO4zJ6XQV5mGvCTKac2A/f1x23K4mYzC/3SIdlzPTXhZs/QsaPxaFqjxeSn0EIMDbgRF+ypfmNejZZEjQg+uDcgNroADoxRgsnYS1WKDCTFgPGLEa5keJdB/mFAfMbYqKxcg8nrOo76WNM+F+0J0lt5Lo1o6zmt2eMHigJpdexx6lpr7sIPM2LTuLomcGfRgALahwYrn6CroaUrStjBipfIpw2AmP9MjQrG8ZBkoNq/M2KqsLAXHwabNVHoi/ESP+UAdfZDi4J3N53GjLY30dKNSM/OZMk2TOHJue6i/H8yag6h8At2A0RQ3AlXQfVhNAlIz8xHrhtc9AvWRCaDYSP0zLY4mdik6JstKHzbTYH7L74n6Vh6nY6Ok7MczeuWzUYRED2HDlvWVnXzDV9FI0/Ky1cWYe37qwWpyI3gDc8E3Jq2z8qaT1WL50BGcUgU9gvtZBeGy4gaYyKK7Vu7wYloXR8a0vGRRHZc1Xm5IG8P7PlqbBpysxhbXWuVcgG9XNeVYD3m2E+Us6EYLVjqIcKdVj4wTB92mBOV3Ha2dFjqXDqw9CXRLhloBJIa+ZcCZmzqqoUcPbjrqcVka2OkIfhWkbHMkbDLccwZ1sw59X4PGLDh2B+qGBFlRYVz9h+YoOmXJXiOKQrhnDKqiQd9VYz1G4rhaojd3RD69iMJe4fGLfQZ4RtvjkXvHhFtY85eBHr30B68CqGX1ffH+a/zg9RNGBZPnKBtjmA0FyvYqvzp6c18On9icJ4HQ5/J3f51I/wknLUZfbvg6771BX4Mz/wVAR77gCRrAcwAAAABJRU5ErkJggg==) определите:\n",
        "\n",
        "- сумму всех целых чисел от a до b;\n",
        "\n",
        "- произведение всех целых чисел от a до b;\n",
        "\n",
        "- среднее арифметическое всех целых чисел от a до b;\n",
        "\n",
        "- среднее геометрическое нечетных чисел от a до b.\n",
        "\n",
        "Отрезок поиска включает сами числа a и b. При выводе вещественных результатов оставьте два знака после запятой."
      ]
    },
    {
      "cell_type": "code",
      "metadata": {
        "colab": {
          "base_uri": "https://localhost:8080/"
        },
        "id": "cqNKdu2gUn7m",
        "outputId": "9c9b4695-f425-4ea7-e9e4-6f34d941fcab"
      },
      "source": [
        "# Программирование на языке высокого уровня (Python).\n",
        "# https://www.yuripetrov.ru/edu/python\n",
        "# Задание task_04_02_13.\n",
        "#\n",
        "# Выполнил: Вереина М.С.\n",
        "# Группа: АДЭУ-211\n",
        "# E-mail: vereina.m@yandex.ru\n",
        "\n",
        "import math\n",
        "a = int(input(\"a = \"))\n",
        "b = int(input(\"b = \"))\n",
        "\n",
        "n_sum = 0\n",
        "n_mult = 1\n",
        "n_res = 0\n",
        "n_mult_g = 1\n",
        "n_res_g = 0\n",
        "\n",
        "for i in range(a, b+1):\n",
        "    n_sum += i\n",
        "    n_mult *= i\n",
        "    n_res += 1\n",
        "    if i % 2 == 1:\n",
        "        n_mult_g *= i\n",
        "        n_res_g += 1\n",
        "\n",
        "n_avg = n_sum / n_res\n",
        "n_avg_geom = math.pow(n_mult_g, 1/n_res_g)\n",
        "\n",
        "print(\"Сумма =\", n_sum)\n",
        "print(\"Произведение =\", n_mult)\n",
        "print(\"Среднее арифметическое = {:.2f}\".format(n_avg))\n",
        "print(\"Среднее геометрическое нечетных чисел = {:.2f}\".format(n_avg_geom))\n",
        "\n",
        "# --------------\n",
        "# Пример вывода:\n",
        "#\n",
        "# a = 1\n",
        "# b = 5\n",
        "# Сумма = 15\n",
        "# Произведение = 120\n",
        "# Среднее арифметическое = 3.00\n",
        "# Среднее геометрическое нечетных чисел = 2.47"
      ],
      "execution_count": null,
      "outputs": [
        {
          "output_type": "stream",
          "name": "stdout",
          "text": [
            "a = 1\n",
            "b = 5\n",
            "Сумма = 15\n",
            "Произведение = 120\n",
            "Среднее арифметическое = 3.00\n",
            "Среднее геометрическое нечетных чисел = 2.47\n"
          ]
        }
      ]
    },
    {
      "cell_type": "markdown",
      "metadata": {
        "id": "nGsAGbrjZ-ml"
      },
      "source": [
        "№ 4.2.14\n",
        "\n",
        "Начав тренировки, лыжник в первый день пробежал s км. (s > 0, вещественное число). Каждый следующий день он увеличивал пробег на p % (![image.png](data:image/png;base64,iVBORw0KGgoAAAANSUhEUgAAAGkAAAASCAYAAABYZ/A4AAAE1klEQVRYCe2Z74frWBjH7592XoUlDGEIJYyt4UZfbJWpUi7h0lqjQ3VZuW/6ZmqZmhcdLmEZriwj98XVy+owepVwCUMoZTh810lykjRNMqc/3Jld+6KapE/Oc87zeZ7nPM/pG0op4o/vwvVT9+nf/r9O7PSDbfEmBkQppr8pkDo2VnwSjw6GLR1aw4BRU6G1hnAe/2MQvSkmv48xXYqty7ufoKtK6N3ly8+tLuonOtpGE5qqo2vNN+CKyKS5JJC8CepEw+hbpHzpoHdMIHds+E/smQ+7I4Mc9eAILiit6NVduw5Ghga1NoB1720Ycn2+U5gVFYqiQPmJgBCC7l+bkNxrHRLRExsuRtAJgX7lxuOLyKzrpoghzS81kDMLfhRF3k0dhGQ85nMPElN6/dyiNheQVew/WDBbTYwenpfNvrvP/WphwzzToJ2ZsL+tYuOJjumcF0B6mmJwREDejuHyTEQ9jGsERO7BYY4uIhO/m9glguRi/Jag+dGPJu3DOmOTqWK0SISpOw48gzQm8HIGE1mo93WC7qmC6q8TTL3U2DuOJ6KTyTCnGNSUneFwPYWQvg4gEwLSsdfAh/IyBl8oqIhMjh1CSMtbGGtA5hhWSiAdm5jlDMYXkvft3o1gnKjQ+xZmwnB8OH0NmqpAOjVh303Qbehot6qQ1TastAMVzCd0Chkqi5zF9pGTXUsRpNWfRpAG8yERtC0fIjJZfew+hBRESBd2sPcw73bQY16xBo4ijiSSli2JhqcV3E8mmpoCvW9jvu1exjyvMYb3OfLS4x7soHBZ4dYgIJUh5gVw6HKK4akEuWHCOQAcbrwiSO6VXgqp+ocLERmuJ/0dQrrrgZAenHjBe0J68jG3BtAVDc0PO8CJ5jG71NG8dsE2W7ZZG58ShwiNpWPsJs/SC2PX/t8stUpQ2iM4JXLZ98ruXxGkZ9JdxcQsjrqskWYwFQL5ZxPOQXquKGpIHZM4TfL5pZ9l55HcB/sRg/XL/imvCJJIKhORyXOQgnS3Z+HAI+lIRf2DDXeVGCxvEuXPeNU0gssd49FCk6XjkyHm/FmcBYp1hcWDDHUPWEWQhIqCwxYOFGEJTtabtiAtEtRFS3C+J6kyqv0dYS1GqBICuT+NqybeHjRvdmsFwjJchXw6gPXAK9piuGknKoSUW16HVXPQWzJnEpHJcbYwkmi2BKegvJl9b0e9U9TMHvd2SmNBdacpqPYtzLc4tfA/NoP9SL5wQkh+2GQr57zJFjNu2tD8OoE1FD5xKIREabB3SqzY4gcCQTMr5TSzJTJLB4NTNdiL+TwjSBRBM5vtf4JjIdaVGzAaGvSWCXvPDZiXxNXOBDMBWM65BEI0VGsKqu8M6KoG42oKb4s0xxdb+L30sSodz8PknQq1ogTNPCtiiCRDrahoZ6I5OPJRNTSNNvSTOro3s+jEJnGmUpkoOEhtHPeiMSSaPRbKCbvCRe4gG5441DG6Tya/OX5UIJQWKmXv/0t/+zKAfpmc+SWQ8g5YdzD+pqH3MNT36ITj/XoXf1AdL73GDf0zDGsmpqnIXoNEl/5GaL6kQXjJyhrBrefh36JbYSlK5NPFrUDq3XoOGwAEHTYFiOlch7TroAd/bwX7ImPci9RfKAfXJ2i8F9L7SiG9bqP9sIiKnOIfPRPhGgYEhc4AAAAASUVORK5CYII=), вещественное число) от пробега предыдущего дня. Определите:\n",
        "\n",
        "- пробег лыжника за второй, третий, …, десятый день тренировок;\n",
        "\n",
        "- какой суммарный путь он пробежал за первые 10 дней тренировок.\n",
        "\n",
        "При выводе вещественных результатов оставьте один знак после запятой."
      ]
    },
    {
      "cell_type": "code",
      "metadata": {
        "colab": {
          "base_uri": "https://localhost:8080/"
        },
        "id": "2xGzx-UnZ6nw",
        "outputId": "8b2e3415-b0d8-4145-c8b7-0c80fd5376e3"
      },
      "source": [
        "# Программирование на языке высокого уровня (Python).\n",
        "# https://www.yuripetrov.ru/edu/python\n",
        "# Задание task_04_02_14.\n",
        "#\n",
        "# Выполнил: Вереина М.С.\n",
        "# Группа: АДЭУ-211\n",
        "# E-mail: vereina.m@yandex.ru\n",
        "\n",
        "\n",
        "s = float(input(\"Пробег за 1-й день (км.) = \"))\n",
        "p = int(input(\"На сколько увеличивает пробег (%) = \"))\n",
        "\n",
        "total = s\n",
        "for d in range(2,11):\n",
        "    s = s + s*p/100\n",
        "    total += s\n",
        "    print(\"Пробег за {}-й день: {:.1f} км.\".format(d, s))\n",
        "\n",
        "print(\"Суммарный пробег: {:.1f} км.\".format(total))\n",
        "\n",
        "# --------------\n",
        "# Пример вывода:\n",
        "#\n",
        "# Пробег за 1-й день (км.) = 5\n",
        "# На сколько увеличивает пробег (%) = 10\n",
        "# Пробег за 2-й день: 5.5 км.\n",
        "# Пробег за 3-й день: 6.1 км.\n",
        "# Пробег за 4-й день: 6.7 км.\n",
        "# Пробег за 5-й день: 7.3 км.\n",
        "# Пробег за 6-й день: 8.1 км.\n",
        "# Пробег за 7-й день: 8.9 км.\n",
        "# Пробег за 8-й день: 9.7 км.\n",
        "# Пробег за 9-й день: 10.7 км.\n",
        "# Пробег за 10-й день: 11.8 км.\n",
        "# Суммарный пробег: 79.7 км.\n"
      ],
      "execution_count": null,
      "outputs": [
        {
          "output_type": "stream",
          "name": "stdout",
          "text": [
            "Пробег за 1-й день (км.) = 5\n",
            "На сколько увеличивает пробег (%) = 10\n",
            "Пробег за 2-й день: 5.5 км.\n",
            "Пробег за 3-й день: 6.0 км.\n",
            "Пробег за 4-й день: 6.7 км.\n",
            "Пробег за 5-й день: 7.3 км.\n",
            "Пробег за 6-й день: 8.1 км.\n",
            "Пробег за 7-й день: 8.9 км.\n",
            "Пробег за 8-й день: 9.7 км.\n",
            "Пробег за 9-й день: 10.7 км.\n",
            "Пробег за 10-й день: 11.8 км.\n",
            "Суммарный пробег: 79.7 км.\n"
          ]
        }
      ]
    },
    {
      "cell_type": "markdown",
      "metadata": {
        "id": "2dy8V8OlbrdD"
      },
      "source": [
        "№ 4.2.15\n",
        "\n",
        "Известна масса каждого предмета в кг., загружаемого в грузовик. Определить, возможна ли перевозка груза, если грузоподъемность грузовика равна p кг."
      ]
    },
    {
      "cell_type": "code",
      "metadata": {
        "colab": {
          "base_uri": "https://localhost:8080/"
        },
        "id": "Skq4v2zDbzb1",
        "outputId": "811bdeda-cb4a-4d28-fec7-2f0554e0cfaf"
      },
      "source": [
        "# Программирование на языке высокого уровня (Python).\n",
        "# https://www.yuripetrov.ru/edu/python\n",
        "# Задание task_04_02_15.\n",
        "\n",
        "# Выполнил: Вереина М.С.\n",
        "# Группа: АДЭУ-211\n",
        "# E-mail: vereina.m@yandex.ru\n",
        "\n",
        "p = int(input('Грузоподъемность грузовика (кг.) = '))\n",
        "n = int(input('Количество предметов = '))\n",
        "\n",
        "total = 0\n",
        "for i in range(1, n+1):\n",
        "    m = int(input('Масса {}-го предмета (кг.) = '.format(i)))\n",
        "    total += m\n",
        "\n",
        "print('Да' if total <= p else 'Нет')\n",
        "\n",
        "# --------------\n",
        "# Пример вывода:\n",
        "#\n",
        "# Грузоподъемность грузовика (кг.) = 10\n",
        "# Количество предметов = 2\n",
        "# Масса 1-го предмета (кг.) = 3\n",
        "# Масса 2-го предмета (кг.) = 3\n",
        "# Да"
      ],
      "execution_count": null,
      "outputs": [
        {
          "output_type": "stream",
          "name": "stdout",
          "text": [
            "Грузоподъемность грузовика (кг.) = 392480298\n",
            "Количество предметов = 4\n",
            "Масса 1-го предмета (кг.) = 203948\n",
            "Масса 2-го предмета (кг.) = 843279\n",
            "Масса 3-го предмета (кг.) = 234098\n",
            "Масса 4-го предмета (кг.) = 49303249\n",
            "Да\n"
          ]
        }
      ]
    },
    {
      "cell_type": "markdown",
      "metadata": {
        "id": "pcHUcnVUc3ue"
      },
      "source": [
        "№ 4.2.16\n",
        "\n",
        "В области несколько районов. Заданы площади, засеваемые пшеницей (га.), и средняя урожайность (ц/га) в каждом районе.\n",
        "\n",
        "Определите количество пшеницы, собранное по области. При выводе вещественных результатов оставьте один знак после запятой."
      ]
    },
    {
      "cell_type": "code",
      "metadata": {
        "colab": {
          "base_uri": "https://localhost:8080/"
        },
        "id": "q6DwMQLGc-QB",
        "outputId": "b3a49dda-ba7b-4d4d-a49f-b14b8f345f73"
      },
      "source": [
        "# Программирование на языке высокого уровня (Python).\n",
        "# https://www.yuripetrov.ru/edu/python\n",
        "# Задание task_04_02_16.\n",
        "#\n",
        "# Выполнил: Вереина М.С.\n",
        "# Группа: АДЭУ-211\n",
        "# E-mail: vereina.m@yandex.ru\n",
        "\n",
        "n = int(input('Количество районов = '))\n",
        "\n",
        "total = 0\n",
        "for i in range(1, n + 1):\n",
        "    p = int(input('Площадь {}-го района (га) = '.format(i)))\n",
        "    u = int(input('Урожайность в {}-м районе (ц/га.) = '.format(i)))\n",
        "    total += p*u\n",
        "\n",
        "print('Собрано пшеницы: {:.1f}'.format(total))\n",
        "\n",
        "# --------------\n",
        "# Пример вывода:\n",
        "#\n",
        "# Количество районов = 3\n",
        "# Площадь 1-го района (га) = 4\n",
        "# Урожайность в 1-м районе (ц/га.) = 2\n",
        "# Площадь 2-го района (га) = 7\n",
        "# Урожайность в 2-м районе (ц/га.) = 3\n",
        "# Площадь 3-го района (га) = 9\n",
        "# Урожайность в 3-м районе (ц/га.) = 4\n",
        "# Собрано пшеницы: 65.0 ц."
      ],
      "execution_count": null,
      "outputs": [
        {
          "output_type": "stream",
          "name": "stdout",
          "text": [
            "Количество районов = 3\n",
            "Площадь 1-го района (га) = 4\n",
            "Урожайность в 1-м районе (ц/га.) = 2\n",
            "Площадь 2-го района (га) = 7\n",
            "Урожайность в 2-м районе (ц/га.) = 3\n",
            "Площадь 3-го района (га) = 9\n",
            "Урожайность в 3-м районе (ц/га.) = 4\n",
            "Собрано пшеницы: 65.0\n"
          ]
        }
      ]
    },
    {
      "cell_type": "markdown",
      "metadata": {
        "id": "X02VOPLGeh4F"
      },
      "source": [
        "4.2.4. Прерывание и продолжение циклов\n",
        "\n",
        "№ 4.2.17\n",
        "\n",
        "Решите задачу № 4.2.7, организовав бесконечный цикл, который бы прерывался при выполнении условия, используя оператор break."
      ]
    },
    {
      "cell_type": "code",
      "metadata": {
        "colab": {
          "base_uri": "https://localhost:8080/"
        },
        "id": "eCtmhjnpg8w1",
        "outputId": "0bc6dce3-09c2-46f1-d2a8-319c6bde154a"
      },
      "source": [
        "# Программирование на языке высокого уровня (Python).\n",
        "# https://www.yuripetrov.ru/edu/python\n",
        "# Задание task_04_02_17.\n",
        "#\n",
        "# Выполнил: Вереина М.С.\n",
        "# Группа: АДЭУ-211\n",
        "# E-mail: vereina.m@yandex.ru\n",
        "\n",
        "\n",
        "nums_sum = 0  # сумма\n",
        "nums_count = 0  # количество\n",
        "\n",
        "x = int(input('Введите 1-е число: '))\n",
        "\n",
        "while True:\n",
        "    if x != 0:\n",
        "        nums_sum += x\n",
        "        nums_count += 1\n",
        "        x = int(input('Введите {}-е число: '.format(nums_count + 1))) \n",
        "    else:     \n",
        "        break\n",
        "\n",
        "print('Сумма = ', nums_sum)\n",
        "print('Количество = ', nums_count)\n",
        "\n",
        "# --------------\n",
        "# Пример вывода:\n",
        "#\n",
        "# Введите 1-е число: 1\n",
        "# Введите 2-е число: 2\n",
        "# Введите 3-е число: 3\n",
        "# Введите 4-е число: 4\n",
        "# Введите 5-е число: 0\n",
        "# Сумма = 10\n",
        "# Количество = 4\n",
        "#\n",
        "# Введите 1-е число: 0\n",
        "# Сумма = 0\n",
        "# Количество = 0"
      ],
      "execution_count": null,
      "outputs": [
        {
          "output_type": "stream",
          "name": "stdout",
          "text": [
            "Введите 1-е число: 0\n",
            "Сумма =  0\n",
            "Количество =  0\n"
          ]
        }
      ]
    },
    {
      "cell_type": "markdown",
      "metadata": {
        "id": "XCCf2EZJhi2H"
      },
      "source": [
        "№ 4.2.18\n",
        "\n",
        "Предложение, введенное с клавиатуры, содержит слова из гласных и согласных букв кириллицы (регистр может быть различный), а также пробелы.\n",
        "\n",
        "Определите количество гласных и согласных букв в предложении. Для пропуска пробелов используйте оператор continue."
      ]
    },
    {
      "cell_type": "code",
      "metadata": {
        "colab": {
          "base_uri": "https://localhost:8080/"
        },
        "id": "Dm48ktRHhmtf",
        "outputId": "a3dc5726-e755-4544-a24c-82fec03a71c4"
      },
      "source": [
        "# Программирование на языке высокого уровня (Python).\n",
        "# https://www.yuripetrov.ru/edu/python\n",
        "# Задание task_04_02_18.\n",
        "#\n",
        "# Выполнил: Вереина М.С.\n",
        "# Группа: АДЭУ-211\n",
        "# E-mail: vereina.m@yandex.ru\n",
        "\n",
        "\n",
        "sentence = input('Введите предложение: ')\n",
        "\n",
        "count_gl = 0  # Кол-во гласных\n",
        "count_sogl = 0  # Кол-во согласных\n",
        "\n",
        "for i in sentence:\n",
        "    if i == ' ':\n",
        "      continue\n",
        "    if i in 'аоуэыяёюеи':\n",
        "      count_gl += 1\n",
        "    else:\n",
        "      count_sogl += 1\n",
        "\n",
        "print('Кол-во букв в предложении: гласных - {}, согласных - {}'.format(count_gl, count_sogl))\n",
        "\n",
        "# --------------\n",
        "# Пример вывода:\n",
        "#\n",
        "# Введите предложение: Программирование\n",
        "# Кол-во букв в предложении: гласных - 7, согласных - 9"
      ],
      "execution_count": null,
      "outputs": [
        {
          "output_type": "stream",
          "name": "stdout",
          "text": [
            "Введите предложение: Программирование\n",
            "Кол-во букв в предложении: гласных - 7, согласных - 9\n"
          ]
        }
      ]
    },
    {
      "cell_type": "markdown",
      "metadata": {
        "id": "P5tfkwzxiUF6"
      },
      "source": [
        "4.2.5. Комбинация циклов и условий\n",
        "\n",
        "№ 4.2.19\n",
        "\n",
        "Выведите на экран (в строку) все целые числа от a до b, кратные некоторому числу c."
      ]
    },
    {
      "cell_type": "code",
      "metadata": {
        "colab": {
          "base_uri": "https://localhost:8080/"
        },
        "id": "6aetqfpCigdP",
        "outputId": "dfec7d04-7965-439d-ded0-4f0fadaa63ef"
      },
      "source": [
        "# Программирование на языке высокого уровня (Python).\n",
        "# https://www.yuripetrov.ru/edu/python\n",
        "# Задание task_04_02_19.\n",
        "#\n",
        "# Выполнил: Вереина М.С.\n",
        "# Группа: АДЭУ-211\n",
        "# E-mail: vereina.m@yandex.ru\n",
        "\n",
        "\n",
        "a = int(input('a = '))\n",
        "b = int(input('b = '))\n",
        "c = int(input('c = '))\n",
        "\n",
        "for i in range(a, b + 1):\n",
        "    if i % c == 0:\n",
        "       print(i, end = ' ')\n",
        "\n",
        "# --------------\n",
        "# Пример вывода:\n",
        "#\n",
        "# a = 1\n",
        "# b = 10\n",
        "# c = 2\n",
        "# 2 4 6 8 10"
      ],
      "execution_count": null,
      "outputs": [
        {
          "output_type": "stream",
          "name": "stdout",
          "text": [
            "a = 1\n",
            "b = 10\n",
            "c = 2\n",
            "2 4 6 8 10 "
          ]
        }
      ]
    },
    {
      "cell_type": "markdown",
      "metadata": {
        "id": "9awzFEx5jfkP"
      },
      "source": [
        "№ 4.2.20\n",
        "\n",
        "Выведите на экран (в строку) все трехзначные натуральные числа, сумма цифр которых равна целому числу ![image.png](data:image/png;base64,iVBORw0KGgoAAAANSUhEUgAAAHUAAAATCAYAAACuqUL7AAAFhElEQVRoBe1Z34fjWhyfP+08HS5hCJcwhJpYGvMwVSYvZQnL1lUZVu9L92FqmFqm7kOXJVzK6FKZh9XlmmVlLWEIQ1hCCZ/rJDnNSSbp751lzUPkODn9nu/3+/n+7kEURXh+fi8dHOwLUN/zn43jCRwk8HyEK+7ZD6i+DYNqGHzPLD647cOoq2iYJnRFhXHpIJhn3/dlTL+cTuhhctnD2Fsh2zyAc2lArymQKIVUM9C78XKOEP5rglANrXML1qPHhvtgo0VV9L8uv2svoM7eSKCvxgsLCm8tyERC+yZImA4maB8SSB1nceaXg7HC2lfy9+DCfqNDqZkYTD2ESw02hHOuQH/nJufmASYdGYQQ6O8yYN0LJd5j+8VH7kxip3AvVFBzjGAJ/7uD+mMMk0rofubW42PUJCDUgiMI6pxTEKJjeM/Pbf/2pkO0mxYmwfY0VoJWpTR/htFfGuQXbYw++yvATPl7sGEwoA4tOD/SPW8IPQavjUmspxBjU0Hvv7xMwdSCXB/A5bqMf9fAyM+fE+XZHdSpBXrYxYwrgQtwPIDH96II3rUeW1/j/Za5dx7Cu+nBUFUYbyfwwmqhRAH3tvYcDEx1MzC5/HHYZIZuwF6A4cCKQeVpy8PwrJtzhIiltT90DL6JsnoY1gmMD2kU5HcI7wTU7zZaJyoUSqFdzOB+7KF1YsA0NchyA91pNRBxyHg9yXLD1z4UxmwFqPLbu+yswEil8ucBXLsb52XzylkfzB1kEnkJv0/QO1MgpZ4pfttoHQYIgjCTnRs/5Z4qAsfWHoYnFEaJE8z+lkA6TkaroMeDKPIxakqwbkNMXiexnMVvP3Z3D4NjAiIJnlgg4HQINCEvRFMryQcVoBLRAAq0ckqa+5i9b0OTVZjXM/gbeeZuMiV8eLBfKqBHbdhfqo06x/MyeQrfeOSS38xKwfE/GKBHPdzxsCv8PvhggNSHuUgo8nEQBWO0X/Qwm8/QPUzj/oKQi/4RAakP4C32RItKQoF+nSX7nUGde3CuTKiyhvb7TcFMedtJJkE+L/FSemzB/lod7kSFrrVmeZES0OYwy5UCaFF0h96fBEpVVGOOsxRUTiwNm1R06zSZVxJnIaJOkAN1RfitphUhySEEyssR3I08UwCCy8PeW8lUQovlU+a1x0lxtBZwIh/iep6EVfmVXeEoEaJPXUiEwLwp4YXRWhfU2KUJQcvOLDIJEY8rMlGoR+GX54qK8LuyUOKeeph6ammEqBBWVF4UYVuZRPly67RYkrYFlwHalKCcJ+1JFIXwbh14vCJO+Y9zJpHQ/VQup/+Pvo6nsnKa5VNdGCC4GNQISK0Pd+5ieGoKlVt22aNCKc7RjJYFR1AyA5+QxvotDc+phwpaLKduDO72MuWAFGRY7KdtjaS04h51sV92drEXwOkoAqBMhw4saqYtDdepj+EJ0xWvivl+9l6jUGKHeT7tYsaVJ4Te4GMb8tmoXLHFliaKwIcPZmH4IHecpU1zqXJ49SuraLHql/O3UFYmbP73O8i0knZ6pwCuvWKixKIelTS0OsK06LUO6VExxIBeBmq+pQmmXWhHBkbC/UlLcz9Cg1I0rl2hEvNgs75M1aCd9uA8VCiPDx8KoSIeE9YU6KaJRk1Pesu1ASm5i/epioIG61NX0dpFpnVB5efCYPkQ4p4PGhhYhac5gs/pxO/UGNmgRgBqYbDfBlBJNnxwr1QQIueGFrsPH6IIxTHhgoEcsyVAbfk9niidtjH+FROlLXneSCf+He6+CT2tcGeZrsNCUbkXUOOqtTDQ30gIgenn3y0x/sBGizzRQJ8BETxkVfPvAcwdBnUFytE6j4Z+YWb703TwEKz8U2Q/nvrsaUItssTTnkhPz6A+kaJ/mueW8P8/HCoSdERVr7sAAAAASUVORK5CYII=)"
      ]
    },
    {
      "cell_type": "code",
      "metadata": {
        "colab": {
          "base_uri": "https://localhost:8080/"
        },
        "id": "mL6l0kJ_juep",
        "outputId": "a9779196-629a-42a8-ce5f-c774564e2c4e"
      },
      "source": [
        "# Программирование на языке высокого уровня (Python).\n",
        "# https://www.yuripetrov.ru/edu/python\n",
        "# Задание task_04_02_20.\n",
        "#\n",
        "# Выполнил: Вереина М.С.\n",
        "# Группа: АДЭУ-211\n",
        "# E-mail: vereina.m@yandex.ru\n",
        "\n",
        "\n",
        "n = int(input('n = '))\n",
        "\n",
        "for i in range(100, 1000):\n",
        "    if (i//100 + (i % 100)//10 + i % 10 == n):\n",
        "        print(i, end = ' ')\n",
        "\n",
        "# --------------\n",
        "# Пример вывода:\n",
        "#\n",
        "# n = 3\n",
        "# 102 111 120 201 210 300\n"
      ],
      "execution_count": null,
      "outputs": [
        {
          "output_type": "stream",
          "name": "stdout",
          "text": [
            "n = 3\n",
            "102 111 120 201 210 300 "
          ]
        }
      ]
    }
  ]
}