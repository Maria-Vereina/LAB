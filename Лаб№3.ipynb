{
  "nbformat": 4,
  "nbformat_minor": 0,
  "metadata": {
    "colab": {
      "name": "Лаб№3",
      "provenance": [],
      "collapsed_sections": [],
      "authorship_tag": "ABX9TyPFTyjfSFD+Eodp8q8pp7Og",
      "include_colab_link": true
    },
    "kernelspec": {
      "name": "python3",
      "display_name": "Python 3"
    },
    "language_info": {
      "name": "python"
    }
  },
  "cells": [
    {
      "cell_type": "markdown",
      "metadata": {
        "id": "view-in-github",
        "colab_type": "text"
      },
      "source": [
        "<a href=\"https://colab.research.google.com/github/Maria-Vereina/LAB/blob/main/%D0%9B%D0%B0%D0%B1%E2%84%963.ipynb\" target=\"_parent\"><img src=\"https://colab.research.google.com/assets/colab-badge.svg\" alt=\"Open In Colab\"/></a>"
      ]
    },
    {
      "cell_type": "markdown",
      "metadata": {
        "id": "V61pummNH1CM"
      },
      "source": [
        "№ 3.2.1\n",
        "\n",
        "Составьте программу, которая запрашивает у пользователя 2 целых числа и выполняет операции:\n",
        "\n",
        "арифметические: +, -, * , / , // , %, **;\n",
        "\n",
        "сравнение: <, <=, >, >=, !=, ==,\n",
        "выводя на экран результат каждого действия. \n",
        "\n",
        "В случае получение вещественного результата, округлите его до 2-х знаков после запятой (используя функцию round())."
      ]
    },
    {
      "cell_type": "code",
      "metadata": {
        "colab": {
          "base_uri": "https://localhost:8080/"
        },
        "id": "m1_mXhbiAfjt",
        "outputId": "36973b00-7417-4564-ca2a-d5698479fcec"
      },
      "source": [
        "# Программирование на языке высокого уровня (Python).\n",
        "# https://www.yuripetrov.ru/edu/python\n",
        "# Задание task_03_02_01.\n",
        "#\n",
        "# Выполнил: Вереина М.С.\n",
        "# Группа: АДЭУ-211\n",
        "# E-mail: vereina.m@yandex.ru\n",
        "\n",
        "\n",
        "a = int(input(\"a=\"))\n",
        "b = int(input(\"b=\"))\n",
        "\n",
        "print(a + b)\n",
        "print(a - b)\n",
        "print(a * b)\n",
        "print(round(a / b))\n",
        "print(a // b)\n",
        "print(a % b)\n",
        "print(a ** b)\n",
        "\n",
        "print(a < b)\n",
        "print(a <= b)\n",
        "print(a > b)\n",
        "print(a >= b)\n",
        "print(a != b)\n",
        "print(a == b)"
      ],
      "execution_count": null,
      "outputs": [
        {
          "output_type": "stream",
          "name": "stdout",
          "text": [
            "a=10\n",
            "b=15\n",
            "25\n",
            "-5\n",
            "150\n",
            "1\n",
            "0\n",
            "10\n",
            "1000000000000000\n",
            "True\n",
            "True\n",
            "False\n",
            "False\n",
            "True\n",
            "False\n"
          ]
        }
      ]
    },
    {
      "cell_type": "markdown",
      "metadata": {
        "id": "uBD602TOCk3r"
      },
      "source": [
        "№ 3.2.2\n",
        "\n",
        "Вычислите значение следующего выражения (аргументы - целые числа и вводятся с клавиатуры):\n",
        "\n",
        "![image.png](data:image/png;base64,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)\n",
        "\n",
        "Округлите результат до 3-х знаков после запятой, используя функцию round()."
      ]
    },
    {
      "cell_type": "code",
      "metadata": {
        "colab": {
          "base_uri": "https://localhost:8080/"
        },
        "id": "C6QaBqupCizL",
        "outputId": "7bb73e72-c287-45ea-f1d6-6600cee1c4a7"
      },
      "source": [
        "# Программирование на языке высокого уровня (Python).\n",
        "# https://www.yuripetrov.ru/edu/python\n",
        "# Задание task_03_02_02.\n",
        "#\n",
        "# Выполнил: Вереина М.С.\n",
        "# Группа: АДЭУ-211\n",
        "# E-mail: vereina.m@yandex.ru\n",
        "\n",
        "\n",
        "x = int(input(\"x=\"))\n",
        "y = int(input(\"y=\"))\n",
        "z = int(input(\"z=\"))\n",
        "\n",
        "res1 = ((x**5+7)/(abs(-6)*y))**(1/3)\n",
        "res2 = (7-(z % y))\n",
        "res=res1/res2\n",
        "\n",
        "print(round(res,3))"
      ],
      "execution_count": null,
      "outputs": [
        {
          "output_type": "stream",
          "name": "stdout",
          "text": [
            "x=5\n",
            "y=6\n",
            "z=7\n",
            "0.739\n"
          ]
        }
      ]
    },
    {
      "cell_type": "markdown",
      "metadata": {
        "id": "YZGb-IXQCxEn"
      },
      "source": [
        "№ 3.2.3\n",
        "\n",
        "Дана электрическая цепь, состоящая из 2-х последовательно соединенных проводников (сопротивление каждого известно). Найти общее сопротивление цепи (округление результата необходимо выполнить до 1-го знака после запятой).\n",
        "\n",
        "Решение (начало и общий ход мыслей):\n",
        "\n",
        "Аналитическое решение.\n",
        "\n",
        "Проводники соединены последовательно, поэтому общее сопротивление цепи будет равно сумме их сопротивлений. Сопротивление может быть вещественным числом, поэтому для его хранения необходимо выбрать тип float.\n",
        "\n",
        "Алгоритм.\n",
        "\n",
        "ввести 2 вещественных значения - сопротивления проводников;\n",
        "вычислить их сумму;\n",
        "вывести ответ на экран.\n",
        "Программа."
      ]
    },
    {
      "cell_type": "code",
      "metadata": {
        "colab": {
          "base_uri": "https://localhost:8080/"
        },
        "id": "qunjntWQDEB1",
        "outputId": "661e59ed-ac3a-46d7-b5a9-b6e5d6939747"
      },
      "source": [
        "# Программирование на языке высокого уровня (Python).\n",
        "# https://www.yuripetrov.ru/edu/python\n",
        "# Задание task_03_02_03.\n",
        "#\n",
        "# Выполнил: Вереина М.С.\n",
        "# Группа: АДЭУ-211\n",
        "# E-mail: vereina.m@yandex.ru\n",
        "\n",
        "# Сопротивление первого проводника\n",
        "r1 = float(input(\"r1=\"))\n",
        "# Сопротивление второго проводника\n",
        "r2 = float(input(\"r2=\"))\n",
        "\n",
        "# Общее сопротивление\n",
        "r = r1 + r2\n",
        "\n",
        "print(round(r,1))"
      ],
      "execution_count": null,
      "outputs": [
        {
          "output_type": "stream",
          "name": "stdout",
          "text": [
            "r1=4.5\n",
            "r2=56\n",
            "60.5\n"
          ]
        }
      ]
    },
    {
      "cell_type": "markdown",
      "metadata": {
        "id": "tTaKQaDFDT-u"
      },
      "source": [
        "№ 3.2.4\n",
        "\n",
        "Дано двузначное и трехзначное число. Для каждого выведите на экран сумму и произведение цифр."
      ]
    },
    {
      "cell_type": "code",
      "metadata": {
        "colab": {
          "base_uri": "https://localhost:8080/"
        },
        "id": "9wHhOYrvDNSR",
        "outputId": "9870188f-8ad4-4ac8-b2c8-747d0ac701fc"
      },
      "source": [
        "# Программирование на языке высокого уровня (Python).\n",
        "# https://www.yuripetrov.ru/edu/python\n",
        "# Задание task_03_02_04.\n",
        "#\n",
        "# Выполнил: Вереина М.С.\n",
        "# Группа: АДЭУ-211\n",
        "# E-mail: vereina.m@yandex.ru\n",
        "\n",
        "\n",
        "# Двузначное число\n",
        "num2 = int(input(\"num2=\"))\n",
        "# Трехзначное число\n",
        "num3 = int(input(\"num3=\"))\n",
        "\n",
        "# 1-я цифра числа 'num2'\n",
        "num2_1 = num2 // 10\n",
        "# 2-я цифра числа 'num2'\n",
        "num2_2 = num2 % 10\n",
        "\n",
        "# Сумма цифр числа 'num2'\n",
        "num2_s = num2_1 + num2_2\n",
        "# Произведение цифр числа 'num2'\n",
        "num2_p = num2_1 * num2_2\n",
        "\n",
        "# 1-я цифра числа 'num3'\n",
        "num3_1 = num3 // 100\n",
        "# 2-я цифра числа 'num3'\n",
        "num3_2 = (num3 % 100) // 10\n",
        "# 3-я цифра числа 'num3'\n",
        "num3_3 = num3 % 10\n",
        "\n",
        "# Сумма цифр числа 'num3'\n",
        "num3_s = num3_1 + num3_2 + num3_3\n",
        "# Произведение цифр числа 'num3'\n",
        "num3_p = num3_1 * num3_2 * num3_3\n",
        "\n",
        "# Вывод результата\n",
        "print(\"Двузначное число:\", num2)\n",
        "print(\"Трехзначное число:\", num3)\n",
        "print(\"Сумма и произведение цифр двузначного числа:\", num2_s, num2_p)\n",
        "print(\"Сумма и произведение цифр трехзначного числа:\", num3_s, num3_p)"
      ],
      "execution_count": null,
      "outputs": [
        {
          "output_type": "stream",
          "name": "stdout",
          "text": [
            "num2=45\n",
            "num3=165\n",
            "Двузначное число: 45\n",
            "Трехзначное число: 165\n",
            "Сумма и произведение цифр двузначного числа: 9 20\n",
            "Сумма и произведение цифр трехзначного числа: 12 30\n"
          ]
        }
      ]
    },
    {
      "cell_type": "markdown",
      "metadata": {
        "id": "VNq90wnLDbnt"
      },
      "source": [
        "№ 3.2.5\n",
        "\n",
        "С начала суток прошло m минут (0<m≤24∗60). Определите:\n",
        "\n",
        "целое количество часов, прошедших с начала суток;\n",
        "\n",
        "количество минут, прошедших с момента начала последнего часа."
      ]
    },
    {
      "cell_type": "code",
      "metadata": {
        "colab": {
          "base_uri": "https://localhost:8080/"
        },
        "id": "0ELknFlADgOK",
        "outputId": "c2277207-93ed-4cb1-9eef-dbf938c8fa90"
      },
      "source": [
        "# Программирование на языке высокого уровня (Python).\n",
        "# https://www.yuripetrov.ru/edu/python\n",
        "# Задание task_03_02_05.\n",
        "#\n",
        "# Выполнил: Вереина М.С.\n",
        "# Группа: АДЭУ-211\n",
        "# E-mail: vereina.m@yandex.ru\n",
        "\n",
        "\n",
        "# Количество минут\n",
        "m = int(input(\"m=\"))\n",
        "0 < m <= 24 * 60\n",
        "# Количество часов, прошедших с начала суток\n",
        "h = m % (24 * 60) // 60\n",
        "# Количество минут, прошедших с момента начала последнего часа\n",
        "m2 = m % 60\n",
        "\n",
        "print(\"Количество минут, прошедшее с начала суток:\", m)\n",
        "print(\"Количество часов, прошедших с начала суток:\", h)\n",
        "print(\"Количество минут, прошедших с момента начала последнего часа:\", m2)\n",
        "# --------------\n",
        "# Пример вывода:\n",
        "#\n",
        "# Количество минут, прошедшее с начала суток: 123\n",
        "# Количество часов, прошедших с начала суток: 2\n",
        "# Количество минут, прошедших с момента начала последнего часа: 3"
      ],
      "execution_count": null,
      "outputs": [
        {
          "output_type": "stream",
          "name": "stdout",
          "text": [
            "m=123\n",
            "Количество минут, прошедшее с начала суток: 123\n",
            "Количество часов, прошедших с начала суток: 2\n",
            "Количество минут, прошедших с момента начала последнего часа: 3\n"
          ]
        }
      ]
    },
    {
      "cell_type": "markdown",
      "metadata": {
        "id": "xvzJez8ODnh8"
      },
      "source": [
        "№ 3.2.6\n",
        "\n",
        "Дано уравнение ax + b = 0 и отрезок [m;n]. Ответьте на вопрос, попадает ли решение уравнения в указанный отрезок.\n",
        "\n",
        "Решение (начало и общий ход мыслей):\n",
        "\n",
        "Аналитическое решение.\n",
        "\n",
        "Коэффициенты уравнения и величина отрезка - произвольны, возьмем целые числа. Решение x при этом может быть дробным. После определения x составим логическое выражение попадания в отрезок, что и будет ответом.\n",
        "\n",
        "Алгоритм.\n",
        "\n",
        "ввести все неизвестные величины;\n",
        "определить корень уравнения;\n",
        "составить логическое выражение попадания корня в область;\n",
        "вывести результат попадания на экран.\n",
        "Программа."
      ]
    },
    {
      "cell_type": "code",
      "metadata": {
        "colab": {
          "base_uri": "https://localhost:8080/"
        },
        "id": "w1J-4RseDtHb",
        "outputId": "3bed5b36-4153-43a7-fd7b-5a425e579146"
      },
      "source": [
        "# Программирование на языке высокого уровня (Python).\n",
        "# https://www.yuripetrov.ru/edu/python\n",
        "# Задание task_03_02_06.\n",
        "#\n",
        "# Выполнил: Вереина М.С.\n",
        "# Группа: АДЭУ-211\n",
        "# E-mail: vereina.m@yandex.ru\n",
        "\n",
        "\n",
        "a = int(input(\"a=\"))\n",
        "b = int(input(\"b=\"))\n",
        "m = int(input(\"m=\"))\n",
        "n = int(input(\"n=\"))\n",
        "\n",
        "x = (0 - b) / a\n",
        "\n",
        "is_ok = m <= x <= n\n",
        "\n",
        "print(\"Попадает:\", is_ok)\n",
        "\n",
        "\n",
        "# --------------\n",
        "# Пример вывода:\n",
        "#\n",
        "# Введите a = 1\n",
        "# Введите b = 2\n",
        "# Введите m = -5\n",
        "# Введите n = 5\n",
        "# Попадает: True"
      ],
      "execution_count": null,
      "outputs": [
        {
          "output_type": "stream",
          "name": "stdout",
          "text": [
            "a=1\n",
            "b=2\n",
            "m=-5\n",
            "n=5\n",
            "Попадает: True\n"
          ]
        }
      ]
    },
    {
      "cell_type": "markdown",
      "metadata": {
        "id": "vw-JApE4DzDX"
      },
      "source": [
        "№ 3.2.7\n",
        "\n",
        "Составьте программу, которая запрашивает название футбольной команды и повторяет его на экране со словами\n",
        "\n",
        "... - чемпион!"
      ]
    },
    {
      "cell_type": "code",
      "metadata": {
        "colab": {
          "base_uri": "https://localhost:8080/"
        },
        "id": "arpN12_BDyt0",
        "outputId": "df8e0997-8f03-42ca-8757-48eda4316fde"
      },
      "source": [
        "# Программирование на языке высокого уровня (Python).\n",
        "# https://www.yuripetrov.ru/edu/python\n",
        "# Задание task_03_02_07.\n",
        "#\n",
        "# Выполнил: Вереина М.С.\n",
        "# Группа: АДЭУ-211\n",
        "# E-mail: vereina.m@yandex.ru\n",
        "\n",
        "\n",
        "team = input(\"Введите название команды: \")\n",
        "\n",
        "print(team, \"- чемпион!\")\n",
        "\n",
        "print(\"-\" * len(team))\n",
        "\n",
        "# Название команды в нижнем регистре\n",
        "team_lowercase =  team.lower()\n",
        "print('Символ в названии:', len(team_lowercase))\n",
        "print('Буква \"п\" есть:', \"п\" in team_lowercase)\n",
        "print('Количество букв \"а\":', team_lowercase.find('а'))\n",
        "\n",
        "\n",
        "# --------------\n",
        "# Пример вывода:\n",
        "#\n",
        "# Введите название команды: Спартак\n",
        "# Спартак - чемпион!\n",
        "# -------\n",
        "# Символов в названии команды: 7\n",
        "# Буква \"п\" есть: True\n",
        "# Количество букв \"а\": 2"
      ],
      "execution_count": null,
      "outputs": [
        {
          "output_type": "stream",
          "name": "stdout",
          "text": [
            "Введите название команды: Спартак\n",
            "Спартак - чемпион!\n",
            "-------\n",
            "Символ в названии: 7\n",
            "Буква \"п\" есть: True\n",
            "Количество букв \"а\": 2\n"
          ]
        }
      ]
    },
    {
      "cell_type": "markdown",
      "metadata": {
        "id": "Gg3fGa1JD-P6"
      },
      "source": [
        "\n",
        "№ 3.2.8\n",
        "\n",
        "Составьте программу, которая запрашивает название государства и его столицы, а затем выводит сообщение:\n",
        "\n",
        "Государство - ..., столица - ...\n",
        "\n",
        "На месте многоточий должны быть выведены соответствующие значения."
      ]
    },
    {
      "cell_type": "code",
      "metadata": {
        "colab": {
          "base_uri": "https://localhost:8080/"
        },
        "id": "FhlVwZzZEDNo",
        "outputId": "5ac4ea5e-49fd-46a3-a41f-2de881b18a23"
      },
      "source": [
        "# Программирование на языке высокого уровня (Python).\n",
        "# https://www.yuripetrov.ru/edu/python\n",
        "# Задание task_03_02_08.\n",
        "#\n",
        "# Выполнил: Вереина М.С.\n",
        "# Группа: АДЭУ-211\n",
        "# E-mail: vereina.m@yandex.ru\n",
        "\n",
        "\n",
        "# Название государства\n",
        "country = input(\"Введите название государства: \")\n",
        "# Название столицы\n",
        "capital = input(\"Введите название столицы: \")\n",
        "\n",
        "print(\"Государство - {}, столица - {}\".format(country, capital))\n",
        "\n",
        "# --------------\n",
        "# Пример вывода:\n",
        "#\n",
        "# Введите название государства: Россия\n",
        "# Введите название столицы: Москва\n",
        "# Государство - Россия, столица - Москва"
      ],
      "execution_count": null,
      "outputs": [
        {
          "output_type": "stream",
          "name": "stdout",
          "text": [
            "Введите название государства: Россия\n",
            "Введите название столицы: Москва\n",
            "Государство - Россия, столица - Москва\n"
          ]
        }
      ]
    }
  ]
}