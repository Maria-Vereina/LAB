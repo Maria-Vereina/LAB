{
  "nbformat": 4,
  "nbformat_minor": 0,
  "metadata": {
    "colab": {
      "name": "Лаб№5",
      "provenance": [],
      "collapsed_sections": [],
      "authorship_tag": "ABX9TyPYsRYBqW54lo+uAfzWbVm6",
      "include_colab_link": true
    },
    "kernelspec": {
      "name": "python3",
      "display_name": "Python 3"
    },
    "language_info": {
      "name": "python"
    }
  },
  "cells": [
    {
      "cell_type": "markdown",
      "metadata": {
        "id": "view-in-github",
        "colab_type": "text"
      },
      "source": [
        "<a href=\"https://colab.research.google.com/github/Maria-Vereina/LAB/blob/main/%D0%9B%D0%B0%D0%B1%E2%84%965.ipynb\" target=\"_parent\"><img src=\"https://colab.research.google.com/assets/colab-badge.svg\" alt=\"Open In Colab\"/></a>"
      ]
    },
    {
      "cell_type": "markdown",
      "source": [
        "**5.2.1. Глобальные и локальные функции**\n",
        "\n",
        "![image.png](data:image/png;base64,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)\n"
      ],
      "metadata": {
        "id": "y3dcM0fxsAZ4"
      }
    },
    {
      "cell_type": "code",
      "execution_count": null,
      "metadata": {
        "colab": {
          "base_uri": "https://localhost:8080/"
        },
        "id": "h2NmrMK3rjU1",
        "outputId": "47d15d5b-b4a6-4ecd-a75f-c5bcd606eeb7"
      },
      "outputs": [
        {
          "output_type": "stream",
          "name": "stdout",
          "text": [
            "Введите x: -9\n",
            "Введите y: 0\n",
            "Ответ: 0.33\n"
          ]
        }
      ],
      "source": [
        "# Программирование на языке высокого уровня (Python).\n",
        "# https://www.yuripetrov.ru/edu/python\n",
        "# Задание task_05_02_01.\n",
        "#\n",
        "# Выполнила: Вереина М.С.\n",
        "# Группа: адэу-211\n",
        "# E-mail: VereinaMS@mgpu.ru\n",
        "\n",
        "\n",
        "def sgn(x):\n",
        "    global s\n",
        "    if x > 0:\n",
        "      s = 1\n",
        "    elif x == 0:\n",
        "      s = 0\n",
        "    else:\n",
        "      s = -1\n",
        "    return s        #Вернуть результат сигнум-функции.\n",
        "\n",
        "x = float(input('Введите x: '))\n",
        "y = float(input('Введите y: '))\n",
        "\n",
        "z = (sgn(x) + y**2)/(sgn(y) - (abs(x)**(1/2)))\n",
        "\n",
        "print(\"Ответ:\", round(z,2))\n",
        "\n",
        "# --------------\n",
        "# Пример вывода:\n",
        "#\n",
        "# Введите x: -9\n",
        "# Введите y: 0\n",
        "# Ответ: 0.33"
      ]
    },
    {
      "cell_type": "markdown",
      "source": [
        "**№ 5.2.2**\n",
        "\n",
        "Дан список температурных изменений в течение дня (целые числа). Известно, что измеряющее устройство иногда сбоит и записывает отсутствие температуры (значение *None*).\n",
        "\n",
        "Выведите среднюю температуру за наблюдаемый промежуток времени, предварительно очистив список от неопределенных значений. Гарантируется, что хотя бы одно определенное значение в списке есть."
      ],
      "metadata": {
        "id": "Mh6Nj7py9mwj"
      }
    },
    {
      "cell_type": "code",
      "source": [
        "# Программирование на языке высокого уровня (Python).\n",
        "# https://www.yuripetrov.ru/edu/python\n",
        "# Задание task_05_02_02.\n",
        "#\n",
        "# Выполнила: Вереина М.С.\n",
        "# Группа: адэу-211\n",
        "# E-mail: VereinaMS@mgpu.ru\n",
        "\n",
        "\n",
        "def avg(data):\n",
        "  sum = 0\n",
        "  for number in data:\n",
        "    sum += int(number)\n",
        "  avg_number = sum / len(data)\n",
        "  return avg_number\n",
        "\n",
        "def cleared_data(data):\n",
        "    for number in data:\n",
        "      if number == None:\n",
        "        data.remove(number)\n",
        "    return data\n",
        "\n",
        "n = int(input('Количество измерений: '))\n",
        "data = []\n",
        "\n",
        "for i in range(n):\n",
        "  temp = input('Измерение {}-е: '.format(i+1))\n",
        "  if temp == \"-\":\n",
        "    temp = None\n",
        "  data.append(temp)\n",
        "cleared_data(data)\n",
        "print(\"Средняя температура:\", avg(data))\n",
        "\n",
        "# Удалите комментарий и допишите код\n",
        "\n",
        "# Получить очищенный список и среднее значение\n",
        "# Удалите комментарий и допишите код\n",
        "\n",
        "# --------------\n",
        "# Пример вывода:\n",
        "#\n",
        "# Кол-во измерений: 3\n",
        "# Измерение 1-е: 10\n",
        "# Измерение 2-е: -\n",
        "# Измерение 3-е: 20\n",
        "# Средняя температура: 15.00"
      ],
      "metadata": {
        "colab": {
          "base_uri": "https://localhost:8080/"
        },
        "id": "vOjUdURZ9t0Z",
        "outputId": "8fa24f03-3744-455a-8037-e4b8b8d63362"
      },
      "execution_count": null,
      "outputs": [
        {
          "output_type": "stream",
          "name": "stdout",
          "text": [
            "Количество измерений: 3\n",
            "Измерение 1-е: 10\n",
            "Измерение 2-е: -\n",
            "Измерение 3-е: 20\n",
            "Средняя температура: 15.0\n"
          ]
        }
      ]
    },
    {
      "cell_type": "markdown",
      "source": [
        "**№ 5.2.3**\n",
        "\n",
        "Выведите все счастливые номера билетов в диапазоне от *a* до *b* (положительные целые числа, *a < b*), если известно, что счастливым считается номер, у которого количество четных цифр равно количеству нечетных."
      ],
      "metadata": {
        "id": "JYEHcndPGp6h"
      }
    },
    {
      "cell_type": "code",
      "source": [
        "# Программирование на языке высокого уровня (Python).\n",
        "# https://www.yuripetrov.ru/edu/python\n",
        "# Задание task_05_02_03.\n",
        "#\n",
        "# Выполнила: Вереина М.С.\n",
        "# Группа: адэу-211\n",
        "# E-mail: VereinaMS@mgpu.ru\n",
        "\n",
        "def is_lucky(num):\n",
        "  number1 = 0\n",
        "  number2 = 0\n",
        "  while num > 0:\n",
        "    if (num % 10 % 2) == 0:\n",
        "      number2 += 1\n",
        "    else:\n",
        "      number1 += 1\n",
        "    num //= 10\n",
        "\n",
        "  if number1 == number2:\n",
        "    return True\n",
        "  else:\n",
        "    return False\n",
        "\n",
        "def lucky_numbers(a, b):\n",
        "    for num in range(a, b + 1):\n",
        "      if is_lucky(num) == True:\n",
        "        print(num, end = ' ')\n",
        "\n",
        "a = int(input('Первый номер билета: '))\n",
        "b = int(input('Последний номер билета: '))\n",
        "lucky_numbers(a, b)\n",
        "# --------------\n",
        "# Пример вывода:\n",
        "#\n",
        "# Первый номер билета: 10\n",
        "# Последний номер билета: 25\n",
        "# 10 12 14 16 18 21 23 25"
      ],
      "metadata": {
        "colab": {
          "base_uri": "https://localhost:8080/"
        },
        "id": "2gTCgKYPJtb-",
        "outputId": "1a3d225d-1f44-4ddd-84f4-d419e98f6848"
      },
      "execution_count": null,
      "outputs": [
        {
          "output_type": "stream",
          "name": "stdout",
          "text": [
            "Первый номер билета: 10\n",
            "Последний номер билета: 25\n",
            "10 12 14 16 18 21 23 25 "
          ]
        }
      ]
    },
    {
      "cell_type": "markdown",
      "source": [
        "**№ 5.2.4**\n",
        "\n",
        "Дата характеризуется тремя натуральными числами: день, месяц и год. Учитывая, что год может быть високосным, реализуйте две функции, которые определяют вчерашнюю и завтрашнюю дату."
      ],
      "metadata": {
        "id": "5-fBn2lnRdlE"
      }
    },
    {
      "cell_type": "code",
      "source": [
        "# Программирование на языке высокого уровня (Python).\n",
        "# https://www.yuripetrov.ru/edu/python\n",
        "# Задание task_05_02_04.\n",
        "#\n",
        "# Выполнила: Вереина М.С.\n",
        "# Группа: адэу-211\n",
        "# E-mail: VereinaMS@mgpu.ru\n",
        "\n",
        "#Является ли 'year' високосным годом?\n",
        "def is_leap(year):\n",
        "    if year % 4 == 0:\n",
        "      days_feb=29\n",
        "    else:\n",
        "      days_feb=28\n",
        "    return days_feb\n",
        "\n",
        "#Вернуть количество дней в месяце 'month' года 'year'.\n",
        "def days(month, year):\n",
        "    day31 =[1,3,5,7,8,10,12]\n",
        "    day30 =[4,6,9,11]\n",
        "    if month in day31:\n",
        "      date = 31\n",
        "    elif month in day30:\n",
        "      date = 30\n",
        "    else:\n",
        "      date = is_leap(year)\n",
        "    return date\n",
        "\n",
        "#Вернуть день, месяц, год предыдущего дня\n",
        "def previous_date(day, month, year):\n",
        "    if day == 1:\n",
        "      month -=1\n",
        "      if month == 0:\n",
        "        year -= 1\n",
        "        month = 12\n",
        "        day = days(12, year)\n",
        "      else:\n",
        "        year = year\n",
        "        month = month\n",
        "        day = days(month,year)\n",
        "    else:\n",
        "      day -= 1\n",
        "      month = month\n",
        "      year = year\n",
        "    return day, month, year\n",
        "\n",
        "#Вернуть день, месяц, год следующего дня.\n",
        "def next_date(day, month, year):\n",
        "   if day == days(month,year):\n",
        "     month += 1\n",
        "     if month == 13:\n",
        "       month = 1\n",
        "       year += 1\n",
        "       day = 1\n",
        "     else:\n",
        "        month += 1\n",
        "        year = year\n",
        "        day = 1\n",
        "   else:\n",
        "      day += 1\n",
        "      month = month\n",
        "      year = year\n",
        "   return day, month, year\n",
        "\n",
        "date = input('День, месяц, год через пробел: ').split(sep=' ')\n",
        "day = int(date[0]) \n",
        "month = int(date[1])\n",
        "year = int(date[2])\n",
        "\n",
        "pday, pmonth, pyear = previous_date(day, month, year)\n",
        "print('Предыдущий день: {:0>2}/{:0>2}/{:0>4}'.format(pday, pmonth, pyear))\n",
        "\n",
        "nday, nmonth, nyear = next_date(day, month, year)\n",
        "print('Следующий день: {:0>2}/{:0>2}/{:0>4}'.format(nday, nmonth, nyear))\n",
        "# --------------\n",
        "# Пример вывода:\n",
        "#\n",
        "# День, месяц, год через пробел: 1 3 2000\n",
        "# Предыдущий день: 29/02/2000\n",
        "# Следующий день: 02/03/2000\n"
      ],
      "metadata": {
        "colab": {
          "base_uri": "https://localhost:8080/"
        },
        "id": "xr7PR3rXRaGi",
        "outputId": "e2ba51a0-989b-4a4a-fa99-5cb23901c1bf"
      },
      "execution_count": null,
      "outputs": [
        {
          "output_type": "stream",
          "name": "stdout",
          "text": [
            "День, месяц, год через пробел: 1 3 2000\n",
            "Предыдущий день: 29/02/2000\n",
            "Следующий день: 02/03/2000\n"
          ]
        }
      ]
    },
    {
      "cell_type": "markdown",
      "source": [
        "**№ 5.2.5**\n",
        "\n",
        "В задаче № 5.2.4 замените функции получения вчерашней и завтрашней даты на одну:\n",
        "\n",
        "\n",
        "def another_date(day, month, year, delta=1):\n",
        "\n",
        "pass\n",
        "\n",
        "где delta - ключевой параметр, определяющий сколько дней необходимо добавить или вычесть (если аргумент отрицательный) из переданной даты. Функции, реализованные в задаче № 5.2.4 сделайте локальными для another_date(), вызывая их внутри необходимое количество раз."
      ],
      "metadata": {
        "id": "KqV9Le23gSRr"
      }
    },
    {
      "cell_type": "code",
      "source": [
        "# Программирование на языке высокого уровня (Python).\n",
        "# https://www.yuripetrov.ru/edu/python\n",
        "# Задание task_05_02_05.\n",
        "#\n",
        "# Выполнила: Вереина М.С.\n",
        "# Группа: адэу-211\n",
        "# E-mail: VereinaMS@mgpu.ru\n",
        "\n",
        "def is_leap(year):\n",
        "    if year % 4 == 0:\n",
        "      days_feb=29\n",
        "    else:\n",
        "      days_feb=28\n",
        "    return days_feb\n",
        "\n",
        "def days(month, year):\n",
        "    day31 =[1,3,5,7,8,10,12]\n",
        "    day30 =[4,6,9,11]\n",
        "    if month in day31:\n",
        "      date = 31\n",
        "    elif month in day30:\n",
        "      date = 30\n",
        "    else:\n",
        "      date = is_leap(year)\n",
        "    return date\n",
        "\n",
        "def another_date(day, month, year, delta=1):\n",
        "  if delta < 0:\n",
        "     day += delta\n",
        "     if day <= 0:\n",
        "       month -= 1\n",
        "       if month == 0:\n",
        "         month = 12\n",
        "         year -= 1\n",
        "         day = days(12,year)+day\n",
        "         print(days(12,year))\n",
        "       else:\n",
        "         month = month\n",
        "         year = year\n",
        "         day = days(month,year)+day\n",
        "     else:\n",
        "        day = day\n",
        "        month = month\n",
        "        year = year\n",
        "     return day, month, year\n",
        "  elif delta > 0:\n",
        "        day += delta\n",
        "        if day > days(month,year):\n",
        "          day = day-days(month,year)\n",
        "          month += 1\n",
        "          if month > 12:\n",
        "            month -= 12\n",
        "            year += 1\n",
        "          else:\n",
        "            month += 1\n",
        "            year = year\n",
        "        else:\n",
        "          day = day\n",
        "          month = month\n",
        "          year = year\n",
        "        return day, month, year\n",
        "  else:\n",
        "    return day, month, year\n",
        "\n",
        "date = input('День, месяц, год через пробел: ').split(sep=' ')\n",
        "day = int(date[0]) \n",
        "month = int(date[1])\n",
        "year = int(date[2])\n",
        "\n",
        "delta = int(input('Свдиг (может быть отрицательным): '))\n",
        "day, month, year = another_date(day, month, year, delta)\n",
        "print('Новый день: {:0>2}/{:0>2}/{:0>4}'.format(day, month, year))\n",
        "\n",
        "# --------------\n",
        "# Пример вывода:\n",
        "#\n",
        "# День, месяц, год через пробел: 1 1 2000\n",
        "# Свдиг (может быть отрицательным): -2\n",
        "# Новый день: 30/12/1999\n",
        "#\n",
        "# День, месяц, год через пробел: 1 1 2000\n",
        "# Свдиг (может быть отрицательным): 2\n",
        "# Новый день: 03/01/2000\n"
      ],
      "metadata": {
        "colab": {
          "base_uri": "https://localhost:8080/"
        },
        "id": "yikHXNOIhqZu",
        "outputId": "553bed60-b01e-437f-a84d-aea981c44cca"
      },
      "execution_count": null,
      "outputs": [
        {
          "output_type": "stream",
          "name": "stdout",
          "text": [
            "День, месяц, год через пробел: 1 1 2000\n",
            "Свдиг (может быть отрицательным): -2\n",
            "31\n",
            "Новый день: 30/12/1999\n"
          ]
        }
      ]
    },
    {
      "cell_type": "markdown",
      "source": [
        "**№ 5.2.6**\n",
        "\n",
        "Дан список из чисел.\n",
        "\n",
        "Определите их НОК (наименьшее общее кратное) и НОД (наибольший общий делитель)."
      ],
      "metadata": {
        "id": "UsjDWl9mmi9s"
      }
    },
    {
      "cell_type": "code",
      "source": [
        "# Программирование на языке высокого уровня (Python).\n",
        "# https://www.yuripetrov.ru/edu/python\n",
        "# Задание task_05_02_06.\n",
        "#\n",
        "# Выполнила: Вереина М.С.\n",
        "# Группа: адэу-211\n",
        "# E-mail: VereinaMS@mgpu.ru\n",
        "\n",
        "#Вернуть НОД целых чисел 'first' и 'second'.\n",
        "def gcd(first, second):\n",
        "    while first != 0 and second != 0:\n",
        "        if first > second:\n",
        "            first = first % second\n",
        "        else:  \n",
        "            second = second % first\n",
        "    return first + second          \n",
        "\n",
        "#Вернуть НОК целых чисел 'first' и 'second'.\n",
        "def lcm(first, second):\n",
        "    if gcd(first, second) != 0:\n",
        "        return (abs(first * second))/gcd(first, second)\n",
        "    else:\n",
        "        return 0\n",
        "\n",
        "#Вернуть НОД чисел из списка 'nums'.\n",
        "def gcd_nums(nums):\n",
        "    result = nums[0]\n",
        "    for i in range(1, len(nums)):\n",
        "        result = gcd(result, nums[i])\n",
        "    return result\n",
        "\n",
        "#Вернуть НОК чисел из списка 'nums'.\n",
        "def lcm_nums(nums):\n",
        "    result = nums[0]\n",
        "    for i in range(1, len(nums)):\n",
        "        result = lcm(result, nums[i]) \n",
        "    return result\n",
        "\n",
        "nums = [int(i) for i in input('Введите числа через пробел: ').split(sep=' ')]\n",
        "\n",
        "\n",
        "nod = int(gcd_nums(nums))\n",
        "nok = int(lcm_nums(nums))\n",
        "\n",
        "print('НОД = ', nod)\n",
        "print('НОК = ', nok)\n",
        "# --------------\n",
        "# Пример вывода:\n",
        "#\n",
        "# Введите числа через пробел: 8 10 14\n",
        "# НОД = 2\n",
        "# НОК = 280\n",
        "#\n",
        "# Введите числа через пробел: 6 8 24 16\n",
        "# НОД = 2\n",
        "# НОК = 48"
      ],
      "metadata": {
        "id": "2fPPGktXmijf",
        "colab": {
          "base_uri": "https://localhost:8080/"
        },
        "outputId": "763ad9be-556b-47c4-92cf-6f0e1d3b3932"
      },
      "execution_count": null,
      "outputs": [
        {
          "output_type": "stream",
          "name": "stdout",
          "text": [
            "Введите числа через пробел: 8 10 14\n",
            "НОД =  2\n",
            "НОК =  280\n"
          ]
        }
      ]
    },
    {
      "cell_type": "markdown",
      "source": [
        "**№ 5.2.7**\n",
        "\n",
        "Даны *n* предложений. Определите, сколько из них содержат хотя бы одну цифру."
      ],
      "metadata": {
        "id": "lHKfXtiBcrD8"
      }
    },
    {
      "cell_type": "code",
      "source": [
        "# Программирование на языке высокого уровня (Python).\n",
        "# https://www.yuripetrov.ru/edu/python\n",
        "# Задание task_05_02_07.\n",
        "#\n",
        "# Выполнила: Вереина М.С.\n",
        "# Группа: адэу-211\n",
        "# E-mail: VereinaMS@mgpu.ru\n",
        "\n",
        "#Определить, есть ли в предложении цифры.\n",
        "def has_digits(sentence):\n",
        "    for i in sentence: \n",
        "        if i in ['1', '2', '3', '4', '5', '6', '7', '8', '9']:\n",
        "            return True\n",
        "        \n",
        "    return False  \n",
        "\n",
        "#Определить, сколько предложений содержат хотя бы одну цифру.\n",
        "def sentences_with_digits_count(sentences):\n",
        "    count = 0\n",
        "    for i in sentences:\n",
        "        if has_digits(i):\n",
        "            count += 1 \n",
        "    return count\n",
        "\n",
        "n = int(input(\"Введите количество предложений: \"))\n",
        "\n",
        "sentences = list()\n",
        "for i in range(0, n):\n",
        "    sentence = input('Введите предложение № {}: '.format(i+1))\n",
        "    sentences.append(sentence)\n",
        "s = sentences_with_digits_count(sentences)\n",
        "print('Предложений с цифрой = ', s)\n",
        "# --------------\n",
        "# Пример вывода:\n",
        "#\n",
        "# Введите количество предложений: 3\n",
        "# Введите предложение №1:\n",
        "# Просто текст\n",
        "# Введите предложение №2:\n",
        "# Текст с цифрой 1 (один)\n",
        "# Введите предложение №3:\n",
        "# Тут нет цифры\n",
        "# Предложений с цифрой = 1"
      ],
      "metadata": {
        "colab": {
          "base_uri": "https://localhost:8080/"
        },
        "id": "MXz86J1GcrTx",
        "outputId": "06d55769-450b-413a-eee2-b03b44f9c448"
      },
      "execution_count": null,
      "outputs": [
        {
          "output_type": "stream",
          "name": "stdout",
          "text": [
            "Введите количество предложений: 3\n",
            "Введите предложение № 1: Розы, конечно, красивые цветы, но я больше люблю ромашки\n",
            "Введите предложение № 2: На руках и ногах по 5 пальцев\n",
            "Введите предложение № 3: Блаблаблаблабла\n",
            "Предложений с цифрой =  1\n"
          ]
        }
      ]
    },
    {
      "cell_type": "markdown",
      "source": [
        "**№ 5.2.8**\n",
        "\n",
        "Дана строка *s* и символ k. Реализуйте функцию, рисующую рамку из символа k вокруг данной строки, например:\n",
        "\n",
        "![image.png](data:image/png;base64,iVBORw0KGgoAAAANSUhEUgAAAKMAAABVCAYAAAAlp1SEAAAFJ0lEQVR4Ae2cXW7qMBBGu7Qsh+wFFoKyD5RlgNTuIQ9Ivhr/xQk2hFyc2ul5iChubI9nvjk2ZNqv+/2uuPBBCRr4KsEIbCAZRAOIkZ2hmJ0RMSJGxMjWzNY818BLMt6+fxQXPthCA4vEOAyD4sIHuTWAGEm0YkCDGBEjYsyNfMav71gBGSEjZIRc9ZErd8wgI2SEjLmzjPHrIy9khIyQEXLVR67cMYOMkBEy5s4yxq+PvJARMkJGyFUfuXLHDDJCRsiYO8sYvz7y5iXj5aTa8zWSeVfVHU6qj1Hp1qn22Ef6DKo/tqq7xZz8ZDxsiPqyxGTNI0YRVNOq7tKp7tKrU9Oo08WIqD82qjn2qj93qj+3qjl06qpF6e7rVXfuVXdovJCv9j7d53JSTTMKOTkeNli/xpK3zLY8YtTiElo1E+H4bNSCGsXm2wehn/SJEFCLywg5vF//nBwPGx58FduNCmnLI0aoZKhUgh8KEdqSpMgjRucAzmvmvFaCH1xMCn7NK8aCF74kU7ln27MlYiRhivm0jRgRI2JkC9x2C6zB35ARMkLGGjIVG7elN2SEjJAR6mxLnRr8DRkhI2SsIVOxcVt6Q0bI+EfIOH8m6ypvGqnMGS9XXgaJ/pdET+o6K0i6PGR8Uq1iBCe1i5EysQocVmrCJOs6K/JpHjFqBzypJRwSYpyQcyygleJaXzFuaxdDmuriW0daW6xr6iJH+moS+0LeFIFMge+71NYV6Gcp+jXzeVsH5wNrh5/fzuMq2u26zZrkd27ttr/v5+o95/PY9STrOlPrLas9jxhXkTEMwqAGcawNghejHtcFKghAEKwHcsk4LugvKRGxYUFfLXxvg4wRp75fhyTjoVWtFZ1ul/f6TzRGG2TcUdiDGvvL2o1QXVJCxlfBnZ8Z/f2RgNmsdnQJSSZBMO0zIdrKcBeQByHKfG+LMaTp43yxOUQIoQ3hey0SR+3GikuS6tCpTvcz4us8/eV9jHwzytp7wnmNQJfZHFvHb7flIaMXXWobSIgxQSFDhOnfxTjHhYF3bZPXt8UYBDNG4sjapjYExNIJNo7nyWbFeHUJeOwD6hlx9rO+Rmhx4k7WG7Gvlt+XI8bUOXIItydDjZAGmpp+i4yIf2sxhgKWub1txna97co9OvFEuFZg3k4rRrvusb/xw/IjR8QXhQu1IDHaLXW+pU3EOKhBB3t6lppshT74Nhg+yEuCYwQTHhVC4acIM5l/cl4Mt9aT8ltxzCbfNopR5jNjO7qG48lW7tqXrK38e35JjOU7JiW8WPt0m97X2mLrzdWGGD+wdSHGzyQgYvyAGHOR4q+NixgR4x95Nk2giwl0DZSFjCRMMQmDGBEjYqxh28DGz3xKXurHvGRMPpuWL28TX9j6pxOPjuD/MxqfrPJDBTtAHjHqpyT8f0bztOiX/VCBCB0584hRO8A9uooQUB59uQqWmbPM469IQYB9DBh9NpscDxtcoGt4zSNGyMj/Z5xBZkky5BGjM4Qzo/mkWoIfXEwKfs0rxoIXviRTuefxQ2ROnyBGEobvGXNmGGNvS7RP+RsyQkbI+KlsYpw6KRiLG2SEjJAxlhm07Ydya2IJGSEjZFyTOfTZNzkhI2SEjFBu35RbE1/ICBkh45rMoc++aQoZISNkhHL7ptya+EJGyAgZ12QOffZNU8gIGSEjlNs35dbEdxEZb98/igsf5NbASzHe73fFhQ+20ABiJNmKgQ1iRIyIcQvsM0ddxwvICBkhI9Sqi1pbxOsf7kGPCXDBZpwAAAAASUVORK5CYII=)"
      ],
      "metadata": {
        "id": "KxVR4evDf3jQ"
      }
    },
    {
      "cell_type": "code",
      "source": [
        "# Программирование на языке высокого уровня (Python).\n",
        "# https://www.yuripetrov.ru/edu/python\n",
        "# Задание task_05_02_08.\n",
        "#\n",
        "# Выполнила: Вереина М.С.\n",
        "# Группа: адэу-211\n",
        "# E-mail: VereinaMS@mgpu.ru\n",
        "\n",
        "\n",
        "def print_with_border(string, char):\n",
        "    len(string) + 2\n",
        "    print(char * (len(string)+2))\n",
        "    print(char + string + char)\n",
        "    print(char * (len(string)+2))\n",
        "\n",
        "\n",
        "s = input(\"Введите строку: \")\n",
        "k = input(\"Введите символ: \")\n",
        "\n",
        "print_with_border(s,k)\n",
        "# --------------\n",
        "# Пример вывода:\n",
        "#\n",
        "# Введите строку: Просто текст\n",
        "# Введите символ: +\n",
        "# ++++++++++++++\n",
        "# +Просто текст+\n",
        "# ++++++++++++++"
      ],
      "metadata": {
        "colab": {
          "base_uri": "https://localhost:8080/"
        },
        "id": "fH795Njyf3zZ",
        "outputId": "1d60f193-a763-406a-bf73-c17006114407"
      },
      "execution_count": null,
      "outputs": [
        {
          "output_type": "stream",
          "name": "stdout",
          "text": [
            "Введите строку: ПРОСТО ТЕКСТ\n",
            "Введите символ: +\n",
            "++++++++++++++\n",
            "+ПРОСТО ТЕКСТ+\n",
            "++++++++++++++\n"
          ]
        }
      ]
    },
    {
      "cell_type": "markdown",
      "source": [
        "№ 5.2.9\n",
        "\n",
        "Напишите функции для перевода числа ![image.png](data:image/png;base64,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):\n",
        "\n",
        "из 10-й системы счисления в N-ю;\n",
        "\n",
        "из N-й системы счисления в 10-ю."
      ],
      "metadata": {
        "id": "t3iTCPbNiydQ"
      }
    },
    {
      "cell_type": "code",
      "source": [
        "# Программирование на языке высокого уровня (Python).\n",
        "# https://www.yuripetrov.ru/edu/python\n",
        "# Задание task_05_02_09.\n",
        "#\n",
        "# Выполнила: Вереина М.С.\n",
        "# Группа: адэу-211\n",
        "# E-mail: VereinaMS@mgpu.ru\n",
        "\n",
        "\n",
        "LETTERS_EX = {10: \"A\", 11: \"B\", 12: \"C\", 13: \"D\", 14: \"E\", 15: \"F\"}\n",
        "DIGITS_EX = {\"A\": 10, \"B\": 11, \"C\": 12, \"D\": 13, \"E\": 14, \"F\": 15}\n",
        "\n",
        "#Преобразовать десятичное число 'number' в с.с. 'base'.\n",
        "def to_base(number, base):\n",
        "    res = ''\n",
        "    while number >= base:\n",
        "        ost = number % base\n",
        "        if ost > 10:\n",
        "            res = LETTERS_EX[ost] + res\n",
        "        else:\n",
        "            res = str(ost) + res\n",
        "        number = number // base\n",
        "    if number > 10:\n",
        "        res = LETTERS_EX[number] + res\n",
        "    else:\n",
        "        res = str(number) + res\n",
        "    return res\n",
        "\n",
        "\n",
        "def from_base(number, base):\n",
        "    count = 0\n",
        "    res = 0\n",
        "    for letter in reversed(number):\n",
        "        if letter in DIGITS_EX.keys():\n",
        "            i = DIGITS_EX[letter]\n",
        "        else: \n",
        "            i = int(letter)    \n",
        "        res += i * (base ** count)\n",
        "        count += 1\n",
        "\n",
        "    return res\n",
        "\n",
        "print('Перевод десятичного числа 455 в шестнадцатиричную с.с. ', to_base(455, 16))\n",
        "print('Перевод числа 22B из шестнадцатиричной с.с. в десятичную ', from_base('22B', 16))\n",
        "# --------------\n",
        "# Пример вывода:\n",
        "#\n",
        "# Нет"
      ],
      "metadata": {
        "colab": {
          "base_uri": "https://localhost:8080/"
        },
        "id": "M5F42geuiyxC",
        "outputId": "df488b7c-f075-4a99-a5a5-49ffe9abdab5"
      },
      "execution_count": null,
      "outputs": [
        {
          "output_type": "stream",
          "name": "stdout",
          "text": [
            "Перевод десятичного числа 455 в шестнадцатиричную с.с.  1C7\n",
            "Перевод числа 22B из шестнадцатиричной с.с. в десятичную  555\n"
          ]
        }
      ]
    },
    {
      "cell_type": "markdown",
      "source": [
        "**№ 5.2.10**\n",
        "\n",
        "Для введенного предложения выведите статистику *символ=количество*. Регистр букв не учитывается."
      ],
      "metadata": {
        "id": "Jxx3VYteqG_T"
      }
    },
    {
      "cell_type": "code",
      "source": [
        "# Программирование на языке высокого уровня (Python).\n",
        "# https://www.yuripetrov.ru/edu/python\n",
        "# Задание task_05_02_10.\n",
        "#\n",
        "# Выполнила: Вереина М.С.\n",
        "# Группа: адэу-211\n",
        "# E-mail: VereinaMS@mgpu.ru\n",
        "\n",
        "#Вернуть символьную статистику 'sentence'. Регистр не учитывается.\n",
        "def sentence_stats(sentence):\n",
        "  stats = {}\n",
        "  for let in sentence:\n",
        "      let = let.lower()\n",
        "      if let not in stats.keys():\n",
        "        stats[let] = 1\n",
        "      else:\n",
        "        stats[let] += 1\n",
        "  return stats\n",
        "\n",
        "s = input('Введите предложение: ')\n",
        "print(sentence_stats(s))\n",
        "# --------------\n",
        "# Пример вывода:\n",
        "#\n",
        "# Введите предложение: мама МЫла РамУ\n",
        "# {'л': 1, 'р': 1, 'у': 1, 'м': 4, 'а': 4, 'ы': 1, ' ': 2}\n"
      ],
      "metadata": {
        "id": "gM1I6Kp0qHMr",
        "colab": {
          "base_uri": "https://localhost:8080/"
        },
        "outputId": "3df6ab49-f44c-4a9d-fa87-74f50c9e01c3"
      },
      "execution_count": 42,
      "outputs": [
        {
          "output_type": "stream",
          "name": "stdout",
          "text": [
            "Введите предложение: мама МЫла РамУ\n",
            "{'м': 4, 'а': 4, ' ': 2, 'ы': 1, 'л': 1, 'р': 1, 'у': 1}\n"
          ]
        }
      ]
    },
    {
      "cell_type": "markdown",
      "source": [
        "**№ 5.2.16**\n",
        "\n",
        "Составьте две функции для возведения числа в степень: один из вариантов реализуйте в рекурсивном стиле."
      ],
      "metadata": {
        "id": "BCR1_OsAsCgS"
      }
    },
    {
      "cell_type": "code",
      "source": [
        "# Программирование на языке высокого уровня (Python).\n",
        "# https://www.yuripetrov.ru/edu/python\n",
        "# Задание task_05_02_16.\n",
        "#\n",
        "# Выполнила: Вереина М.С.\n",
        "# Группа: адэу-211\n",
        "# E-mail: VereinaMS@mgpu.ru\n",
        "\n",
        "#Вернуть 'value' в степени 'power'.\n",
        "def pow1(value, power):\n",
        "    v=value\n",
        "    p=power\n",
        "    return v**p\n",
        "\n",
        "#Вернуть 'value' в степени 'power'. Рекурсивный алгоритм.\n",
        "def pow2(value, power):\n",
        "    v=value\n",
        "    p=power\n",
        "    if v==0 or v==1:\n",
        "      return v\n",
        "    else:\n",
        "      return (v**p)*pow2(1,1)\n",
        "\n",
        "print(pow1(5, 3))\n",
        "print(pow2(5, 3))\n",
        "\n",
        "# --------------\n",
        "# Пример вывода:\n",
        "#\n",
        "# 125\n",
        "# 125"
      ],
      "metadata": {
        "colab": {
          "base_uri": "https://localhost:8080/"
        },
        "id": "3dVxnPtHsHXK",
        "outputId": "31e56079-f793-439b-8526-648823f017c1"
      },
      "execution_count": 43,
      "outputs": [
        {
          "output_type": "stream",
          "name": "stdout",
          "text": [
            "125\n",
            "125\n"
          ]
        }
      ]
    }
  ]
}